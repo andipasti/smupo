{
  "cells": [
    {
      "cell_type": "markdown",
      "metadata": {
        "id": "view-in-github",
        "colab_type": "text"
      },
      "source": [
        "<a href=\"https://colab.research.google.com/github/andipasti/smupo/blob/main/Ticket_Dynamic_Clustering_05_24_pynb.ipynb\" target=\"_parent\"><img src=\"https://colab.research.google.com/assets/colab-badge.svg\" alt=\"Open In Colab\"/></a>"
      ]
    },
    {
      "cell_type": "markdown",
      "metadata": {
        "id": "DNSHHKfaCvHu"
      },
      "source": [
        "# MASTER THESIS"
      ]
    },
    {
      "cell_type": "markdown",
      "metadata": {
        "id": "e7DxzokNC9D5"
      },
      "source": [
        "### INITIALIZATION"
      ]
    },
    {
      "cell_type": "code",
      "execution_count": 200,
      "metadata": {
        "id": "iAHuRdyoMU_e"
      },
      "outputs": [],
      "source": [
        "#SETTING GLOBALS\n",
        "\n",
        "\n",
        "DF_SMALL = './drive/Othercomputers/X1/code/datas/origin/datas_small.json'\n",
        "DF_MID = './drive/Othercomputers/X1/code/datas/origin/datas_mid.json'\n",
        "DF_LARGE = './drive/Othercomputers/X1/code/datas/origin/datas_large.json'\n",
        "\n",
        "DF_KAGGLE_SMALL = './drive/Othercomputers/X1/code/datas/origin/kaggle_small.csv'\n",
        "DF_KAGGLE_MID = './drive/Othercomputers/X1/code/datas/origin/kaggle_mid.csv'\n",
        "DF_KAGGLE_ALL = './drive/Othercomputers/X1/code/datas/origin/kaggle_all.csv'\n",
        "\n",
        "DF_SMALL_SUM = './drive/Othercomputers/X1/code/datas/reworked/processed_summarization_per_ticket_small.json'\n",
        "DF_MID_SUM = './drive/Othercomputers/X1/code/datas/reworked/processed_summarization_per_ticket_mid.json'\n",
        "DF_LARGE_SUM = './drive/Othercomputers/X1/code/datas/reworked/processed_summarization_per_ticket_large.json'\n",
        "\n",
        "DF_SMALL_KAGGLE_SUM = './drive/Othercomputers/X1/code/datas/reworked/kaggle_processed_summarization_per_ticket_small.json'\n",
        "DF_MID_KAGGLE_SUM = './drive/Othercomputers/X1/code/datas/reworked/kaggle_processed_summarization_per_ticket_mid.json'\n",
        "DF_ALL_KAGGLE_SUM = './drive/Othercomputers/X1/code/datas/reworked/kaggle_processed_summarization_per_ticket_large.json'\n",
        "\n",
        "EMBEDDINGS_SMALL = './drive/Othercomputers/X1/code/datas/embeddings/embeddings-small-initial.npy'\n",
        "EMBEDDINGS_MID = './drive/Othercomputers/X1/code/datas/embeddings/embeddings-mid-initial.npy'\n",
        "EMBEDDINGS_LARGE = './drive/Othercomputers/X1/code/datas/embeddings/embeddings-large-initial.npy'\n",
        "\n",
        "EMBEDDINGS_KAGGLE_SMALL = './drive/Othercomputers/X1/code/datas/embeddings/kaggle_embeddings-small-initial.npy'\n",
        "EMBEDDINGS_KAGGLE_MID = './drive/Othercomputers/X1/code/datas/embeddings/kaggle_mbeddings-mid-initial.npy'\n",
        "EMBEDDINGS_KAGGLE_ALL = './drive/Othercomputers/X1/code/datas/embeddings/kaggle_embeddings-all-initial.npy'\n",
        "\n",
        "EMBEDDINGS_SMALL_UPDATED = './drive/Othercomputers/X1/code/datas/embeddings/embeddings-updated-mid.npy'\n",
        "EMBEDDINGS_MID_UPDATED = './drive/Othercomputers/X1/code/datas/embeddings/embeddings-updated-mid.npy'\n",
        "EMBEDDINGS_LARGE_UPDATED = './drive/Othercomputers/X1/code/datas/embeddings/embeddings-updated-mid.npy'\n",
        "\n",
        "EMBEDDINGS_SMALL_UPDATED = './drive/Othercomputers/X1/code/datas/embeddings/embeddings-updated-mid.npy'\n",
        "EMBEDDINGS_MID_UPDATED = './drive/Othercomputers/X1/code/datas/embeddings/embeddings-updated-mid.npy'\n",
        "EMBEDDINGS_LARGE_UPDATED = './drive/Othercomputers/X1/code/datas/embeddings/embeddings-updated-mid.npy'\n",
        "\n",
        "CLUSTER_DF_PATH = './drive/Othercomputers/X1/code/datas/cluster_df.json'\n",
        "\n",
        "MAX_DISTANCE = 2;\n",
        "\n",
        "\n"
      ]
    },
    {
      "cell_type": "code",
      "source": [
        "# INSTALL NEEDED LIBRARIES\n",
        "!pip install -q openai==0.28\n",
        "!pip install -q umap-learn\n",
        "!pip install -q wordcloud\n",
        "!pip install -q groq"
      ],
      "metadata": {
        "id": "RQ02RQs46d9-",
        "colab": {
          "base_uri": "https://localhost:8080/"
        },
        "outputId": "4d0beb80-8133-4103-a2cb-25266458e5d7"
      },
      "execution_count": 2,
      "outputs": [
        {
          "output_type": "stream",
          "name": "stdout",
          "text": [
            "\u001b[2K     \u001b[90m━━━━━━━━━━━━━━━━━━━━━━━━━━━━━━━━━━━━━━━━\u001b[0m \u001b[32m76.5/76.5 kB\u001b[0m \u001b[31m3.3 MB/s\u001b[0m eta \u001b[36m0:00:00\u001b[0m\n",
            "\u001b[2K     \u001b[90m━━━━━━━━━━━━━━━━━━━━━━━━━━━━━━━━━━━━━━━━\u001b[0m \u001b[32m85.7/85.7 kB\u001b[0m \u001b[31m4.5 MB/s\u001b[0m eta \u001b[36m0:00:00\u001b[0m\n",
            "\u001b[2K     \u001b[90m━━━━━━━━━━━━━━━━━━━━━━━━━━━━━━━━━━━━━━━━\u001b[0m \u001b[32m56.8/56.8 kB\u001b[0m \u001b[31m6.2 MB/s\u001b[0m eta \u001b[36m0:00:00\u001b[0m\n",
            "\u001b[2K     \u001b[90m━━━━━━━━━━━━━━━━━━━━━━━━━━━━━━━━━━━━━━━━\u001b[0m \u001b[32m75.0/75.0 kB\u001b[0m \u001b[31m4.4 MB/s\u001b[0m eta \u001b[36m0:00:00\u001b[0m\n",
            "\u001b[2K     \u001b[90m━━━━━━━━━━━━━━━━━━━━━━━━━━━━━━━━━━━━━━━━\u001b[0m \u001b[32m75.6/75.6 kB\u001b[0m \u001b[31m8.5 MB/s\u001b[0m eta \u001b[36m0:00:00\u001b[0m\n",
            "\u001b[2K     \u001b[90m━━━━━━━━━━━━━━━━━━━━━━━━━━━━━━━━━━━━━━━━\u001b[0m \u001b[32m77.9/77.9 kB\u001b[0m \u001b[31m7.1 MB/s\u001b[0m eta \u001b[36m0:00:00\u001b[0m\n",
            "\u001b[2K     \u001b[90m━━━━━━━━━━━━━━━━━━━━━━━━━━━━━━━━━━━━━━━━\u001b[0m \u001b[32m58.3/58.3 kB\u001b[0m \u001b[31m5.5 MB/s\u001b[0m eta \u001b[36m0:00:00\u001b[0m\n",
            "\u001b[?25h"
          ]
        }
      ]
    },
    {
      "cell_type": "code",
      "source": [
        "# IMPORTS\n",
        "import os\n",
        "import openai\n",
        "import pandas as pd\n",
        "\n",
        "import nltk\n",
        "from nltk.corpus import stopwords\n",
        "from nltk.stem import WordNetLemmatizer\n",
        "from nltk.stem.snowball import SnowballStemmer\n",
        "import re\n",
        "\n",
        "from scipy.cluster.hierarchy import dendrogram, linkage\n",
        "import matplotlib.pyplot as plt\n",
        "import numpy as np\n",
        "from sklearn.cluster import KMeans\n",
        "from sklearn.manifold import TSNE\n",
        "\n",
        "import ipywidgets as widgets\n",
        "\n",
        "from sklearn.metrics.pairwise import euclidean_distances\n",
        "\n",
        "from scipy.cluster.hierarchy import fcluster\n",
        "\n",
        "from sklearn.cluster import DBSCAN\n",
        "from sklearn.preprocessing import StandardScaler\n",
        "\n",
        "from sklearn.cluster import SpectralClustering\n",
        "\n",
        "import umap\n",
        "\n",
        "from sklearn.metrics import silhouette_score, davies_bouldin_score\n",
        "\n",
        "from wordcloud import WordCloud\n",
        "\n",
        "from google.colab import files\n",
        "\n",
        "from sklearn.feature_extraction.text import TfidfVectorizer\n",
        "\n",
        "import plotly.express as px\n",
        "\n",
        "import datetime\n",
        "\n",
        "from IPython.display import display, clear_output\n",
        "\n",
        "from sklearn.decomposition import PCA\n",
        "\n",
        "from google.colab import userdata\n",
        "\n",
        "from groq import Groq\n",
        "\n",
        "from sklearn.metrics import accuracy_score, classification_report, confusion_matrix\n",
        "\n",
        "\n"
      ],
      "metadata": {
        "id": "2rVdhzOmTYlB"
      },
      "execution_count": 84,
      "outputs": []
    },
    {
      "cell_type": "code",
      "execution_count": 4,
      "metadata": {
        "colab": {
          "base_uri": "https://localhost:8080/"
        },
        "id": "-Jgv2mj-CVxL",
        "outputId": "6e28dc47-365e-42fc-a742-3e389c569946",
        "collapsed": true
      },
      "outputs": [
        {
          "output_type": "stream",
          "name": "stderr",
          "text": [
            "[nltk_data] Downloading package punkt to /root/nltk_data...\n",
            "[nltk_data]   Unzipping tokenizers/punkt.zip.\n",
            "[nltk_data] Downloading package stopwords to /root/nltk_data...\n",
            "[nltk_data]   Unzipping corpora/stopwords.zip.\n",
            "[nltk_data] Downloading package wordnet to /root/nltk_data...\n"
          ]
        }
      ],
      "source": [
        "# Download necessary NLTK resources\n",
        "nltk.download('punkt')  # Tokenizers\n",
        "nltk.download('stopwords')  # Stopwords list for English and German\n",
        "nltk.download('wordnet')\n",
        "\n",
        "# Set up stopwords for both German and English\n",
        "stop_words = set(stopwords.words('english')).union(set(stopwords.words('german')))\n"
      ]
    },
    {
      "cell_type": "code",
      "execution_count": 5,
      "metadata": {
        "id": "0dW94RB9B4Iu"
      },
      "outputs": [],
      "source": [
        "# CREATE ACCESS TO SECRETS\n",
        "# Now you can proceed with your code that requires this environment variable\n",
        "os.environ['HUGGINGFACE_TOKEN'] = userdata.get('HUGGINGFACE_TOKEN')"
      ]
    },
    {
      "cell_type": "code",
      "execution_count": 6,
      "metadata": {
        "colab": {
          "base_uri": "https://localhost:8080/"
        },
        "id": "x2usZnsPDTPX",
        "outputId": "67ad0d22-b1f9-4cd6-f788-9ce88cf3fa48"
      },
      "outputs": [
        {
          "output_type": "stream",
          "name": "stdout",
          "text": [
            "DONE\n"
          ]
        }
      ],
      "source": [
        "os.environ['OPENAI_API_KEY'] = userdata.get('OPENAI_API_KEY')\n",
        "print(\"DONE\")"
      ]
    },
    {
      "cell_type": "code",
      "source": [
        "os.environ['GROQ_KEY'] = userdata.get('GROQ_KEY')"
      ],
      "metadata": {
        "id": "keEn-28awpnC"
      },
      "execution_count": 7,
      "outputs": []
    },
    {
      "cell_type": "code",
      "execution_count": 8,
      "metadata": {
        "colab": {
          "base_uri": "https://localhost:8080/"
        },
        "id": "R7fGWY63DT_4",
        "outputId": "d1854351-7667-4ba5-d40e-59a4ab800f0a"
      },
      "outputs": [
        {
          "output_type": "stream",
          "name": "stdout",
          "text": [
            "OpenAI API key is set.\n"
          ]
        }
      ],
      "source": [
        "# CHECKING\n",
        "\n",
        "# Check if the OPENAI_API_KEY environment variable is set\n",
        "if \"OPENAI_API_KEY\" in os.environ:\n",
        "    print(\"OpenAI API key is set.\")\n",
        "else:\n",
        "    print(\"OpenAI API key is not set.\")\n",
        "\n"
      ]
    },
    {
      "cell_type": "code",
      "execution_count": 9,
      "metadata": {
        "id": "8x5_GAVb7BCT",
        "colab": {
          "base_uri": "https://localhost:8080/"
        },
        "outputId": "2b90936e-1c4c-4a27-93e4-b4bef1ae171d"
      },
      "outputs": [
        {
          "output_type": "stream",
          "name": "stdout",
          "text": [
            "Mounted at /content/drive\n"
          ]
        }
      ],
      "source": [
        "# CONNECT TO DRIVE\n",
        "from google.colab import drive\n",
        "drive.mount('/content/drive')"
      ]
    },
    {
      "cell_type": "markdown",
      "metadata": {
        "id": "OmY0vi2TDaUJ"
      },
      "source": [
        "\n",
        "\n",
        "---\n",
        "\n"
      ]
    },
    {
      "cell_type": "markdown",
      "metadata": {
        "id": "LBwl74V5DFtC"
      },
      "source": [
        "### GETTING DATAS AND PREPROCESSING"
      ]
    },
    {
      "cell_type": "code",
      "execution_count": 208,
      "metadata": {
        "id": "jSfkp7fiDYFi"
      },
      "outputs": [],
      "source": [
        "# LOAD DATAS\n",
        "def load_datas(data_key):\n",
        "    print(\"GIIIIIIIIIIII \", data_config[data_key])\n",
        "    if data_key.startswith('kaggle'):\n",
        "        print(\"VALUE: \", data_config[data_key])\n",
        "        #df = pd.read_csv(data_config[data_key], encoding='utf-8', on_bad_lines='skip', sep=';')  # Load from CSV if key starts with 'kaggle'\n",
        "        df = pd.read_csv(data_config[data_key], encoding='utf-8', on_bad_lines='skip', sep=';', errors='ignore')\n",
        "\n",
        "        print(\"DF: \\n \", display(df))\n",
        "    else:\n",
        "        print(\"VALUE : \", data_config[data_key])\n",
        "        df = pd.read_json(data_config[data_key])  # Otherwise, load from JSON\n",
        "    return df"
      ]
    },
    {
      "cell_type": "code",
      "execution_count": 11,
      "metadata": {
        "id": "u0bVk2l_Ddun"
      },
      "outputs": [],
      "source": [
        "def print_column_names(df):\n",
        "  column_names = list(df.columns)\n",
        "  print(column_names)"
      ]
    },
    {
      "cell_type": "code",
      "execution_count": 12,
      "metadata": {
        "id": "sPTyUg0_Dfii"
      },
      "outputs": [],
      "source": [
        "def drop_columns(df, columns):\n",
        "  return df.drop(columns=columns, errors='ignore')"
      ]
    },
    {
      "cell_type": "code",
      "execution_count": 13,
      "metadata": {
        "id": "GNCqVvbEpbZj"
      },
      "outputs": [],
      "source": [
        "def replace_special_signs(df, column):\n",
        "  df[column] = df[column].str.replace(r\"[\\n\\r]\", \" \", regex=True)\n",
        "  df[column] = df[column].str.replace(r\"[^a-zA-Z0-9\\s.,;!?äüöéèà']\", \"\", regex=True)\n",
        "  return df"
      ]
    },
    {
      "cell_type": "code",
      "execution_count": 14,
      "metadata": {
        "id": "MyYaQBSBmeWK"
      },
      "outputs": [],
      "source": [
        "def combine_columns(df, source_cols, new_col_name, separator=\" \"):\n",
        "  df[new_col_name] = df[source_cols].astype(str).agg(separator.join, axis=1)\n",
        "  return df"
      ]
    },
    {
      "cell_type": "markdown",
      "metadata": {
        "id": "najjKVvEyQsq"
      },
      "source": [
        "### RESTRUCTURE TICKET INFORMATION WITH HELP OF LLM"
      ]
    },
    {
      "cell_type": "code",
      "execution_count": 15,
      "metadata": {
        "id": "kv3AfNCjy7Ux"
      },
      "outputs": [],
      "source": [
        "def rework_ticket_description_openai(ticket_text, detailed_instructions, model):\n",
        "    \"\"\"\n",
        "    Reworks a ticket description into a structured summary using the specified GPT model.\n",
        "\n",
        "    :param ticket_text: The text of the ticket.\n",
        "    :param detailed_instructions: Detailed instructions for the model.\n",
        "    :param model: The model identifier to use.\n",
        "    :return: Reworked ticket text.\n",
        "    \"\"\"\n",
        "    openai.api_key = os.getenv(\"OPENAI_API_KEY\")\n",
        "\n",
        "    try:\n",
        "        response = openai.ChatCompletion.create(\n",
        "            model=model,\n",
        "            messages=[\n",
        "                {\"role\": \"system\", \"content\": detailed_instructions},\n",
        "                {\"role\": \"user\", \"content\": ticket_text}\n",
        "            ]\n",
        "        )\n",
        "\n",
        "        if response and 'choices' in response and len(response['choices']) >= 0:\n",
        "            reworked_text = response['choices'][0].get('message', {}).get('content', '')\n",
        "            return reworked_text.strip()\n",
        "        else:\n",
        "            return \"Failed to generate reworked text. No valid response.\"\n",
        "    except Exception as e:\n",
        "        return f\"An error occurred: {str(e)}\""
      ]
    },
    {
      "cell_type": "code",
      "source": [
        "def rework_ticket_description_lama(ticket_text, detailed_instructions, model):\n",
        "    \"\"\"\n",
        "    Reworks a ticket description into a structured summary using the specified GPT model with the Groq API.\n",
        "\n",
        "    :param ticket_text: The text of the ticket.\n",
        "    :param detailed_instructions: Detailed instructions for the model.\n",
        "    :param model: The model identifier to use, like 'llama3-70b-8192'.\n",
        "    :return: Reworked ticket text.\n",
        "    \"\"\"\n",
        "    groq_key = os.getenv('GROQ_KEY')\n",
        "    client = Groq(api_key=groq_key)\n",
        "\n",
        "    # try:\n",
        "    # Creating a chat completion with system and user messages\n",
        "    chat_completion = client.chat.completions.create(\n",
        "        messages=[\n",
        "            {\"role\": \"system\", \"content\": detailed_instructions},\n",
        "            {\"role\": \"user\", \"content\": ticket_text}\n",
        "        ],\n",
        "        model=model\n",
        "    )\n",
        "    print(\"\\n************ ANTWORT *************\\n\", chat_completion.choices[0].message.content)\n",
        "\n",
        "    # Check if the response is successful and has choices\n",
        "    #  if 'choices' in chat_completion and len(chat_completion['choices']) >= 0:\n",
        "    reworked_text = chat_completion.choices[0].message.content\n",
        "    return reworked_text.strip()  # Removes any extra whitespace\n",
        "       # else:\n",
        "        #    return \"Failed to generate reworked text. No valid response.\"\n",
        "    #except Exception as e:\n",
        "    #   return f\"An error occurred: {str(e)}\"\n"
      ],
      "metadata": {
        "id": "xFjXua4wTExK"
      },
      "execution_count": 16,
      "outputs": []
    },
    {
      "cell_type": "code",
      "source": [],
      "metadata": {
        "id": "Eu0Sahg18pIJ"
      },
      "execution_count": 16,
      "outputs": []
    },
    {
      "cell_type": "code",
      "execution_count": 17,
      "metadata": {
        "id": "CC9TX39JDs6w"
      },
      "outputs": [],
      "source": [
        "def rework_ticket_information(file_path, df, detailed_instructions, model=\"gpt-3.5-turbo\"):\n",
        "    \"\"\"\n",
        "    Check if a processed file exists. If not, process the tickets using the specified model and save the new data.\n",
        "\n",
        "    :param file_path: Path to the processed file.\n",
        "    :param df: DataFrame containing the ticket descriptions.\n",
        "    :param detailed_instructions: Instructions for GPT model summarization.\n",
        "    :param model: The model identifier to use.\n",
        "    \"\"\"\n",
        "\n",
        "    # Check which API to use based on the model prefix\n",
        "    if model.startswith(\"llama\"):\n",
        "        # Use the Groq API\n",
        "        rework_function = rework_ticket_description_lama\n",
        "    elif model.startswith(\"gpt\"):\n",
        "        # Use the OpenAI API\n",
        "        rework_function = rework_ticket_description_openai\n",
        "    else:\n",
        "        print(\"Invalid model identifier provided.\")\n",
        "        print(\"MODEL \", model)\n",
        "        return df\n",
        "\n",
        "    if not os.path.exists(file_path):\n",
        "        print(\"NO FILE\")\n",
        "        # If the file does not exist, apply the function to rework ticket descriptions\n",
        "        df['reworked_information'] = df['combined_text'].apply(lambda x: rework_function(x, detailed_instructions, model))\n",
        "        df.to_json(file_path, orient='records', lines=True)\n",
        "        print(\"Processed new data and saved to file.\")\n",
        "    else:\n",
        "        print(\"FILE EXISTS\")\n",
        "        # Load the existing file if it already exists\n",
        "        df = pd.read_json(file_path, lines=True)\n",
        "        print(\"File exists. Loaded existing data.\")\n",
        "\n",
        "    return df"
      ]
    },
    {
      "cell_type": "code",
      "execution_count": 17,
      "metadata": {
        "id": "kHzdJsnIFyYM"
      },
      "outputs": [],
      "source": [
        "\n"
      ]
    },
    {
      "cell_type": "markdown",
      "metadata": {
        "id": "peYs16m3EhmV"
      },
      "source": [
        "## CREATE EMBEDDING"
      ]
    },
    {
      "cell_type": "code",
      "execution_count": 18,
      "metadata": {
        "id": "-qivnbJ8Vdaj",
        "colab": {
          "base_uri": "https://localhost:8080/",
          "height": 164
        },
        "outputId": "2a57020a-c5fc-4c18-db90-b0cda452e302"
      },
      "outputs": [
        {
          "output_type": "execute_result",
          "data": {
            "text/plain": [
              "'\\n\\ndef get_embeddings_impl(texts, embeddings_file_path):\\n  \"\"\"\\n  Retrieves or generates embeddings for a list of texts using OpenAI\\'s API and stores/retrieves them from a file.\\n\\n  :param texts: List of text strings to embed.\\n  :param embeddings_file_path: Path to save or load the embeddings numpy file.\\n  :return: Numpy array of embeddings.\\n  \"\"\"\\n  # Explicitly set the OpenAI API key\\n  openai.api_key = os.getenv(\"OPENAI_API_KEY\")\\n\\n  if not os.path.exists(embeddings_file_path):\\n      if not texts:\\n          raise ValueError(\"Texts list is empty, no embeddings to generate.\")\\n\\n      embeddings = []\\n      for text in texts:\\n          response = openai.Embedding.create(\\n              input=text,\\n              engine=\"text-embedding-ada-002\"\\n          )\\n          if \\'data\\' in response and response[\\'data\\']:\\n              embeddings.append(response[\\'data\\'][0][\\'embedding\\'])\\n          else:\\n              embeddings.append(np.zeros(1024))  # Assuming embedding size of 1024, adjust as necessary\\n\\n      # Save the embeddings if any were successfully generated\\n      np.save(embeddings_file_path, embeddings)\\n  else:\\n      embeddings = np.load(embeddings_file_path)\\n      print(\"EMBEDDING read: \", embeddings.shape)\\n\\n  embeddings_array = np.array(embeddings)\\n  if embeddings_array.ndim != 2:\\n      raise ValueError(f\"Expected 2D array for embeddings, got shape {embeddings_array.shape}\")\\n\\n  return embeddings_array\\n\\n\\n'"
            ],
            "application/vnd.google.colaboratory.intrinsic+json": {
              "type": "string"
            }
          },
          "metadata": {},
          "execution_count": 18
        }
      ],
      "source": [
        "# USE OPENAI MODEL TO CREATE EMBEDDINGS OUT OF REWORKED INFORMATION\n",
        "\n",
        "# Function to get embeddings from OpenAI\n",
        "\n",
        "def get_embeddings_impl(texts, embeddings_file_path):\n",
        "\n",
        "  # Explicitly set the OpenAI API key\n",
        "  openai.api_key = os.getenv(\"OPENAI_API_KEY\")\n",
        "\n",
        "  if not os.path.exists(embeddings_file_path):\n",
        "    embeddings = []\n",
        "    for text in texts:\n",
        "        response = openai.Embedding.create(\n",
        "            input=text,\n",
        "            engine=\"text-embedding-ada-002\"\n",
        "        )\n",
        "        embeddings.append(response['data'][0]['embedding'])\n",
        "\n",
        "    # save:\n",
        "    np.save(embeddings_file_path, embeddings)\n",
        "  else:\n",
        "    embeddings = np.load(embeddings_file_path)\n",
        "\n",
        "  return np.array(embeddings)\n",
        "\n",
        "'''\n",
        "\n",
        "def get_embeddings_impl(texts, embeddings_file_path):\n",
        "  \"\"\"\n",
        "  Retrieves or generates embeddings for a list of texts using OpenAI's API and stores/retrieves them from a file.\n",
        "\n",
        "  :param texts: List of text strings to embed.\n",
        "  :param embeddings_file_path: Path to save or load the embeddings numpy file.\n",
        "  :return: Numpy array of embeddings.\n",
        "  \"\"\"\n",
        "  # Explicitly set the OpenAI API key\n",
        "  openai.api_key = os.getenv(\"OPENAI_API_KEY\")\n",
        "\n",
        "  if not os.path.exists(embeddings_file_path):\n",
        "      if not texts:\n",
        "          raise ValueError(\"Texts list is empty, no embeddings to generate.\")\n",
        "\n",
        "      embeddings = []\n",
        "      for text in texts:\n",
        "          response = openai.Embedding.create(\n",
        "              input=text,\n",
        "              engine=\"text-embedding-ada-002\"\n",
        "          )\n",
        "          if 'data' in response and response['data']:\n",
        "              embeddings.append(response['data'][0]['embedding'])\n",
        "          else:\n",
        "              embeddings.append(np.zeros(1024))  # Assuming embedding size of 1024, adjust as necessary\n",
        "\n",
        "      # Save the embeddings if any were successfully generated\n",
        "      np.save(embeddings_file_path, embeddings)\n",
        "  else:\n",
        "      embeddings = np.load(embeddings_file_path)\n",
        "      print(\"EMBEDDING read: \", embeddings.shape)\n",
        "\n",
        "  embeddings_array = np.array(embeddings)\n",
        "  if embeddings_array.ndim != 2:\n",
        "      raise ValueError(f\"Expected 2D array for embeddings, got shape {embeddings_array.shape}\")\n",
        "\n",
        "  return embeddings_array\n",
        "\n",
        "\n",
        "'''"
      ]
    },
    {
      "cell_type": "markdown",
      "metadata": {
        "id": "30CUT37DImGB"
      },
      "source": [
        "TODO:  \n",
        "- different models\n",
        "- optimize preprocessing (normalize, stopwords, lemmatization,...)\n",
        "- fine-tuning embeddings /hybrid approach (using z.b randomForest after clustering)\n",
        "- dimensionality reduction (PCA f.e.)\n"
      ]
    },
    {
      "cell_type": "markdown",
      "metadata": {
        "id": "S8ckKNThE5tT"
      },
      "source": [
        "## CREATE CLUSTERS V1\n",
        "\n",
        "### WARD"
      ]
    },
    {
      "cell_type": "code",
      "execution_count": 18,
      "metadata": {
        "id": "h8ACXwP7m5yI"
      },
      "outputs": [],
      "source": [
        "\n"
      ]
    },
    {
      "cell_type": "code",
      "source": [
        "def plot_dendrogram(Z, title='Hierarchical Clustering Dendrogram', xlabel='Sample index or (Cluster size)', ylabel='Distance'):\n",
        "    \"\"\"\n",
        "    Plot a dendrogram to visualize hierarchical clustering results.\n",
        "\n",
        "    :param Z: Linkage matrix from hierarchical clustering.\n",
        "    :param title: Title of the dendrogram.\n",
        "    :param xlabel: Label for the x-axis.\n",
        "    :param ylabel: Label for the y-axis.\n",
        "    \"\"\"\n",
        "    if Z is None:\n",
        "        print(\"No linkage matrix provided for plotting.\")\n",
        "        return\n",
        "\n",
        "    plt.figure(figsize=(25, 10))\n",
        "    dendrogram(\n",
        "        Z,\n",
        "        leaf_rotation=90.,  # rotates the x axis labels\n",
        "        leaf_font_size=8.,  # font size for the x axis labels\n",
        "    )\n",
        "    plt.title(title)\n",
        "    plt.xlabel(xlabel)\n",
        "    plt.ylabel(ylabel)\n",
        "    plt.show()\n"
      ],
      "metadata": {
        "id": "IEUdu04hS7_K"
      },
      "execution_count": 19,
      "outputs": []
    },
    {
      "cell_type": "markdown",
      "source": [
        "### DBSCAN"
      ],
      "metadata": {
        "id": "2eJVGbEUQZhJ"
      }
    },
    {
      "cell_type": "code",
      "execution_count": 20,
      "metadata": {
        "id": "ijRAk70d-Azf"
      },
      "outputs": [],
      "source": [
        "# Optional: Plot clusters if you wish to visualize\n",
        "# plot_clusters_with_umap(matrix, clusters)\n",
        "\n",
        "\n",
        "def plot_clusters(matrix, clusters):\n",
        "    # Perform dimensionality reduction for visualization if it's not 2D\n",
        "    tsne = TSNE(n_components=2, random_state=42)\n",
        "    matrix_2d = tsne.fit_transform(matrix)\n",
        "\n",
        "    plt.figure(figsize=(10, 8))\n",
        "    scatter = plt.scatter(matrix_2d[:, 0], matrix_2d[:, 1], c=clusters, cmap='viridis')\n",
        "    plt.colorbar(scatter)\n",
        "    plt.title('DBSCAN Clustering Visualization')\n",
        "    plt.xlabel('TSNE Dimension 1')\n",
        "    plt.ylabel('TSNE Dimension 2')\n",
        "    plt.show()\n"
      ]
    },
    {
      "cell_type": "code",
      "execution_count": 21,
      "metadata": {
        "id": "nbE_G5lzbKme"
      },
      "outputs": [],
      "source": [
        "# Assuming 'matrix' is your embeddings matrix obtained from get_openai_embeddings function\n",
        "def perform_kmeans_clustering(embeddings, num_clusters):\n",
        "    print(\"im kmeans clustering\")\n",
        "    print(\"Embeddings shape:\", embeddings.shape)\n",
        "    print(\"Number of embeddings (samples):\", embeddings.shape[0])\n",
        "    print(\"Dimensions per embedding (features):\", embeddings.shape[1])\n",
        "    kmeans = KMeans(n_clusters=num_clusters, init='k-means++', random_state=42)\n",
        "    clusters = kmeans.fit_predict(embeddings)\n",
        "    print(\"ende kmeans clustering\", clusters)\n",
        "    return clusters\n"
      ]
    },
    {
      "cell_type": "code",
      "source": [
        "def perform_dbscan_clustering(matrix, eps=0.5, min_samples=5):\n",
        "    print(\"im dbscan clustering\")\n",
        "    dbscan = DBSCAN(eps=eps, min_samples=min_samples)\n",
        "    clusters = dbscan.fit_predict(matrix)\n",
        "    return clusters\n"
      ],
      "metadata": {
        "id": "nEMNY9IfnmDQ"
      },
      "execution_count": 22,
      "outputs": []
    },
    {
      "cell_type": "code",
      "source": [
        "def perform_spectral_clustering(matrix, n_clusters):\n",
        "    print(\"im spectral clustering\")\n",
        "    spectral = SpectralClustering(n_clusters=n_clusters, affinity='nearest_neighbors',\n",
        "                                  assign_labels='kmeans', random_state=42)\n",
        "    clusters = spectral.fit_predict(matrix)\n",
        "    return clusters\n"
      ],
      "metadata": {
        "id": "CTslVfmWTvMG"
      },
      "execution_count": 23,
      "outputs": []
    },
    {
      "cell_type": "code",
      "execution_count": 24,
      "metadata": {
        "id": "FF70HCiixtAY"
      },
      "outputs": [],
      "source": [
        "def perform_hierarchical_clustering(matrix, num_clusters, method='ward'):\n",
        "    print(\"im hierachical clustering\")\n",
        "    Z = linkage(matrix, method=method)\n",
        "    clusters = fcluster(Z, num_clusters, criterion='maxclust')\n",
        "    return clusters"
      ]
    },
    {
      "cell_type": "markdown",
      "metadata": {
        "id": "nrJIlT6BFXeC"
      },
      "source": [
        "### CHECK HOW MANY CLUSTERS WOULD BE USEFUL (KMEANS)"
      ]
    },
    {
      "cell_type": "code",
      "execution_count": 25,
      "metadata": {
        "id": "cd3gKlbhm7II"
      },
      "outputs": [],
      "source": [
        "def calculate_wcss(matrix, max_clusters=10):\n",
        "    \"\"\"\n",
        "    Calculate the Within-Cluster Sum of Squares (WCSS) for different numbers of clusters in K-Means.\n",
        "\n",
        "    :param matrix: 2D numpy array of data points.\n",
        "    :param max_clusters: Maximum number of clusters to test.\n",
        "    :return: List of WCSS values.\n",
        "    \"\"\"\n",
        "    wcss = []\n",
        "    for i in range(1, max_clusters + 1):\n",
        "        kmeans = KMeans(n_clusters=i, init='k-means++', max_iter=300, n_init=15, random_state=0)\n",
        "        kmeans.fit(matrix)\n",
        "        wcss.append(kmeans.inertia_)\n",
        "    return wcss\n"
      ]
    },
    {
      "cell_type": "code",
      "source": [
        "'''\n",
        "def determine_optimal_clusters_elbow(matrix, max_clusters=10):\n",
        "    # Handle potential NaN values robustly\n",
        "    if np.isnan(matrix).any():\n",
        "        print(\"Matrix contains NaN values. Consider removing or imputing these values.\")\n",
        "        matrix = np.nan_to_num(matrix, nan=np.nanmean(matrix, axis=0))\n",
        "\n",
        "    # Ensure it's a 2D array suitable for KMeans\n",
        "    if len(matrix.shape) == 1:\n",
        "        matrix = matrix.reshape(-1, 1)\n",
        "\n",
        "    wcss = []\n",
        "    for i in range(1, max_clusters + 1):\n",
        "        kmeans = KMeans(n_clusters=i, init='k-means++', max_iter=300, n_init=10, random_state=42)\n",
        "        kmeans.fit(matrix)\n",
        "        wcss.append(kmeans.inertia_)\n",
        "\n",
        "    # Plot WCSS to see the elbow\n",
        "    plt.plot(range(1, max_clusters + 1), wcss)\n",
        "    plt.title('Elbow Method')\n",
        "    plt.xlabel('Number of clusters')\n",
        "    plt.ylabel('WCSS')\n",
        "    plt.show()\n",
        "\n",
        "    # Calculate the second derivative of the WCSS\n",
        "    # The first derivative shows the rate of change between each point\n",
        "    # The second derivative shows the change in the rate of change\n",
        "    second_derivative = np.diff(wcss, 2)\n",
        "\n",
        "    # The elbow is typically considered where the second derivative is minimum\n",
        "    elbow_point = np.argmin(second_derivative) + 2  # +2 because np.diff reduces the array size by 1 each time\n",
        "\n",
        "    return elbow_point\n",
        "'''\n",
        "\n",
        "\n",
        "def determine_optimal_clusters_elbow(matrix, max_clusters=10, threshold=-25):  # Adjusted threshold\n",
        "    if np.isnan(matrix).any():\n",
        "        matrix = np.nan_to_num(matrix, nan=np.nanmean(matrix, axis=0))\n",
        "\n",
        "    if len(matrix.shape) == 1:\n",
        "        matrix = matrix.reshape(-1, 1)\n",
        "\n",
        "    wcss = []\n",
        "    for i in range(1, max_clusters + 1):\n",
        "        kmeans = KMeans(n_clusters=i, init='k-means++', max_iter=300, n_init=10, random_state=42)\n",
        "        kmeans.fit(matrix)\n",
        "        wcss.append(kmeans.inertia_)\n",
        "\n",
        "    plt.plot(range(1, max_clusters + 1), wcss)\n",
        "    plt.title('Elbow Method')\n",
        "    plt.xlabel('Number of clusters')\n",
        "    plt.ylabel('WCSS')\n",
        "    plt.show()\n",
        "\n",
        "    # Calculate the percentage change in WCSS\n",
        "    percentage_change = np.diff(wcss) / wcss[:-1] * 100\n",
        "    print(\"Percentage changes:\", percentage_change)\n",
        "\n",
        "    # Find where the percentage change is less than the threshold\n",
        "    indices = np.where(percentage_change > threshold)[0]\n",
        "    if indices.size > 0:\n",
        "        elbow_point = indices[0] + 1  # Changed to catch the first significant change\n",
        "    else:\n",
        "        elbow_point = 1  # Default to 1 cluster if no changes meet the threshold\n",
        "\n",
        "    return elbow_point\n",
        "\n",
        "\n"
      ],
      "metadata": {
        "id": "KA3Zhos5T3wo"
      },
      "execution_count": 26,
      "outputs": []
    },
    {
      "cell_type": "code",
      "execution_count": 26,
      "metadata": {
        "id": "qFciMxR4agAu"
      },
      "outputs": [],
      "source": []
    },
    {
      "cell_type": "code",
      "source": [
        "def visualize_umap(embeddings, clusters):\n",
        "    umap_reducer = umap.UMAP()\n",
        "    umap_result = umap_reducer.fit_transform(embeddings)\n",
        "    plt.figure(figsize=(10, 6))\n",
        "    scatter = plt.scatter(umap_result[:, 0], umap_result[:, 1], c=clusters, cmap='viridis', alpha=0.7)\n",
        "    plt.colorbar(scatter)\n",
        "    plt.title('UMAP Visualization of Clusters')\n",
        "    plt.xlabel('UMAP Feature 1')\n",
        "    plt.ylabel('UMAP Feature 2')\n",
        "    plt.show()"
      ],
      "metadata": {
        "id": "IfmYE1iKVF4y"
      },
      "execution_count": 27,
      "outputs": []
    },
    {
      "cell_type": "code",
      "execution_count": 28,
      "metadata": {
        "id": "ooqwllfp5iH9"
      },
      "outputs": [],
      "source": [
        "def clean_text(text):\n",
        "    \"\"\"\n",
        "    Cleans text by removing specific unwanted words and filtering out non-alphabetical characters.\n",
        "\n",
        "    :param text: Text to be cleaned.\n",
        "    :return: Cleaned text as a string.\n",
        "    \"\"\"\n",
        "    if not isinstance(text, str):\n",
        "        return \"\"  # Return empty string if text is not a string\n",
        "\n",
        "    # List of specific unwanted words\n",
        "    unwanted_words = ['reported problem', 'ticket', 'summary', 'affected systems', 'issue']\n",
        "    pattern = r'\\b(?:' + '|'.join(unwanted_words) + r')\\b'\n",
        "\n",
        "    text = text.lower()\n",
        "    text = re.sub(pattern, '', text)\n",
        "\n",
        "    words = nltk.word_tokenize(text)\n",
        "    words = [word for word in words if word not in stop_words and word.isalpha()]\n",
        "\n",
        "    return ' '.join(words)\n",
        "\n",
        "\n",
        "\n",
        "\n",
        "\n",
        "def clean_datas(df, column_name):\n",
        "    \"\"\"\n",
        "    Applies text cleaning to a specified column in the DataFrame and updates the column directly.\n",
        "\n",
        "    :param df: DataFrame containing the data.\n",
        "    :param column_name: Name of the column to clean.\n",
        "    :return: DataFrame with cleaned text in the same column.\n",
        "    \"\"\"\n",
        "    df[column_name + '_cleaned'] = df[column_name].apply(clean_text)\n",
        "    return df\n"
      ]
    },
    {
      "cell_type": "markdown",
      "metadata": {
        "id": "nVj9le13Uot-"
      },
      "source": [
        "CHECKPOINT 1: EVALUATE CLUSTERING"
      ]
    },
    {
      "cell_type": "code",
      "source": [],
      "metadata": {
        "id": "fLORVenjQu9P"
      },
      "execution_count": 28,
      "outputs": []
    },
    {
      "cell_type": "code",
      "source": [
        "def plot_clusters_with_umap(matrix, clusters, title):\n",
        "    umap_reducer = umap.UMAP(random_state=42)\n",
        "    umap_result = umap_reducer.fit_transform(matrix)\n",
        "    plt.figure(figsize=(10, 6))\n",
        "    scatter = plt.scatter(umap_result[:, 0], umap_result[:, 1], c=clusters, cmap='viridis')\n",
        "    plt.colorbar(scatter)\n",
        "    plt.title(title)\n",
        "    plt.xlabel('UMAP Feature 1')\n",
        "    plt.ylabel('UMAP Feature 2')\n",
        "    plt.show()\n"
      ],
      "metadata": {
        "id": "oRsUnH70QyHi"
      },
      "execution_count": 29,
      "outputs": []
    },
    {
      "cell_type": "code",
      "source": [],
      "metadata": {
        "id": "SRHWnr4cQ0Dp"
      },
      "execution_count": 29,
      "outputs": []
    },
    {
      "cell_type": "code",
      "execution_count": 29,
      "metadata": {
        "id": "YqQjUjPAUumK"
      },
      "outputs": [],
      "source": [
        "\n"
      ]
    },
    {
      "cell_type": "code",
      "execution_count": 29,
      "metadata": {
        "id": "yff6ERg0b01k"
      },
      "outputs": [],
      "source": [
        "\n"
      ]
    },
    {
      "cell_type": "code",
      "execution_count": 29,
      "metadata": {
        "id": "yCmic5nZXI9d"
      },
      "outputs": [],
      "source": []
    },
    {
      "cell_type": "code",
      "execution_count": 30,
      "metadata": {
        "id": "KFgdBQM-U0x0"
      },
      "outputs": [],
      "source": [
        "# Davies-Bouldin Index"
      ]
    },
    {
      "cell_type": "markdown",
      "metadata": {
        "id": "Ej180bnULQF3"
      },
      "source": [
        "SHOWING IN A WORD CLOUD - CLUSTERS"
      ]
    },
    {
      "cell_type": "code",
      "execution_count": 30,
      "metadata": {
        "id": "WUmX6uWZLPaP"
      },
      "outputs": [],
      "source": []
    },
    {
      "cell_type": "code",
      "execution_count": 30,
      "metadata": {
        "id": "PNmOjtIDu05P"
      },
      "outputs": [],
      "source": []
    },
    {
      "cell_type": "code",
      "execution_count": 31,
      "metadata": {
        "id": "yS5N9k8xLXa6"
      },
      "outputs": [],
      "source": [
        "def generate_wordclouds_for_algorithm(df, text_column, algorithm_label_column):\n",
        "    unique_clusters = df[algorithm_label_column].unique()\n",
        "    for cluster_num in unique_clusters:\n",
        "        cluster_text = df[df[algorithm_label_column] == cluster_num][text_column].values\n",
        "        text_data = \" \".join(cluster_text)\n",
        "        wordcloud = WordCloud(width=800, height=400, background_color='white').generate(text_data)\n",
        "        plt.figure(figsize=(10, 5))\n",
        "        plt.imshow(wordcloud, interpolation='bilinear')\n",
        "        plt.axis(\"off\")\n",
        "        plt.title(f'Word Cloud for {algorithm_label_column.capitalize()} Cluster {cluster_num}')\n",
        "        plt.show()\n",
        "\n"
      ]
    },
    {
      "cell_type": "code",
      "execution_count": 32,
      "metadata": {
        "id": "6CO44BupiShP"
      },
      "outputs": [],
      "source": [
        "from sklearn.feature_extraction.text import TfidfVectorizer\n",
        "\n",
        "def generate_cluster_labels(df):\n",
        "    unique_clusters = np.unique(df['cluster_label'])\n",
        "    labels = []\n",
        "    print(\"CLUSTERS IN GENERATE CLUSTER FUNC \", unique_clusters)\n",
        "    for cluster_num in unique_clusters:\n",
        "\n",
        "        cluster_data = df[df['cluster_label'] == cluster_num]\n",
        "\n",
        "        tfidf_vectorizer = TfidfVectorizer(stop_words='english')\n",
        "        tfidf_matrix = tfidf_vectorizer.fit_transform(cluster_data['cleaned_information'])\n",
        "        terms = np.array(tfidf_vectorizer.get_feature_names_out())[tfidf_matrix.sum(axis=0).argsort()[0, ::-1]].flat[:5]\n",
        "        label = ', '.join(terms)\n",
        "        labels.append(label)\n",
        "        print(f\"Cluster {cluster_num} label: {label}\")\n",
        "    return labels\n"
      ]
    },
    {
      "cell_type": "code",
      "execution_count": 33,
      "metadata": {
        "id": "XY840vaXHZ-m"
      },
      "outputs": [],
      "source": [
        "def create_gpt3_labels(top_words_list):\n",
        "    cluster_labels = []\n",
        "    # Join the list of top words into a single string to be included in the prompt\n",
        "    prompt = f\"Generate a succinct, maximum three-word label for a cluster of topics related to a school management web application. The topics in this cluster include: {top_words_list}. This data includes user interactions from teachers and scholars managing grades, timetables, school news, enrolments, and absences. Consider the environment includes systems like VDI, Zimbra mails, and native apps focused on educational activities. Aim for labels that would clearly categorize issues or features for easy ticket classification.\"\n",
        "\n",
        "    response = openai.ChatCompletion.create(\n",
        "        model=\"gpt-3.5-turbo\",\n",
        "        messages=[\n",
        "            {\"role\": \"system\", \"content\": prompt},\n",
        "            {\"role\": \"user\", \"content\": top_words_list}  # Pass the concatenated string of words\n",
        "        ]\n",
        "    )\n",
        "    new_label = response['choices'][0]['message']['content'].strip()\n",
        "    cluster_labels.append(new_label)\n",
        "    return cluster_labels\n",
        "\n"
      ]
    },
    {
      "cell_type": "code",
      "source": [
        "import openai\n",
        "\n",
        "def create_gpt3_labels_KAGGLE(top_words_list):\n",
        "    cluster_labels = []\n",
        "    # Convert list of top words into a single string\n",
        "    top_words_str = ', '.join(top_words_list)\n",
        "\n",
        "    # List your predefined labels\n",
        "    labels_list = [\"Billing inquiry\", \"Product inquiry\", \"Technical issue\", \"Account access\", \"Cancellation request\"]\n",
        "    labels_str = ', '.join(labels_list)\n",
        "\n",
        "    prompt = (f\"Given the cluster of topics: {top_words_str}, return the category name \"\n",
        "          f\"from the following options that best fits these topics: {labels_str}. Just state the category name.\")\n",
        "\n",
        "    response = openai.ChatCompletion.create(\n",
        "      model=\"gpt-3.5-turbo\",\n",
        "      messages=[\n",
        "          {\"role\": \"system\", \"content\": prompt},\n",
        "          {\"role\": \"user\", \"content\": \"Please categorize the above topics.\"}\n",
        "      ]\n",
        "    )\n",
        "    new_label = response.choices[0].message.content.strip()\n",
        "\n",
        "    cluster_labels.append(new_label)\n",
        "\n",
        "\n",
        "    return cluster_labels\n"
      ],
      "metadata": {
        "id": "W8rU1XuTjzXf"
      },
      "execution_count": 34,
      "outputs": []
    },
    {
      "cell_type": "code",
      "execution_count": 35,
      "metadata": {
        "id": "D1mbKxmWHxDA"
      },
      "outputs": [],
      "source": [
        "def generate_wordclouds(df, text_column, label_column):\n",
        "    \"\"\"\n",
        "    Generates and displays word clouds for each cluster.\n",
        "\n",
        "    :param df: DataFrame containing the cluster labels and text data.\n",
        "    :param text_column: Name of the column in df that contains the text data.\n",
        "    :param label_column: Name of the column in df that contains the cluster labels.\n",
        "    \"\"\"\n",
        "    unique_clusters = df[label_column].unique()\n",
        "    for cluster in unique_clusters:\n",
        "        cluster_text = \" \".join(df[df[label_column] == cluster][text_column].dropna())\n",
        "        wordcloud = WordCloud(width=400, height=200, background_color='white').generate(cluster_text)\n",
        "        plt.figure(figsize=(10, 5))\n",
        "        plt.imshow(wordcloud, interpolation='bilinear')\n",
        "        plt.axis(\"off\")\n",
        "        plt.title(f\"Word Cloud for Cluster {cluster}\")\n",
        "        plt.show()\n"
      ]
    },
    {
      "cell_type": "code",
      "execution_count": 35,
      "metadata": {
        "id": "wJdAcuyStmda"
      },
      "outputs": [],
      "source": []
    },
    {
      "cell_type": "markdown",
      "metadata": {
        "id": "3rfMxWQR8ehQ"
      },
      "source": [
        "## CATEGORIZING NEW TICKETS TO ONE OF THE CLUSTERS WITHOUT THE NEED OF DOING THE WHOLE CLUSTERSTUFF ETC AGAIN"
      ]
    },
    {
      "cell_type": "code",
      "execution_count": 36,
      "metadata": {
        "id": "a6mC3W6kLOJU"
      },
      "outputs": [],
      "source": [
        "def plot_umap(embeddings, cluster_labels, new_ticket_index):\n",
        "    reducer = umap.UMAP()\n",
        "    embedding_2d = reducer.fit_transform(embeddings)\n",
        "    plt.scatter(embedding_2d[:, 0], embedding_2d[:, 1], c=cluster_labels, cmap='Spectral', alpha=0.6)\n",
        "    plt.scatter(embedding_2d[new_ticket_index, 0], embedding_2d[new_ticket_index, 1], c='red', s=100, edgecolors='k')  # Highlight new ticket\n",
        "    plt.title(\"UMAP Projection of Ticket Embeddings\")\n",
        "    plt.colorbar()\n",
        "    plt.show()"
      ]
    },
    {
      "cell_type": "code",
      "execution_count": 37,
      "metadata": {
        "id": "n4w5-xAkrxxc"
      },
      "outputs": [],
      "source": [
        "def check_new_ticket(embeddings, reworked_ticket_text, df, update_path, threshold=0.5):\n",
        "    print(\"Starting check_new_ticket...\")\n",
        "\n",
        "    # get last embedding\n",
        "    new_embedding = embeddings[-1]\n",
        "    all_embeddings_exept_last = embeddings[:-1]\n",
        "\n",
        "    # Check if the DataFrame is empty or the existing_embeddings are insufficient\n",
        "    if df.empty or len(embeddings) <= 1:  # Ensure there's at least one existing ticket besides the new one\n",
        "        print(\"No existing tickets to compare or DataFrame is empty.\")\n",
        "        new_label = 0  # Starting with a new cluster if no valid data exists\n",
        "    else:\n",
        "        # Exclude the new embedding which is presumably the last one added\n",
        "        print(new_embedding)\n",
        "        # Calculate distances to all existing embeddings\n",
        "        distances = euclidean_distances([new_embedding], all_embeddings_exept_last)\n",
        "        min_distance = distances.min()\n",
        "\n",
        "        print(\"Distance: \", distances.min())\n",
        "        # Decide on the cluster label based on distance\n",
        "        if min_distance > threshold:\n",
        "          print(\"NEUES CLUSTER\")\n",
        "          new_label = df['cluster_label'].max() + 1 if not df.empty else 0\n",
        "          #new_label = 0\n",
        "          print(f\"Assigning new cluster label: {new_label}\")\n",
        "        else:\n",
        "            print(\"BESTEHENDES CLUSTER\")\n",
        "            closest_index = distances.argmin()\n",
        "            print(\"CLOSEST INDEX: \", closest_index)\n",
        "            if closest_index < len(df):\n",
        "                new_label = df.iloc[closest_index]['cluster_label']\n",
        "                #new_label = 0\n",
        "                print(f\"Assigning existing cluster label: {new_label}\")\n",
        "            else:\n",
        "                print(f\"Error: Closest index {closest_index} out of bounds for DataFrame of length {len(df)}\")\n",
        "                return df, None  # Return None if there's an index error\n",
        "\n",
        "    # Append the new ticket's data as a new row to the DataFrame\n",
        "\n",
        "    df.loc[len(df)-1, 'cluster_label'] =  new_label\n",
        "\n",
        "    new_ticket_index = df.index[-1]  # Get the index of the newly added ticket\n",
        "    return df, new_ticket_index"
      ]
    },
    {
      "cell_type": "code",
      "execution_count": 38,
      "metadata": {
        "id": "ER20SqhMr0aB"
      },
      "outputs": [],
      "source": [
        "def get_openai_embeddings_addon(texts):\n",
        "    new_embeddings = []\n",
        "    for text in texts:\n",
        "        response = openai.Embedding.create(input=text, engine=\"text-embedding-ada-002\")\n",
        "        new_embeddings.append(response['data'][0]['embedding'])\n",
        "\n",
        "    new_embeddings_array = np.array(new_embeddings)\n",
        "\n",
        "    # only one dim?\n",
        "    if new_embeddings_array.ndim == 1:\n",
        "        new_embeddings_array = new_embeddings_array.reshape(1, -1)\n",
        "\n",
        "    return new_embeddings_array\n"
      ]
    },
    {
      "cell_type": "markdown",
      "metadata": {
        "id": "hijF2duoztdt"
      },
      "source": [
        "## CREATE ANOTHER TICKET AND RECLUSTER IT"
      ]
    },
    {
      "cell_type": "code",
      "execution_count": 39,
      "metadata": {
        "id": "Gw40kkhx81WU",
        "collapsed": true,
        "colab": {
          "base_uri": "https://localhost:8080/",
          "height": 164
        },
        "outputId": "f1e65157-4688-4335-e0a5-9eac628e3ab8"
      },
      "outputs": [
        {
          "output_type": "execute_result",
          "data": {
            "text/plain": [
              "'\\nnew_ticket = \"eine gurke kommt plötzlich aus meinem handy anstelle einer banane.\"\\n\\nreworked_ticket_text = rework_ticket_description_with_gptturbo(new_ticket)\\nprint(f\"Length of existing_embeddings: {len(embeddings)}\")\\nprint(f\"Number of rows in df: {len(df)}\")\\ndf.loc[len(df), [\\'issue_title\\', \\'reworked_information\\', \\'cleaned_information\\']] = [\"MY TEST TITLE FOR NEW ISSUES\", reworked_ticket_text, reworked_ticket_text]\\n\\n\\nnew_embeddings = get_openai_embeddings([reworked_ticket_text], initial_path, update_path)[-1]\\n\\n# Combine new embeddings with existing ones\\nnew_embeddings = np.array(new_embeddings)\\nembeddings = np.vstack([embeddings, new_embeddings]) if embeddings.size else new_embeddings\\n\\n# Save updated embeddings\\nnp.save(update_path, embeddings)\\nprint(f\"Length of existing_embeddings: {len(embeddings)}\")\\nprint(f\"Number of rows in df: {len(df)}\")\\n\\n#embeddings = np.load(update_path)[:-2]\\n#embeddings = np.load(update_path)[:-1]\\nprint(f\"Length of existing_embeddings: {len(embeddings)}\")\\n'"
            ],
            "application/vnd.google.colaboratory.intrinsic+json": {
              "type": "string"
            }
          },
          "metadata": {},
          "execution_count": 39
        }
      ],
      "source": [
        "'''\n",
        "initial_path = EMBEDDINGS_MID\n",
        "update_path = EMBEDDINGS_MID_UPDATED\n",
        "new_ticket = \"eine gurke kommt plötzlich aus meinem handy anstelle einer banane.\"\n",
        "\n",
        "reworked_ticket_text = rework_ticket_description_with_gptturbo(new_ticket)\n",
        "print(f\"Length of existing_embeddings: {len(embeddings)}\")\n",
        "print(f\"Number of rows in df: {len(df)}\")\n",
        "df.loc[len(df), ['issue_title', 'reworked_information', 'cleaned_information']] = [\"MY TEST TITLE FOR NEW ISSUES\", reworked_ticket_text, reworked_ticket_text]\n",
        "\n",
        "\n",
        "new_embeddings = get_openai_embeddings_addon([reworked_ticket_text], initial_path, update_path)[-1]\n",
        "\n",
        "# Combine new embeddings with existing ones\n",
        "new_embeddings = np.array(new_embeddings)\n",
        "embeddings = np.vstack([embeddings, new_embeddings]) if embeddings.size else new_embeddings\n",
        "\n",
        "# Save updated embeddings\n",
        "np.save(update_path, embeddings)\n",
        "print(f\"Length of existing_embeddings: {len(embeddings)}\")\n",
        "print(f\"Number of rows in df: {len(df)}\")\n",
        "\n",
        "#embeddings = np.load(update_path)[:-2]\n",
        "#embeddings = np.load(update_path)[:-1]\n",
        "print(f\"Length of existing_embeddings: {len(embeddings)}\")\n",
        "'''\n",
        "\n",
        "'''\n",
        "new_ticket = \"eine gurke kommt plötzlich aus meinem handy anstelle einer banane.\"\n",
        "\n",
        "reworked_ticket_text = rework_ticket_description_with_gptturbo(new_ticket)\n",
        "print(f\"Length of existing_embeddings: {len(embeddings)}\")\n",
        "print(f\"Number of rows in df: {len(df)}\")\n",
        "df.loc[len(df), ['issue_title', 'reworked_information', 'cleaned_information']] = [\"MY TEST TITLE FOR NEW ISSUES\", reworked_ticket_text, reworked_ticket_text]\n",
        "\n",
        "\n",
        "new_embeddings = get_openai_embeddings([reworked_ticket_text], initial_path, update_path)[-1]\n",
        "\n",
        "# Combine new embeddings with existing ones\n",
        "new_embeddings = np.array(new_embeddings)\n",
        "embeddings = np.vstack([embeddings, new_embeddings]) if embeddings.size else new_embeddings\n",
        "\n",
        "# Save updated embeddings\n",
        "np.save(update_path, embeddings)\n",
        "print(f\"Length of existing_embeddings: {len(embeddings)}\")\n",
        "print(f\"Number of rows in df: {len(df)}\")\n",
        "\n",
        "#embeddings = np.load(update_path)[:-2]\n",
        "#embeddings = np.load(update_path)[:-1]\n",
        "print(f\"Length of existing_embeddings: {len(embeddings)}\")\n",
        "'''"
      ]
    },
    {
      "cell_type": "code",
      "execution_count": 39,
      "metadata": {
        "id": "hzVXwUoLaVEu"
      },
      "outputs": [],
      "source": []
    },
    {
      "cell_type": "code",
      "execution_count": 40,
      "metadata": {
        "id": "-XDFzwwIGVtX",
        "colab": {
          "base_uri": "https://localhost:8080/",
          "height": 35
        },
        "outputId": "83ffab5d-6e88-491c-bb52-cb7c0ed4d612"
      },
      "outputs": [
        {
          "output_type": "execute_result",
          "data": {
            "text/plain": [
              "'\\nprint(f\"Length of existing_embeddings: {len(embeddings)}\")\\nprint(f\"Number of rows in df: {len(df)}\")\\n'"
            ],
            "application/vnd.google.colaboratory.intrinsic+json": {
              "type": "string"
            }
          },
          "metadata": {},
          "execution_count": 40
        }
      ],
      "source": [
        "'''\n",
        "print(f\"Length of existing_embeddings: {len(embeddings)}\")\n",
        "print(f\"Number of rows in df: {len(df)}\")\n",
        "'''"
      ]
    },
    {
      "cell_type": "code",
      "execution_count": 40,
      "metadata": {
        "id": "YxjfkEc7P7SC"
      },
      "outputs": [],
      "source": []
    },
    {
      "cell_type": "code",
      "execution_count": 41,
      "metadata": {
        "id": "i3G07cGGZ_tE"
      },
      "outputs": [],
      "source": [
        "#df = df.drop(len(df)-1)\n",
        "#embeddings = np.load(update_path)[:-1]"
      ]
    },
    {
      "cell_type": "code",
      "execution_count": 42,
      "metadata": {
        "id": "NwuHAyLkFF68"
      },
      "outputs": [],
      "source": [
        "#print(reworked_ticket_text)"
      ]
    },
    {
      "cell_type": "code",
      "execution_count": 43,
      "metadata": {
        "id": "yGyVypXhFAzX",
        "colab": {
          "base_uri": "https://localhost:8080/",
          "height": 54
        },
        "outputId": "740f83f9-bc41-405f-feba-108cac7bec54"
      },
      "outputs": [
        {
          "output_type": "execute_result",
          "data": {
            "text/plain": [
              "'\\n# Call the check_new_ticket function\\ndf, new_ticket_index = check_new_ticket(embeddings, reworked_ticket_text, df, update_path)\\n\\n'"
            ],
            "application/vnd.google.colaboratory.intrinsic+json": {
              "type": "string"
            }
          },
          "metadata": {},
          "execution_count": 43
        }
      ],
      "source": [
        "'''\n",
        "# Call the check_new_ticket function\n",
        "df, new_ticket_index = check_new_ticket(embeddings, reworked_ticket_text, df, update_path)\n",
        "\n",
        "'''"
      ]
    },
    {
      "cell_type": "code",
      "execution_count": 44,
      "metadata": {
        "id": "dgTIeqxeKoGY",
        "colab": {
          "base_uri": "https://localhost:8080/",
          "height": 35
        },
        "outputId": "53aeaa1d-7579-48cf-aff7-e8c62b57358e"
      },
      "outputs": [
        {
          "output_type": "execute_result",
          "data": {
            "text/plain": [
              "\"\\nplot_umap(embeddings, df['cluster_label'], new_ticket_index)\\n\""
            ],
            "application/vnd.google.colaboratory.intrinsic+json": {
              "type": "string"
            }
          },
          "metadata": {},
          "execution_count": 44
        }
      ],
      "source": [
        "'''\n",
        "plot_umap(embeddings, df['cluster_label'], new_ticket_index)\n",
        "'''"
      ]
    },
    {
      "cell_type": "code",
      "execution_count": 44,
      "metadata": {
        "id": "_xaY97q2NOWj"
      },
      "outputs": [],
      "source": []
    },
    {
      "cell_type": "code",
      "execution_count": 44,
      "metadata": {
        "id": "Y9YSKhdbCAUw"
      },
      "outputs": [],
      "source": []
    },
    {
      "cell_type": "code",
      "execution_count": 44,
      "metadata": {
        "id": "-SrJoJMJebuP"
      },
      "outputs": [],
      "source": []
    },
    {
      "cell_type": "code",
      "execution_count": 45,
      "metadata": {
        "id": "umLmBqL3ekDW"
      },
      "outputs": [],
      "source": [
        "def plot_umap_updated(embeddings, cluster_labels):\n",
        "    # Initialize UMAP\n",
        "    print(\"LABELS: \", cluster_labels)\n",
        "    reducer = umap.UMAP(random_state=42)\n",
        "    # Transform the embeddings to 2D for visualization\n",
        "    embedding_2d = reducer.fit_transform(embeddings)\n",
        "\n",
        "    # Create a scatter plot\n",
        "    plt.figure(figsize=(10, 7))\n",
        "    scatter = plt.scatter(embedding_2d[:, 0], embedding_2d[:, 1], c=cluster_labels, cmap='Spectral', s=50, alpha=0.6)\n",
        "    plt.colorbar(scatter)\n",
        "    plt.title('UMAP Projection of Clusters')\n",
        "    plt.xlabel('UMAP Dimension 1')\n",
        "    plt.ylabel('UMAP Dimension 2')\n",
        "    plt.show()\n",
        "\n"
      ]
    },
    {
      "cell_type": "code",
      "execution_count": 46,
      "metadata": {
        "id": "PywjdVuuxeia"
      },
      "outputs": [],
      "source": [
        "def plot_umap_interactive(embeddings, cluster_ids, titles):\n",
        "    # Initialize UMAP\n",
        "    reducer = umap.UMAP(random_state=42)\n",
        "    embedding_2d = reducer.fit_transform(embeddings)\n",
        "\n",
        "    # Create a DataFrame for the Plotly scatter plot\n",
        "    df_plot = pd.DataFrame({\n",
        "        'UMAP Dimension 1': embedding_2d[:, 0],\n",
        "        'UMAP Dimension 2': embedding_2d[:, 1],\n",
        "        'Cluster': [label_map[cid] for cid in cluster_ids],\n",
        "        'Title': titles\n",
        "    })\n",
        "\n",
        "    # Create a scatter plot\n",
        "    fig = px.scatter(df_plot, x='UMAP Dimension 1', y='UMAP Dimension 2',\n",
        "                     color='Cluster', labels={'color': 'Cluster Label'},\n",
        "                     hover_data=['Title'],\n",
        "                     title='UMAP Projection of Clusters')\n",
        "    fig.update_traces(marker=dict(size=12, line=dict(width=2, color='DarkSlateGrey')), selector=dict(mode='markers'))\n",
        "    fig.show()\n",
        "\n"
      ]
    },
    {
      "cell_type": "code",
      "execution_count": 46,
      "metadata": {
        "id": "9dwMsxhOxiWq"
      },
      "outputs": [],
      "source": []
    },
    {
      "cell_type": "markdown",
      "metadata": {
        "id": "EewTY5c_dPWw"
      },
      "source": [
        "**3. Adaptability and accuracy of the system**\n",
        "Goal: Without manual intervention, the system should not only correctly categorize new tickets with\n",
        "new content, but also adapt the ticket categories accordingly.\n",
        "Deliverable: A real-time classification engine that adapts to new data in real time. This module is\n",
        "further developed through transfer learning."
      ]
    },
    {
      "cell_type": "code",
      "execution_count": 47,
      "metadata": {
        "id": "1LRMVaKNS82n"
      },
      "outputs": [],
      "source": [
        "from sklearn.manifold import TSNE\n",
        "\n",
        "def plot_tsne(embeddings, cluster_labels):\n",
        "    # Initialize t-SNE\n",
        "    tsne = TSNE(n_components=2, random_state=42)\n",
        "    # Transform the embeddings to 2D\n",
        "    embedding_2d = tsne.fit_transform(embeddings)\n",
        "\n",
        "    # Plotting\n",
        "    plt.figure(figsize=(10, 7))\n",
        "    scatter = plt.scatter(embedding_2d[:, 0], embedding_2d[:, 1], c=cluster_labels, cmap='Spectral', s=50, alpha=0.6)\n",
        "    plt.colorbar(scatter)\n",
        "    plt.title('t-SNE Projection of Clusters')\n",
        "    plt.xlabel('t-SNE Dimension 1')\n",
        "    plt.ylabel('t-SNE Dimension 2')\n",
        "    plt.show()\n",
        "\n",
        "\n"
      ]
    },
    {
      "cell_type": "markdown",
      "source": [
        "# PLAYGROUND"
      ],
      "metadata": {
        "id": "_6habOqNQNYr"
      }
    },
    {
      "cell_type": "code",
      "source": [],
      "metadata": {
        "id": "CLAC7FkvQPdF"
      },
      "execution_count": 47,
      "outputs": []
    },
    {
      "cell_type": "code",
      "source": [
        "def compute_clustering_metrics(matrix, labels):\n",
        "    # Check if there is more than one unique cluster and less than the length of the dataset\n",
        "    if len(set(labels)) > 1 and len(set(labels)) < len(matrix):\n",
        "        silhouette = silhouette_score(matrix, labels)\n",
        "        davies = davies_bouldin_score(matrix, labels)\n",
        "    else:\n",
        "        silhouette, davies = -1, -1  # Use -1 to indicate an invalid clustering evaluation\n",
        "    return silhouette, davies\n"
      ],
      "metadata": {
        "id": "cbEurNGifxkS"
      },
      "execution_count": 48,
      "outputs": []
    },
    {
      "cell_type": "code",
      "source": [
        "def main_clustering_and_evaluation(matrix, num_clusters):\n",
        "    dbscan_clusters = perform_dbscan_clustering(matrix)\n",
        "    hierarchical_clusters = perform_hierarchical_clustering(matrix, num_clusters)\n",
        "    kmeans_clusters = perform_kmeans_clustering(matrix, num_clusters)\n",
        "    spectral_clusters = perform_spectral_clustering(matrix, num_clusters)\n",
        "\n",
        "    evaluate_clusters(matrix,\n",
        "                  dbscan=dbscan_clusters,\n",
        "                  hierarchical=hierarchical_clusters,\n",
        "                  kmeans=kmeans_clusters,\n",
        "                  spectral=spectral_clusters)\n"
      ],
      "metadata": {
        "id": "pdYSrHvLoZ1o"
      },
      "execution_count": 49,
      "outputs": []
    },
    {
      "cell_type": "code",
      "source": [
        "def load_data(config_key):\n",
        "    return load_datas(config_key)"
      ],
      "metadata": {
        "id": "_X5CAV67_YiU"
      },
      "execution_count": 87,
      "outputs": []
    },
    {
      "cell_type": "code",
      "source": [],
      "metadata": {
        "id": "FOf-5YfO_4Vv"
      },
      "execution_count": 50,
      "outputs": []
    },
    {
      "cell_type": "code",
      "source": [
        "def preprocess_data(df, data_key):\n",
        "  if not data_key.startswith('kaggle'):\n",
        "    df = drop_columns(df, ['journal_id', 'journal_created_on', 'journal_author', 'journal_notes', 'issue_id'])\n",
        "    df = replace_special_signs(df, 'issue_description')\n",
        "    df = combine_columns(df, ['issue_title', 'issue_description'], 'combined_text')\n",
        "  else:\n",
        "    print(\"********* KAGGLE ***********\")\n",
        "\n",
        "    df_train = df[['Ticket ID', 'Ticket Type']]\n",
        "    print(display(df_train))\n",
        "    df['combined_text'] = df['Ticket Subject'] + \"\\n\\n\" + df['Ticket Description']\n",
        "\n",
        "    df = df.loc[:, ['Ticket ID', 'combined_text']]\n",
        "\n",
        "  return df, df_train"
      ],
      "metadata": {
        "id": "hdZ599TB_dYN"
      },
      "execution_count": 118,
      "outputs": []
    },
    {
      "cell_type": "code",
      "source": [],
      "metadata": {
        "id": "PZ8abipYHYTR"
      },
      "execution_count": 118,
      "outputs": []
    },
    {
      "cell_type": "code",
      "source": [],
      "metadata": {
        "id": "wPU49_APFSlZ"
      },
      "execution_count": 118,
      "outputs": []
    },
    {
      "cell_type": "code",
      "source": [
        "def rework_datas(df, file_path_sum, model):\n",
        "  detailed_instructions = (\"You are a highly capable technical supporter. For each issue, provide a summary \"\n",
        "                          \"categorized under the following headers:\\n\"\n",
        "                          \"- Issue: [Specify the type of issue e.g., Support, IT-Systems, Development]\\n\"\n",
        "                          \"- Affected Systems: [List affected systems e.g., VDI, Email Servers, etc.]\\n\"\n",
        "                          \"- Reported Problem: [Describe the reported problem e.g., no connection, slow performance, etc.]\")\n",
        "\n",
        "  df = rework_ticket_information(file_path_sum, df, detailed_instructions, model)\n",
        "  df.head()\n",
        "  return df"
      ],
      "metadata": {
        "id": "g0AzruyE_de0"
      },
      "execution_count": 119,
      "outputs": []
    },
    {
      "cell_type": "code",
      "source": [
        "def reduce_dimensions(embeddings, n_components=50):\n",
        "    \"\"\"\n",
        "    Apply dimensionality reduction to the embeddings.\n",
        "\n",
        "    :param embeddings: The original high-dimensional embeddings.\n",
        "    :param n_components: The number of dimensions to reduce to.\n",
        "    :return: The reduced dimensionality embeddings.\n",
        "    \"\"\"\n",
        "    pca = PCA(n_components=n_components, random_state=42)\n",
        "    reduced_embeddings = pca.fit_transform(embeddings)\n",
        "    print(f\"Reduced embeddings from {embeddings.shape[1]} to {n_components} dimensions.\")\n",
        "    return reduced_embeddings\n"
      ],
      "metadata": {
        "id": "oLlKws4GhFh6"
      },
      "execution_count": 120,
      "outputs": []
    },
    {
      "cell_type": "code",
      "source": [
        "def extract_top_words_per_cluster_all_algorithms(df, text_column, cluster_label_columns):\n",
        "    top_words_all_algorithms = {}\n",
        "\n",
        "    for cluster_label_column in cluster_label_columns:\n",
        "        print(f\"Processing {cluster_label_column}\")\n",
        "        unique_clusters = df[cluster_label_column].unique()\n",
        "        top_words_per_cluster = {}\n",
        "\n",
        "        for cluster_num in unique_clusters:\n",
        "            cluster_data = df[df[cluster_label_column] == cluster_num][text_column].dropna()\n",
        "            if cluster_data.empty:\n",
        "                top_words_per_cluster[cluster_num] = []\n",
        "                continue\n",
        "\n",
        "            tfidf_vectorizer = TfidfVectorizer(stop_words='english')\n",
        "            tfidf_matrix = tfidf_vectorizer.fit_transform(cluster_data)\n",
        "            feature_array = np.array(tfidf_vectorizer.get_feature_names_out())\n",
        "            tfidf_sorting = np.argsort(tfidf_matrix.toarray()).flatten()[::-1]\n",
        "\n",
        "            top_n = 5\n",
        "            top_words = feature_array[tfidf_sorting][:top_n]\n",
        "            top_words_per_cluster[cluster_num] = top_words.tolist()\n",
        "\n",
        "        top_words_all_algorithms[cluster_label_column] = top_words_per_cluster\n",
        "\n",
        "    return top_words_all_algorithms\n"
      ],
      "metadata": {
        "id": "ZNjUPk9A-P6Q"
      },
      "execution_count": 121,
      "outputs": []
    },
    {
      "cell_type": "code",
      "source": [
        "def get_embeddings(df, embedding_key):\n",
        "  texts = df['reworked_information'].tolist()\n",
        "  embeddings = get_embeddings_impl(texts, embedding_key)\n",
        "  return embeddings"
      ],
      "metadata": {
        "id": "lqQc5BfK_dzt"
      },
      "execution_count": 122,
      "outputs": []
    },
    {
      "cell_type": "code",
      "source": [
        "def determine_cluster_count(embeddings):\n",
        "  num_clusters = determine_optimal_clusters_elbow(embeddings)\n",
        "  return num_clusters"
      ],
      "metadata": {
        "id": "PT-qsyyqXLZX"
      },
      "execution_count": 123,
      "outputs": []
    },
    {
      "cell_type": "code",
      "source": [
        "def get_cluster_data(df, embeddings, num_clusters, algorithms):\n",
        "  algorithm_functions = {\n",
        "      'dbscan': perform_dbscan_clustering,\n",
        "      'hierarchical': lambda m, n: perform_hierarchical_clustering(m, n),\n",
        "      'kmeans': lambda m, n: perform_kmeans_clustering(m, n),\n",
        "      'spectral': lambda m, n: perform_spectral_clustering(m, n)\n",
        "  }\n",
        "\n",
        "  results = {}\n",
        "\n",
        "  for algo in algorithms:\n",
        "      if algo in algorithm_functions:\n",
        "          print(\"ALGO. \", algo)\n",
        "          if algo == 'dbscan':  # DBSCAN does not use num_clusters\n",
        "              clusters = algorithm_functions[algo](embeddings)\n",
        "          else:\n",
        "              clusters = algorithm_functions[algo](embeddings, num_clusters)\n",
        "\n",
        "          df[f'{algo}_label'] = clusters\n",
        "          results[algo] = clusters\n",
        "          print(f\"Completed {algo} clustering.\")\n",
        "\n",
        "  return results"
      ],
      "metadata": {
        "id": "0nbP3euG_d4b"
      },
      "execution_count": 124,
      "outputs": []
    },
    {
      "cell_type": "code",
      "source": [
        "def visualize_clusters(embeddings, cluster_results):\n",
        "    for algo, clusters in cluster_results.items():\n",
        "        title = f'{algo.capitalize()} Clustering with UMAP'\n",
        "        plot_clusters_with_umap(embeddings, clusters, title)"
      ],
      "metadata": {
        "id": "SSz-RZ5jbT6y"
      },
      "execution_count": 125,
      "outputs": []
    },
    {
      "cell_type": "code",
      "source": [
        "def evaluate_clusters(matrix, **cluster_labels):\n",
        "    for name, labels in cluster_labels.items():\n",
        "        silhouette, davies = compute_clustering_metrics(matrix, labels)\n",
        "        print(f\"{name} Silhouette: {silhouette}, {name} Davies-Bouldin: {davies}\")"
      ],
      "metadata": {
        "id": "QU8pPBLd_viH"
      },
      "execution_count": 126,
      "outputs": []
    },
    {
      "cell_type": "code",
      "source": [
        "def compare_cluster_overlap(df, label1, label2):\n",
        "    from sklearn.metrics import confusion_matrix\n",
        "    import seaborn as sns\n",
        "\n",
        "    mat = confusion_matrix(df[label1], df[label2])\n",
        "    sns.heatmap(mat, annot=True, fmt='d', cmap='Blues')\n",
        "    plt.xlabel(label2)\n",
        "    plt.ylabel(label1)\n",
        "    plt.title('Cluster Overlap Heatmap')\n",
        "    plt.show()"
      ],
      "metadata": {
        "id": "We7jJzDh0Ft_"
      },
      "execution_count": 127,
      "outputs": []
    },
    {
      "cell_type": "code",
      "source": [
        "def generate_wordclouds(df, text_column, cluster_label_column):\n",
        "    unique_clusters = df[cluster_label_column].unique()\n",
        "    for cluster_num in unique_clusters:\n",
        "        cluster_text = df[df[cluster_label_column] == cluster_num][text_column].values\n",
        "        # Concatenate all text data for this cluster to a single string\n",
        "        text_data = \" \".join(cluster_text)\n",
        "        wordcloud = WordCloud(width=800, height=400, background_color='white').generate(text_data)\n",
        "        plt.figure(figsize=(10, 5))\n",
        "        plt.imshow(wordcloud, interpolation='bilinear')\n",
        "        plt.axis(\"off\")\n",
        "        plt.title(f'Word Cloud for Cluster {cluster_num}')\n",
        "        plt.show()"
      ],
      "metadata": {
        "id": "nt25RAYkyIO-"
      },
      "execution_count": 128,
      "outputs": []
    },
    {
      "cell_type": "code",
      "source": [
        "\n"
      ],
      "metadata": {
        "id": "nzyKe3KU_vn3"
      },
      "execution_count": 128,
      "outputs": []
    },
    {
      "cell_type": "code",
      "execution_count": 201,
      "metadata": {
        "id": "WJX9_BHRTPzM"
      },
      "outputs": [],
      "source": [
        "data_config = {\n",
        "    'small': DF_SMALL,\n",
        "    'mid': DF_MID,\n",
        "    'large': DF_LARGE,\n",
        "    'kaggle small': DF_KAGGLE_SMALL,\n",
        "    'kaggle mid': DF_KAGGLE_MID,\n",
        "    'kaggle all': DF_KAGGLE_ALL,\n",
        "}\n",
        "\n",
        "data_summarization_config = {\n",
        "    'small': DF_SMALL_SUM,\n",
        "    'mid': DF_MID_SUM,\n",
        "    'large': DF_LARGE_SUM,\n",
        "    'kaggle small': DF_SMALL_KAGGLE_SUM,\n",
        "    'kaggle mid': DF_MID_KAGGLE_SUM,\n",
        "    'kaggle small': DF_ALL_KAGGLE_SUM,\n",
        "}\n",
        "\n",
        "embedding_config = {\n",
        "    'small_initial': EMBEDDINGS_SMALL,\n",
        "    'mid_initial': EMBEDDINGS_MID,\n",
        "    'large_initial': EMBEDDINGS_LARGE,\n",
        "    'kaggle_small_initial': EMBEDDINGS_KAGGLE_SMALL,\n",
        "    'kaggle_mid_initial': EMBEDDINGS_KAGGLE_MID,\n",
        "    'kaggle_all_initial': EMBEDDINGS_KAGGLE_ALL,\n",
        "}\n",
        "\n",
        "model_config = {\n",
        "    'OpenAI': 'gpt-3.5-turbo',\n",
        "    'LAMA': 'llama3-70b-8192',\n",
        "}\n",
        "\n",
        "clustering_config = {\n",
        "    'dbscan': perform_dbscan_clustering,\n",
        "    'kmeans': perform_kmeans_clustering,\n",
        "    'ward': perform_hierarchical_clustering,\n",
        "    'spectral': perform_spectral_clustering,\n",
        "}\n"
      ]
    },
    {
      "cell_type": "markdown",
      "source": [
        "#TESTING"
      ],
      "metadata": {
        "id": "TeiqbO79gva0"
      }
    },
    {
      "cell_type": "code",
      "source": [
        "#df = rework_datas(df, file_path_sum, 'gpt-3.5-turbo')"
      ],
      "metadata": {
        "id": "AoUi_OGVf82j"
      },
      "execution_count": 130,
      "outputs": []
    },
    {
      "cell_type": "code",
      "source": [
        "#df"
      ],
      "metadata": {
        "id": "1r__vBQBAGsw"
      },
      "execution_count": 131,
      "outputs": []
    },
    {
      "cell_type": "code",
      "source": [
        "#clean_datas(df, 'reworked_information')"
      ],
      "metadata": {
        "id": "puvfgFO9airn"
      },
      "execution_count": 132,
      "outputs": []
    },
    {
      "cell_type": "code",
      "source": [
        "#embeddings = get_embeddings(df, EMBEDDINGS_MID)"
      ],
      "metadata": {
        "id": "_4p6rVduggLp"
      },
      "execution_count": 133,
      "outputs": []
    },
    {
      "cell_type": "code",
      "source": [
        "#embeddings = reduce_dimensions(embeddings, n_components)"
      ],
      "metadata": {
        "id": "4YQdka_GFCq_"
      },
      "execution_count": 134,
      "outputs": []
    },
    {
      "cell_type": "code",
      "source": [
        "#cluster_count = determine_cluster_count(embeddings)"
      ],
      "metadata": {
        "id": "d8ViRoMajTOU"
      },
      "execution_count": 135,
      "outputs": []
    },
    {
      "cell_type": "code",
      "source": [
        "#print(cluster_count)"
      ],
      "metadata": {
        "id": "uiar124pX213"
      },
      "execution_count": 136,
      "outputs": []
    },
    {
      "cell_type": "code",
      "source": [
        "#dbscan_clusters, hierarchical_clusters, kmeans_clusters, spectral_clusters = get_cluster_data(embeddings, cluster_count)"
      ],
      "metadata": {
        "id": "r1H1pUHlZlA4"
      },
      "execution_count": 137,
      "outputs": []
    },
    {
      "cell_type": "code",
      "source": [
        "#visualize_clusters(embeddings, dbscan_clusters, hierarchical_clusters, kmeans_clusters, spectral_clusters)"
      ],
      "metadata": {
        "id": "mt8JVYyNQiQU"
      },
      "execution_count": 138,
      "outputs": []
    },
    {
      "cell_type": "code",
      "source": [
        "#main_clustering_and_evaluation(embeddings, cluster_count)"
      ],
      "metadata": {
        "id": "N6ihHqa3ah2g"
      },
      "execution_count": 139,
      "outputs": []
    },
    {
      "cell_type": "code",
      "source": [],
      "metadata": {
        "id": "1pARd5Ns7R3O"
      },
      "execution_count": 139,
      "outputs": []
    },
    {
      "cell_type": "code",
      "source": [],
      "metadata": {
        "id": "39XR9zO28eVR"
      },
      "execution_count": 139,
      "outputs": []
    },
    {
      "cell_type": "markdown",
      "source": [
        "Visualization Discrepancy: UMAP reduces dimensionality for visualization and sometimes can make clusters appear more separated than they are in high-dimensional space. The clustering algorithms use the high-dimensional space where clusters might not be as clear-cut."
      ],
      "metadata": {
        "id": "Ja9OYgapd2ID"
      }
    },
    {
      "cell_type": "markdown",
      "source": [
        "so it will be because of the dimensionality reduction i assume. my datas are complex and there is no structure in it. so an overlapping is clear. Im just surprised, why it's quite clear separated in umap but not in score then...\n",
        "if silhouette uses the whole complexitiy (no dim reduction) and umap uses dim reduction. i assume this will be the reason and this would make even sense.\n",
        "without reduction, they can be quite similar the tickets. but if ouy reduce the dims, there maybe get a clearer view of what the real differencies are."
      ],
      "metadata": {
        "id": "Xb18mx6iesoQ"
      }
    },
    {
      "cell_type": "code",
      "source": [
        "# Define the file path\n",
        "file_path = CLUSTER_DF_PATH\n",
        "\n",
        "def file_exists(file_path):\n",
        "    return os.path.exists(file_path)\n",
        "\n",
        "def load_file_to_cluster_df(file_path):\n",
        "    return pd.read_json(file_path)\n",
        "\n",
        "def save_to_drive(df, file_path):\n",
        "    df.to_json(file_path, orient='records', lines=True)\n",
        "    print(f\"Data saved to {file_path}\")"
      ],
      "metadata": {
        "id": "TiR_weGBuznN"
      },
      "execution_count": 202,
      "outputs": []
    },
    {
      "cell_type": "code",
      "source": [
        "#Metrics\n",
        "'''\n",
        "def metrics_KAGGLE(df, df_train, cluster_df):\n",
        "  merged_df = pd.merge(df_train, df[['Ticket ID', 'kmeans_label']], on='Ticket ID')\n",
        "  print(\"MERGED: \", display(merged_df))\n",
        "  # Calculate accuracy\n",
        "  accuracy = accuracy_score(merged_df['Ticket Type'], merged_df['kmeans_label'])\n",
        "  print(\"Accuracy:\", accuracy)\n",
        "\n",
        "'''\n",
        "\n",
        "\n",
        "\n",
        "\n",
        "def metrics_KAGGLE(df, df_train, cluster_df):\n",
        "    # Ensure that 'kmeans_label' in df and 'Cluster' in cluster_df are of the same type for accurate merging\n",
        "    df['kmeans_label'] = df['kmeans_label'].astype(int)\n",
        "    cluster_df['Cluster'] = cluster_df['Cluster'].astype(int)\n",
        "\n",
        "    # Merge df_train with df to add 'kmeans_label' to df_train\n",
        "    merged_df = pd.merge(df_train, df[['Ticket ID', 'kmeans_label']], on='Ticket ID')\n",
        "\n",
        "    # Merge with cluster_df to add 'GPT_Label' based on the 'Cluster' which corresponds to 'kmeans_label'\n",
        "    merged_df = pd.merge(merged_df, cluster_df[['Cluster', 'GPT_Label']], left_on='kmeans_label', right_on='Cluster')\n",
        "\n",
        "    # Remove brackets from 'GPT_Label' if they exist\n",
        "    merged_df['GPT_Label'] = merged_df['GPT_Label'].astype(str)\n",
        "\n",
        "    # Replace brackets and points only where 'GPT_Label' is not NaN\n",
        "    merged_df['GPT_Label'] = merged_df['GPT_Label'].apply(lambda x: x.replace('[', '').replace(']', '').replace('.', '').replace(\"'\", '') if pd.notna(x) else x)\n",
        "\n",
        "\n",
        "    # Display the merged DataFrame to check results\n",
        "    print(\"MERGED DataFrame:\")\n",
        "    display(merged_df)  # Using display for proper output in Jupyter\n",
        "\n",
        "    # Calculate and print accuracy\n",
        "    accuracy = accuracy_score(merged_df['Ticket Type'], merged_df['GPT_Label'])\n",
        "    print(\"Accuracy:\", accuracy)\n",
        "\n",
        "    return merged_df  # Optionally return the DataFrame for further use or inspection\n",
        "\n"
      ],
      "metadata": {
        "id": "EKPsv7AwGlD4"
      },
      "execution_count": 203,
      "outputs": []
    },
    {
      "cell_type": "markdown",
      "source": [
        "#START WORKFLOW"
      ],
      "metadata": {
        "id": "SN92AuP91VR4"
      }
    },
    {
      "cell_type": "code",
      "source": [
        "def master_thesis_workflow(data_key, embedding_identifier, model_identifier, n_components, selected_algorithms, use_all_dimensions):\n",
        "    print(\"#######################################\")\n",
        "    current_time = datetime.datetime.now().strftime(\"%Y-%m-%d %H:%M:%S\")\n",
        "    print(f\"######### Starting workflow at {current_time} ###########\")\n",
        "    print(\"#######################################\")\n",
        "\n",
        "\n",
        "\n",
        "    print(\"SELECTED ALGOS: \", embedding_identifier, \" AND \", model_identifier)\n",
        "    progress_bar.value = 0  # Reset progress at start\n",
        "    display(progress_bar)  # Display the progress bar\n",
        "\n",
        "    # Load data\n",
        "    df = load_data(data_key)\n",
        "    print(f\"Data loaded from {data_config[data_key]}\")\n",
        "    print(\"---------------------------------------\")\n",
        "\n",
        "    progress_bar.value += 1\n",
        "\n",
        "    # Preprocess data\n",
        "    df, df_train = preprocess_data(df, data_key)\n",
        "    print(\"Data preprocessed.\")\n",
        "    print(display(df_train))\n",
        "    print(\"---------------------------------------\")\n",
        "\n",
        "    progress_bar.value += 1\n",
        "\n",
        "    # Rework and clean data\n",
        "    file_path_sum = data_summarization_config[data_key]  # Assuming summarization paths are defined\n",
        "    df = rework_datas(df, file_path_sum, model = model_identifier)\n",
        "    df = clean_datas(df, 'reworked_information')\n",
        "    print(\"Data reworked and cleaned.\")\n",
        "    print(\"---------------------------------------\")\n",
        "\n",
        "    progress_bar.value += 1\n",
        "\n",
        "    # Get embeddings\n",
        "    print(embedding_identifier)\n",
        "    embeddings = get_embeddings(df, embedding_identifier)\n",
        "    print(\"Embeddings created.\")\n",
        "    print(\"Embeddings shape:\", embeddings.shape)  # Prints the shape of the embeddings\n",
        "    print(\"---------------------------------------\")\n",
        "\n",
        "    progress_bar.value += 1\n",
        "\n",
        "    # Reduce dimensions only if not using all dimensions\n",
        "    if not use_all_dimensions:\n",
        "        embeddings = reduce_dimensions(embeddings, n_components=n_components)\n",
        "        print(\"Embeddings reduced.\")\n",
        "    else:\n",
        "        print(\"\\nUsing all dimensions for analysis.\")\n",
        "    print(\"---------------------------------------\")\n",
        "\n",
        "    progress_bar.value += 1\n",
        "\n",
        "    # Determine clusters and get cluster data\n",
        "    num_clusters = determine_cluster_count(embeddings)\n",
        "    num_clusters = 5\n",
        "    print(\"Embeddings shape:\", embeddings.shape)\n",
        "    print(\"Based on elbow-curve: \", num_clusters)\n",
        "    #dbscan_clusters, hierarchical_clusters, kmeans_clusters, spectral_clusters = get_cluster_data(embeddings, num_clusters)\n",
        "\n",
        "    cluster_results = get_cluster_data(df, embeddings, num_clusters, selected_algorithms)\n",
        "\n",
        "    print(\"Clusters generated.\")\n",
        "    print(\"---------------------------------------\")\n",
        "\n",
        "    progress_bar.value += 1\n",
        "\n",
        "\n",
        "    # Visualization\n",
        "    visualize_clusters(embeddings, cluster_results)\n",
        "    print(\"Embeddings shape:\", embeddings.shape)\n",
        "    print(\"Clusters visualized.\")\n",
        "    print(\"---------------------------------------\")\n",
        "\n",
        "    progress_bar.value += 1\n",
        "\n",
        "    #evaluate_clusters(embeddings, **selected_algorithms)\n",
        "\n",
        "    print(\"Clusters evaluated.\")\n",
        "    print(\"---------------------------------------\")\n",
        "\n",
        "    progress_bar.value += 1\n",
        "\n",
        "    print(selected_algorithms)\n",
        "    # Evaluation\n",
        "    # main_clustering_and_evaluation(embeddings, num_clusters)\n",
        "\n",
        "    # Generate and display word clouds for each executed clustering algorithm\n",
        "    for label_column in cluster_results.keys():\n",
        "        print(\"LABEL: \", label_column)\n",
        "        generate_wordclouds_for_algorithm(df, 'reworked_information_cleaned', f\"{label_column}_label\")\n",
        "\n",
        "    print(\"Evaluation done.\")\n",
        "    print(\"---------------------------------------\")\n",
        "\n",
        "    progress_bar.value += 1\n",
        "\n",
        "    # Dynamically create the list of cluster label columns based on executed algorithms\n",
        "    cluster_label_columns = [f\"{algo}_label\" for algo in cluster_results.keys()]\n",
        "\n",
        "    print(\"CLUSTER_LABEL: \", cluster_label_columns)\n",
        "    print(\"DF: \", display(df))\n",
        "\n",
        "    # Extract top words for each cluster of each used algorithm\n",
        "    top_words = extract_top_words_per_cluster_all_algorithms(df, 'reworked_information_cleaned', cluster_label_columns)\n",
        "\n",
        "    print(\"TOP WORDS \", top_words)\n",
        "    cluster_data = []\n",
        "    for algo, clusters in top_words.items():\n",
        "        for cluster_num, words in clusters.items():\n",
        "            cluster_data.append({\n",
        "                'Algorithm': algo.replace('_label', ''),\n",
        "                'Cluster': cluster_num,\n",
        "                'TopWords': \", \".join(words)\n",
        "            })\n",
        "\n",
        "    cluster_df = pd.DataFrame(cluster_data)\n",
        "\n",
        "    progress_bar.value += 1\n",
        "\n",
        "    print(\"Top words selected.\")\n",
        "    print(display(cluster_df))\n",
        "    print(\"---------------------------------------\")\n",
        "\n",
        "\n",
        "    if not data_key.startswith('kaggle'):\n",
        "        # This block executes if data_key does NOT start with 'kaggle'\n",
        "        cluster_df['GPT_Label'] = cluster_df['TopWords'].apply(create_gpt3_labels)\n",
        "        print(\"Labels generated for non-kaggle data.\")\n",
        "    else:\n",
        "        # This block executes if data_key starts with 'kaggle'\n",
        "        cluster_df['GPT_Label'] = cluster_df['TopWords'].apply(create_gpt3_labels_KAGGLE)\n",
        "        display(cluster_df)\n",
        "        print(\"Labels generated for kaggle data.\")\n",
        "        print(\"---------------------------------------\")\n",
        "\n",
        "\n",
        "\n",
        "    metrics_KAGGLE(df, df_train, cluster_df)\n",
        "    print(\"metrics for KAGGLE Data generated.\")\n",
        "    print(\"---------------------------------------\")\n",
        "\n",
        "    progress_bar.value = progress_bar.max\n",
        "    print(\"Workflow completed\")\n",
        "    print(\"Embeddings shape LAST:\", embeddings.shape)\n",
        "    display(df)\n",
        "\n",
        "    return df, cluster_df, embeddings\n"
      ],
      "metadata": {
        "id": "DwHvPMfs1UEz"
      },
      "execution_count": 204,
      "outputs": []
    },
    {
      "cell_type": "code",
      "source": [
        "progress_bar = widgets.IntProgress(\n",
        "    value=0,\n",
        "    min=0,\n",
        "    max=11,\n",
        "    description='Loading:',\n",
        "    bar_style='info',  # 'success', 'info', 'warning', 'danger' or ''\n",
        "    orientation='horizontal'\n",
        ")"
      ],
      "metadata": {
        "id": "WNVX4B1LPapG"
      },
      "execution_count": 205,
      "outputs": []
    },
    {
      "cell_type": "code",
      "source": [
        "# Define your widgets\n",
        "data_dropdown = widgets.Dropdown(options=data_config.keys(), description=\"Data Size:\")\n",
        "embedding_dropdown = widgets.Dropdown(options=embedding_config.keys(), description=\"Embedding:\")\n",
        "model_dropdown = widgets.Dropdown(options=model_config.keys(), description=\"LLM:\")\n",
        "n_components_slider = widgets.IntSlider(min=10, max=500, step=10, value=10, description=\"Dimensions:\")\n",
        "clustering_dropdown = widgets.SelectMultiple(\n",
        "    options=clustering_config.keys(),\n",
        "    description=\"Clustering Algorithms:\",\n",
        "    disabled=False\n",
        ")\n",
        "use_all_dimensions = widgets.Checkbox(value=True, description='Use all dimensions', disabled=False)\n",
        "\n",
        "# Define your button and its event handler\n",
        "button = widgets.Button(description=\"Start Analysis\")\n",
        "\n",
        "def on_button_clicked(b):\n",
        "    global df, cluster_df, embeddings\n",
        "    # Extract values from widgets and execute the main workflow function\n",
        "    data_key = data_dropdown.value\n",
        "    embedding_key = embedding_dropdown.value\n",
        "    embedding_identifier = embedding_config[embedding_key]\n",
        "\n",
        "    model_key = model_dropdown.value\n",
        "    model_identifier = model_config[model_key]\n",
        "\n",
        "    n_components = n_components_slider.value if not use_all_dimensions.value else None\n",
        "    selected_algorithms = list(clustering_dropdown.value)\n",
        "    # Call the function that performs the analysis\n",
        "    df, cluster_df, embeddings = master_thesis_workflow(data_key, embedding_identifier, model_identifier, n_components, selected_algorithms, use_all_dimensions.value)\n",
        "    display(df)\n",
        "button.on_click(on_button_clicked)\n",
        "\n",
        "# Display widgets\n",
        "display(data_dropdown, embedding_dropdown, model_dropdown, n_components_slider, use_all_dimensions, clustering_dropdown, button)\n",
        "\n"
      ],
      "metadata": {
        "id": "C10eoSU2_vtc",
        "colab": {
          "base_uri": "https://localhost:8080/",
          "height": 846,
          "referenced_widgets": [
            "d7639d1d6e734ec08a00c01385af1144",
            "b0a350e7712a4f13a6c70140bf281696",
            "4e4c571bda2e401fad4e2c0b04d8e40c",
            "02b018a5da7848de8e38210a90f16f9a",
            "aa5d5770b36e474b8afb1eca9713d82b",
            "9d5c83aacb364adb8dc28a817ac6a1d7",
            "aed6ea474cfb45278c527bcfd400ca28",
            "d0516acdf78143a288f30433239f4949",
            "523e1fcadad7435f83436a969ee7c3f8",
            "04028ed26f5940319d8bccb788f52869",
            "c7f395095e27493e8e5aa91058ade501",
            "e43f1ec319724e2d8c5d8618fcfdd08f",
            "c1dfb455f46447c987854e4c0255fb63",
            "d2e88f80a1414820937b595c7c30a647",
            "420d07febcd244ba9de06deafafc533b",
            "c99b6264fd6546da841351d9839caf94",
            "dde60fabc92e4600902b87ffa0f45058",
            "5c37037d12b2457c93544a4a31481910",
            "66568bc3026e4df481b92d7044cab490",
            "7d2e751d608140ffbba14d1f0c7ac6f5",
            "8eea9732e8964ccb80834ebb5b73254a",
            "9851d8b7f5934079865a8cedc0cd742c",
            "369a9d375a97488bb6e5abad62c0fa0f",
            "0da85d81e5ea4f9a85d2fe281d308a26"
          ]
        },
        "outputId": "bcca92a9-dc32-4a55-a00e-b2eba417bfc6"
      },
      "execution_count": 209,
      "outputs": [
        {
          "output_type": "display_data",
          "data": {
            "text/plain": [
              "Dropdown(description='Data Size:', options=('small', 'mid', 'large', 'kaggle small', 'kaggle mid', 'kaggle all…"
            ],
            "application/vnd.jupyter.widget-view+json": {
              "version_major": 2,
              "version_minor": 0,
              "model_id": "d7639d1d6e734ec08a00c01385af1144"
            }
          },
          "metadata": {}
        },
        {
          "output_type": "display_data",
          "data": {
            "text/plain": [
              "Dropdown(description='Embedding:', options=('small_initial', 'mid_initial', 'large_initial', 'kaggle_small_ini…"
            ],
            "application/vnd.jupyter.widget-view+json": {
              "version_major": 2,
              "version_minor": 0,
              "model_id": "02b018a5da7848de8e38210a90f16f9a"
            }
          },
          "metadata": {}
        },
        {
          "output_type": "display_data",
          "data": {
            "text/plain": [
              "Dropdown(description='LLM:', options=('OpenAI', 'LAMA'), value='OpenAI')"
            ],
            "application/vnd.jupyter.widget-view+json": {
              "version_major": 2,
              "version_minor": 0,
              "model_id": "aed6ea474cfb45278c527bcfd400ca28"
            }
          },
          "metadata": {}
        },
        {
          "output_type": "display_data",
          "data": {
            "text/plain": [
              "IntSlider(value=10, description='Dimensions:', max=500, min=10, step=10)"
            ],
            "application/vnd.jupyter.widget-view+json": {
              "version_major": 2,
              "version_minor": 0,
              "model_id": "04028ed26f5940319d8bccb788f52869"
            }
          },
          "metadata": {}
        },
        {
          "output_type": "display_data",
          "data": {
            "text/plain": [
              "Checkbox(value=True, description='Use all dimensions')"
            ],
            "application/vnd.jupyter.widget-view+json": {
              "version_major": 2,
              "version_minor": 0,
              "model_id": "c1dfb455f46447c987854e4c0255fb63"
            }
          },
          "metadata": {}
        },
        {
          "output_type": "display_data",
          "data": {
            "text/plain": [
              "SelectMultiple(description='Clustering Algorithms:', options=('dbscan', 'kmeans', 'ward', 'spectral'), value=(…"
            ],
            "application/vnd.jupyter.widget-view+json": {
              "version_major": 2,
              "version_minor": 0,
              "model_id": "c99b6264fd6546da841351d9839caf94"
            }
          },
          "metadata": {}
        },
        {
          "output_type": "display_data",
          "data": {
            "text/plain": [
              "Button(description='Start Analysis', style=ButtonStyle())"
            ],
            "application/vnd.jupyter.widget-view+json": {
              "version_major": 2,
              "version_minor": 0,
              "model_id": "66568bc3026e4df481b92d7044cab490"
            }
          },
          "metadata": {}
        },
        {
          "output_type": "stream",
          "name": "stdout",
          "text": [
            "#######################################\n",
            "######### Starting workflow at 2024-05-05 19:56:51 ###########\n",
            "#######################################\n",
            "SELECTED ALGOS:  ./drive/Othercomputers/X1/code/datas/embeddings/kaggle_mbeddings-mid-initial.npy  AND  gpt-3.5-turbo\n"
          ]
        },
        {
          "output_type": "display_data",
          "data": {
            "text/plain": [
              "IntProgress(value=0, bar_style='info', description='Loading:', max=11)"
            ],
            "application/vnd.jupyter.widget-view+json": {
              "version_major": 2,
              "version_minor": 0,
              "model_id": "9851d8b7f5934079865a8cedc0cd742c"
            }
          },
          "metadata": {}
        },
        {
          "output_type": "stream",
          "name": "stdout",
          "text": [
            "GIIIIIIIIIIII  ./drive/Othercomputers/X1/code/datas/origin/kaggle_mid.csv\n",
            "VALUE:  ./drive/Othercomputers/X1/code/datas/origin/kaggle_mid.csv\n"
          ]
        },
        {
          "output_type": "error",
          "ename": "TypeError",
          "evalue": "read_csv() got an unexpected keyword argument 'errors'",
          "traceback": [
            "\u001b[0;31m---------------------------------------------------------------------------\u001b[0m",
            "\u001b[0;31mTypeError\u001b[0m                                 Traceback (most recent call last)",
            "\u001b[0;32m<ipython-input-209-e9725407a9b1>\u001b[0m in \u001b[0;36mon_button_clicked\u001b[0;34m(b)\u001b[0m\n\u001b[1;32m     27\u001b[0m     \u001b[0mselected_algorithms\u001b[0m \u001b[0;34m=\u001b[0m \u001b[0mlist\u001b[0m\u001b[0;34m(\u001b[0m\u001b[0mclustering_dropdown\u001b[0m\u001b[0;34m.\u001b[0m\u001b[0mvalue\u001b[0m\u001b[0;34m)\u001b[0m\u001b[0;34m\u001b[0m\u001b[0;34m\u001b[0m\u001b[0m\n\u001b[1;32m     28\u001b[0m     \u001b[0;31m# Call the function that performs the analysis\u001b[0m\u001b[0;34m\u001b[0m\u001b[0;34m\u001b[0m\u001b[0m\n\u001b[0;32m---> 29\u001b[0;31m     \u001b[0mdf\u001b[0m\u001b[0;34m,\u001b[0m \u001b[0mcluster_df\u001b[0m\u001b[0;34m,\u001b[0m \u001b[0membeddings\u001b[0m \u001b[0;34m=\u001b[0m \u001b[0mmaster_thesis_workflow\u001b[0m\u001b[0;34m(\u001b[0m\u001b[0mdata_key\u001b[0m\u001b[0;34m,\u001b[0m \u001b[0membedding_identifier\u001b[0m\u001b[0;34m,\u001b[0m \u001b[0mmodel_identifier\u001b[0m\u001b[0;34m,\u001b[0m \u001b[0mn_components\u001b[0m\u001b[0;34m,\u001b[0m \u001b[0mselected_algorithms\u001b[0m\u001b[0;34m,\u001b[0m \u001b[0muse_all_dimensions\u001b[0m\u001b[0;34m.\u001b[0m\u001b[0mvalue\u001b[0m\u001b[0;34m)\u001b[0m\u001b[0;34m\u001b[0m\u001b[0;34m\u001b[0m\u001b[0m\n\u001b[0m\u001b[1;32m     30\u001b[0m     \u001b[0mdisplay\u001b[0m\u001b[0;34m(\u001b[0m\u001b[0mdf\u001b[0m\u001b[0;34m)\u001b[0m\u001b[0;34m\u001b[0m\u001b[0;34m\u001b[0m\u001b[0m\n\u001b[1;32m     31\u001b[0m \u001b[0mbutton\u001b[0m\u001b[0;34m.\u001b[0m\u001b[0mon_click\u001b[0m\u001b[0;34m(\u001b[0m\u001b[0mon_button_clicked\u001b[0m\u001b[0;34m)\u001b[0m\u001b[0;34m\u001b[0m\u001b[0;34m\u001b[0m\u001b[0m\n",
            "\u001b[0;32m<ipython-input-204-06bc7f8d6dd6>\u001b[0m in \u001b[0;36mmaster_thesis_workflow\u001b[0;34m(data_key, embedding_identifier, model_identifier, n_components, selected_algorithms, use_all_dimensions)\u001b[0m\n\u001b[1;32m     12\u001b[0m \u001b[0;34m\u001b[0m\u001b[0m\n\u001b[1;32m     13\u001b[0m     \u001b[0;31m# Load data\u001b[0m\u001b[0;34m\u001b[0m\u001b[0;34m\u001b[0m\u001b[0m\n\u001b[0;32m---> 14\u001b[0;31m     \u001b[0mdf\u001b[0m \u001b[0;34m=\u001b[0m \u001b[0mload_data\u001b[0m\u001b[0;34m(\u001b[0m\u001b[0mdata_key\u001b[0m\u001b[0;34m)\u001b[0m\u001b[0;34m\u001b[0m\u001b[0;34m\u001b[0m\u001b[0m\n\u001b[0m\u001b[1;32m     15\u001b[0m     \u001b[0mprint\u001b[0m\u001b[0;34m(\u001b[0m\u001b[0;34mf\"Data loaded from {data_config[data_key]}\"\u001b[0m\u001b[0;34m)\u001b[0m\u001b[0;34m\u001b[0m\u001b[0;34m\u001b[0m\u001b[0m\n\u001b[1;32m     16\u001b[0m     \u001b[0mprint\u001b[0m\u001b[0;34m(\u001b[0m\u001b[0;34m\"---------------------------------------\"\u001b[0m\u001b[0;34m)\u001b[0m\u001b[0;34m\u001b[0m\u001b[0;34m\u001b[0m\u001b[0m\n",
            "\u001b[0;32m<ipython-input-87-b11404aef23c>\u001b[0m in \u001b[0;36mload_data\u001b[0;34m(config_key)\u001b[0m\n\u001b[1;32m      1\u001b[0m \u001b[0;31m# Define your functions here\u001b[0m\u001b[0;34m\u001b[0m\u001b[0;34m\u001b[0m\u001b[0m\n\u001b[1;32m      2\u001b[0m \u001b[0;32mdef\u001b[0m \u001b[0mload_data\u001b[0m\u001b[0;34m(\u001b[0m\u001b[0mconfig_key\u001b[0m\u001b[0;34m)\u001b[0m\u001b[0;34m:\u001b[0m\u001b[0;34m\u001b[0m\u001b[0;34m\u001b[0m\u001b[0m\n\u001b[0;32m----> 3\u001b[0;31m     \u001b[0;32mreturn\u001b[0m \u001b[0mload_datas\u001b[0m\u001b[0;34m(\u001b[0m\u001b[0mconfig_key\u001b[0m\u001b[0;34m)\u001b[0m\u001b[0;34m\u001b[0m\u001b[0;34m\u001b[0m\u001b[0m\n\u001b[0m",
            "\u001b[0;32m<ipython-input-208-2c673a652c76>\u001b[0m in \u001b[0;36mload_datas\u001b[0;34m(data_key)\u001b[0m\n\u001b[1;32m      5\u001b[0m         \u001b[0mprint\u001b[0m\u001b[0;34m(\u001b[0m\u001b[0;34m\"VALUE: \"\u001b[0m\u001b[0;34m,\u001b[0m \u001b[0mdata_config\u001b[0m\u001b[0;34m[\u001b[0m\u001b[0mdata_key\u001b[0m\u001b[0;34m]\u001b[0m\u001b[0;34m)\u001b[0m\u001b[0;34m\u001b[0m\u001b[0;34m\u001b[0m\u001b[0m\n\u001b[1;32m      6\u001b[0m         \u001b[0;31m#df = pd.read_csv(data_config[data_key], encoding='utf-8', on_bad_lines='skip', sep=';')  # Load from CSV if key starts with 'kaggle'\u001b[0m\u001b[0;34m\u001b[0m\u001b[0;34m\u001b[0m\u001b[0m\n\u001b[0;32m----> 7\u001b[0;31m         \u001b[0mdf\u001b[0m \u001b[0;34m=\u001b[0m \u001b[0mpd\u001b[0m\u001b[0;34m.\u001b[0m\u001b[0mread_csv\u001b[0m\u001b[0;34m(\u001b[0m\u001b[0mdata_config\u001b[0m\u001b[0;34m[\u001b[0m\u001b[0mdata_key\u001b[0m\u001b[0;34m]\u001b[0m\u001b[0;34m,\u001b[0m \u001b[0mencoding\u001b[0m\u001b[0;34m=\u001b[0m\u001b[0;34m'utf-8'\u001b[0m\u001b[0;34m,\u001b[0m \u001b[0mon_bad_lines\u001b[0m\u001b[0;34m=\u001b[0m\u001b[0;34m'skip'\u001b[0m\u001b[0;34m,\u001b[0m \u001b[0msep\u001b[0m\u001b[0;34m=\u001b[0m\u001b[0;34m';'\u001b[0m\u001b[0;34m,\u001b[0m \u001b[0merrors\u001b[0m\u001b[0;34m=\u001b[0m\u001b[0;34m'ignore'\u001b[0m\u001b[0;34m)\u001b[0m\u001b[0;34m\u001b[0m\u001b[0;34m\u001b[0m\u001b[0m\n\u001b[0m\u001b[1;32m      8\u001b[0m \u001b[0;34m\u001b[0m\u001b[0m\n\u001b[1;32m      9\u001b[0m         \u001b[0mprint\u001b[0m\u001b[0;34m(\u001b[0m\u001b[0;34m\"DF: \\n \"\u001b[0m\u001b[0;34m,\u001b[0m \u001b[0mdisplay\u001b[0m\u001b[0;34m(\u001b[0m\u001b[0mdf\u001b[0m\u001b[0;34m)\u001b[0m\u001b[0;34m)\u001b[0m\u001b[0;34m\u001b[0m\u001b[0;34m\u001b[0m\u001b[0m\n",
            "\u001b[0;31mTypeError\u001b[0m: read_csv() got an unexpected keyword argument 'errors'"
          ]
        }
      ]
    },
    {
      "cell_type": "code",
      "source": [
        "display(cluster_df)"
      ],
      "metadata": {
        "colab": {
          "base_uri": "https://localhost:8080/",
          "height": 206
        },
        "id": "M3WzCoKnmQ9C",
        "outputId": "db1b2436-0067-496a-b17c-d3fb6c71a808"
      },
      "execution_count": 199,
      "outputs": [
        {
          "output_type": "display_data",
          "data": {
            "text/plain": [
              "  Algorithm  Cluster                                          TopWords  \\\n",
              "0    kmeans        1  payment, completing, specific, purchase, feature   \n",
              "1    kmeans        2        charging, original, charger, came, support   \n",
              "2    kmeans        3  account, factory, experiencing, usual, accessing   \n",
              "3    kmeans        4             battery, life, product, user, problem   \n",
              "4    kmeans        0      device, hardware, issues, warranty, software   \n",
              "\n",
              "           GPT_Label  \n",
              "0  [Product inquiry]  \n",
              "1  [Product inquiry]  \n",
              "2   [Account access]  \n",
              "3  [Product inquiry]  \n",
              "4  [Technical issue]  "
            ],
            "text/html": [
              "\n",
              "  <div id=\"df-26327c2f-b067-49d6-8d34-cbff4c9ef7c6\" class=\"colab-df-container\">\n",
              "    <div>\n",
              "<style scoped>\n",
              "    .dataframe tbody tr th:only-of-type {\n",
              "        vertical-align: middle;\n",
              "    }\n",
              "\n",
              "    .dataframe tbody tr th {\n",
              "        vertical-align: top;\n",
              "    }\n",
              "\n",
              "    .dataframe thead th {\n",
              "        text-align: right;\n",
              "    }\n",
              "</style>\n",
              "<table border=\"1\" class=\"dataframe\">\n",
              "  <thead>\n",
              "    <tr style=\"text-align: right;\">\n",
              "      <th></th>\n",
              "      <th>Algorithm</th>\n",
              "      <th>Cluster</th>\n",
              "      <th>TopWords</th>\n",
              "      <th>GPT_Label</th>\n",
              "    </tr>\n",
              "  </thead>\n",
              "  <tbody>\n",
              "    <tr>\n",
              "      <th>0</th>\n",
              "      <td>kmeans</td>\n",
              "      <td>1</td>\n",
              "      <td>payment, completing, specific, purchase, feature</td>\n",
              "      <td>[Product inquiry]</td>\n",
              "    </tr>\n",
              "    <tr>\n",
              "      <th>1</th>\n",
              "      <td>kmeans</td>\n",
              "      <td>2</td>\n",
              "      <td>charging, original, charger, came, support</td>\n",
              "      <td>[Product inquiry]</td>\n",
              "    </tr>\n",
              "    <tr>\n",
              "      <th>2</th>\n",
              "      <td>kmeans</td>\n",
              "      <td>3</td>\n",
              "      <td>account, factory, experiencing, usual, accessing</td>\n",
              "      <td>[Account access]</td>\n",
              "    </tr>\n",
              "    <tr>\n",
              "      <th>3</th>\n",
              "      <td>kmeans</td>\n",
              "      <td>4</td>\n",
              "      <td>battery, life, product, user, problem</td>\n",
              "      <td>[Product inquiry]</td>\n",
              "    </tr>\n",
              "    <tr>\n",
              "      <th>4</th>\n",
              "      <td>kmeans</td>\n",
              "      <td>0</td>\n",
              "      <td>device, hardware, issues, warranty, software</td>\n",
              "      <td>[Technical issue]</td>\n",
              "    </tr>\n",
              "  </tbody>\n",
              "</table>\n",
              "</div>\n",
              "    <div class=\"colab-df-buttons\">\n",
              "\n",
              "  <div class=\"colab-df-container\">\n",
              "    <button class=\"colab-df-convert\" onclick=\"convertToInteractive('df-26327c2f-b067-49d6-8d34-cbff4c9ef7c6')\"\n",
              "            title=\"Convert this dataframe to an interactive table.\"\n",
              "            style=\"display:none;\">\n",
              "\n",
              "  <svg xmlns=\"http://www.w3.org/2000/svg\" height=\"24px\" viewBox=\"0 -960 960 960\">\n",
              "    <path d=\"M120-120v-720h720v720H120Zm60-500h600v-160H180v160Zm220 220h160v-160H400v160Zm0 220h160v-160H400v160ZM180-400h160v-160H180v160Zm440 0h160v-160H620v160ZM180-180h160v-160H180v160Zm440 0h160v-160H620v160Z\"/>\n",
              "  </svg>\n",
              "    </button>\n",
              "\n",
              "  <style>\n",
              "    .colab-df-container {\n",
              "      display:flex;\n",
              "      gap: 12px;\n",
              "    }\n",
              "\n",
              "    .colab-df-convert {\n",
              "      background-color: #E8F0FE;\n",
              "      border: none;\n",
              "      border-radius: 50%;\n",
              "      cursor: pointer;\n",
              "      display: none;\n",
              "      fill: #1967D2;\n",
              "      height: 32px;\n",
              "      padding: 0 0 0 0;\n",
              "      width: 32px;\n",
              "    }\n",
              "\n",
              "    .colab-df-convert:hover {\n",
              "      background-color: #E2EBFA;\n",
              "      box-shadow: 0px 1px 2px rgba(60, 64, 67, 0.3), 0px 1px 3px 1px rgba(60, 64, 67, 0.15);\n",
              "      fill: #174EA6;\n",
              "    }\n",
              "\n",
              "    .colab-df-buttons div {\n",
              "      margin-bottom: 4px;\n",
              "    }\n",
              "\n",
              "    [theme=dark] .colab-df-convert {\n",
              "      background-color: #3B4455;\n",
              "      fill: #D2E3FC;\n",
              "    }\n",
              "\n",
              "    [theme=dark] .colab-df-convert:hover {\n",
              "      background-color: #434B5C;\n",
              "      box-shadow: 0px 1px 3px 1px rgba(0, 0, 0, 0.15);\n",
              "      filter: drop-shadow(0px 1px 2px rgba(0, 0, 0, 0.3));\n",
              "      fill: #FFFFFF;\n",
              "    }\n",
              "  </style>\n",
              "\n",
              "    <script>\n",
              "      const buttonEl =\n",
              "        document.querySelector('#df-26327c2f-b067-49d6-8d34-cbff4c9ef7c6 button.colab-df-convert');\n",
              "      buttonEl.style.display =\n",
              "        google.colab.kernel.accessAllowed ? 'block' : 'none';\n",
              "\n",
              "      async function convertToInteractive(key) {\n",
              "        const element = document.querySelector('#df-26327c2f-b067-49d6-8d34-cbff4c9ef7c6');\n",
              "        const dataTable =\n",
              "          await google.colab.kernel.invokeFunction('convertToInteractive',\n",
              "                                                    [key], {});\n",
              "        if (!dataTable) return;\n",
              "\n",
              "        const docLinkHtml = 'Like what you see? Visit the ' +\n",
              "          '<a target=\"_blank\" href=https://colab.research.google.com/notebooks/data_table.ipynb>data table notebook</a>'\n",
              "          + ' to learn more about interactive tables.';\n",
              "        element.innerHTML = '';\n",
              "        dataTable['output_type'] = 'display_data';\n",
              "        await google.colab.output.renderOutput(dataTable, element);\n",
              "        const docLink = document.createElement('div');\n",
              "        docLink.innerHTML = docLinkHtml;\n",
              "        element.appendChild(docLink);\n",
              "      }\n",
              "    </script>\n",
              "  </div>\n",
              "\n",
              "\n",
              "<div id=\"df-1aa27641-c6b5-41dc-8783-06e5d089d6cf\">\n",
              "  <button class=\"colab-df-quickchart\" onclick=\"quickchart('df-1aa27641-c6b5-41dc-8783-06e5d089d6cf')\"\n",
              "            title=\"Suggest charts\"\n",
              "            style=\"display:none;\">\n",
              "\n",
              "<svg xmlns=\"http://www.w3.org/2000/svg\" height=\"24px\"viewBox=\"0 0 24 24\"\n",
              "     width=\"24px\">\n",
              "    <g>\n",
              "        <path d=\"M19 3H5c-1.1 0-2 .9-2 2v14c0 1.1.9 2 2 2h14c1.1 0 2-.9 2-2V5c0-1.1-.9-2-2-2zM9 17H7v-7h2v7zm4 0h-2V7h2v10zm4 0h-2v-4h2v4z\"/>\n",
              "    </g>\n",
              "</svg>\n",
              "  </button>\n",
              "\n",
              "<style>\n",
              "  .colab-df-quickchart {\n",
              "      --bg-color: #E8F0FE;\n",
              "      --fill-color: #1967D2;\n",
              "      --hover-bg-color: #E2EBFA;\n",
              "      --hover-fill-color: #174EA6;\n",
              "      --disabled-fill-color: #AAA;\n",
              "      --disabled-bg-color: #DDD;\n",
              "  }\n",
              "\n",
              "  [theme=dark] .colab-df-quickchart {\n",
              "      --bg-color: #3B4455;\n",
              "      --fill-color: #D2E3FC;\n",
              "      --hover-bg-color: #434B5C;\n",
              "      --hover-fill-color: #FFFFFF;\n",
              "      --disabled-bg-color: #3B4455;\n",
              "      --disabled-fill-color: #666;\n",
              "  }\n",
              "\n",
              "  .colab-df-quickchart {\n",
              "    background-color: var(--bg-color);\n",
              "    border: none;\n",
              "    border-radius: 50%;\n",
              "    cursor: pointer;\n",
              "    display: none;\n",
              "    fill: var(--fill-color);\n",
              "    height: 32px;\n",
              "    padding: 0;\n",
              "    width: 32px;\n",
              "  }\n",
              "\n",
              "  .colab-df-quickchart:hover {\n",
              "    background-color: var(--hover-bg-color);\n",
              "    box-shadow: 0 1px 2px rgba(60, 64, 67, 0.3), 0 1px 3px 1px rgba(60, 64, 67, 0.15);\n",
              "    fill: var(--button-hover-fill-color);\n",
              "  }\n",
              "\n",
              "  .colab-df-quickchart-complete:disabled,\n",
              "  .colab-df-quickchart-complete:disabled:hover {\n",
              "    background-color: var(--disabled-bg-color);\n",
              "    fill: var(--disabled-fill-color);\n",
              "    box-shadow: none;\n",
              "  }\n",
              "\n",
              "  .colab-df-spinner {\n",
              "    border: 2px solid var(--fill-color);\n",
              "    border-color: transparent;\n",
              "    border-bottom-color: var(--fill-color);\n",
              "    animation:\n",
              "      spin 1s steps(1) infinite;\n",
              "  }\n",
              "\n",
              "  @keyframes spin {\n",
              "    0% {\n",
              "      border-color: transparent;\n",
              "      border-bottom-color: var(--fill-color);\n",
              "      border-left-color: var(--fill-color);\n",
              "    }\n",
              "    20% {\n",
              "      border-color: transparent;\n",
              "      border-left-color: var(--fill-color);\n",
              "      border-top-color: var(--fill-color);\n",
              "    }\n",
              "    30% {\n",
              "      border-color: transparent;\n",
              "      border-left-color: var(--fill-color);\n",
              "      border-top-color: var(--fill-color);\n",
              "      border-right-color: var(--fill-color);\n",
              "    }\n",
              "    40% {\n",
              "      border-color: transparent;\n",
              "      border-right-color: var(--fill-color);\n",
              "      border-top-color: var(--fill-color);\n",
              "    }\n",
              "    60% {\n",
              "      border-color: transparent;\n",
              "      border-right-color: var(--fill-color);\n",
              "    }\n",
              "    80% {\n",
              "      border-color: transparent;\n",
              "      border-right-color: var(--fill-color);\n",
              "      border-bottom-color: var(--fill-color);\n",
              "    }\n",
              "    90% {\n",
              "      border-color: transparent;\n",
              "      border-bottom-color: var(--fill-color);\n",
              "    }\n",
              "  }\n",
              "</style>\n",
              "\n",
              "  <script>\n",
              "    async function quickchart(key) {\n",
              "      const quickchartButtonEl =\n",
              "        document.querySelector('#' + key + ' button');\n",
              "      quickchartButtonEl.disabled = true;  // To prevent multiple clicks.\n",
              "      quickchartButtonEl.classList.add('colab-df-spinner');\n",
              "      try {\n",
              "        const charts = await google.colab.kernel.invokeFunction(\n",
              "            'suggestCharts', [key], {});\n",
              "      } catch (error) {\n",
              "        console.error('Error during call to suggestCharts:', error);\n",
              "      }\n",
              "      quickchartButtonEl.classList.remove('colab-df-spinner');\n",
              "      quickchartButtonEl.classList.add('colab-df-quickchart-complete');\n",
              "    }\n",
              "    (() => {\n",
              "      let quickchartButtonEl =\n",
              "        document.querySelector('#df-1aa27641-c6b5-41dc-8783-06e5d089d6cf button');\n",
              "      quickchartButtonEl.style.display =\n",
              "        google.colab.kernel.accessAllowed ? 'block' : 'none';\n",
              "    })();\n",
              "  </script>\n",
              "</div>\n",
              "    </div>\n",
              "  </div>\n"
            ],
            "application/vnd.google.colaboratory.intrinsic+json": {
              "type": "dataframe",
              "variable_name": "cluster_df",
              "summary": "{\n  \"name\": \"cluster_df\",\n  \"rows\": 5,\n  \"fields\": [\n    {\n      \"column\": \"Algorithm\",\n      \"properties\": {\n        \"dtype\": \"category\",\n        \"num_unique_values\": 1,\n        \"samples\": [\n          \"kmeans\"\n        ],\n        \"semantic_type\": \"\",\n        \"description\": \"\"\n      }\n    },\n    {\n      \"column\": \"Cluster\",\n      \"properties\": {\n        \"dtype\": \"number\",\n        \"std\": 1,\n        \"min\": 0,\n        \"max\": 4,\n        \"num_unique_values\": 5,\n        \"samples\": [\n          2\n        ],\n        \"semantic_type\": \"\",\n        \"description\": \"\"\n      }\n    },\n    {\n      \"column\": \"TopWords\",\n      \"properties\": {\n        \"dtype\": \"string\",\n        \"num_unique_values\": 5,\n        \"samples\": [\n          \"charging, original, charger, came, support\"\n        ],\n        \"semantic_type\": \"\",\n        \"description\": \"\"\n      }\n    },\n    {\n      \"column\": \"GPT_Label\",\n      \"properties\": {\n        \"dtype\": \"object\",\n        \"semantic_type\": \"\",\n        \"description\": \"\"\n      }\n    }\n  ]\n}"
            }
          },
          "metadata": {}
        }
      ]
    },
    {
      "cell_type": "code",
      "source": [
        "display(df)\n",
        "embeddings.shape"
      ],
      "metadata": {
        "colab": {
          "base_uri": "https://localhost:8080/",
          "height": 903
        },
        "id": "_3G2vrU46xlw",
        "outputId": "f2799903-4937-4997-8445-405b30c84895"
      },
      "execution_count": 146,
      "outputs": [
        {
          "output_type": "display_data",
          "data": {
            "text/plain": [
              "    Ticket ID                                      combined_text  \\\n",
              "0           1  Product setup\\n\\nI'm having an issue with the ...   \n",
              "1           2  Peripheral compatibility\\n\\nI'm having an issu...   \n",
              "2           3  Network problem\\n\\nI'm facing a problem with m...   \n",
              "3           4  Account access\\n\\nI'm having an issue with the...   \n",
              "4           5  Data loss\\n\\nI'm having an issue with the {pro...   \n",
              "5           6  Payment issue\\n\\nI'm facing a problem with my ...   \n",
              "6           7  Refund request\\n\\nI'm unable to access my {pro...   \n",
              "7           8  Battery life\\n\\nI'm having an issue with the {...   \n",
              "8           9  Installation support\\n\\nI'm having an issue wi...   \n",
              "9          10  Payment issue\\n\\nMy {product_purchased} is mak...   \n",
              "10         11  Data loss\\n\\nI'm having an issue with the {pro...   \n",
              "11         12  Software bug\\n\\nI'm having an issue with the {...   \n",
              "12       8467  Account access\\n\\nI'm having an issue with the...   \n",
              "13       8468  Payment issue\\n\\nI'm having an issue with the ...   \n",
              "14       8469  Hardware issue\\n\\nThere seems to be a hardware...   \n",
              "\n",
              "                                 reworked_information  \\\n",
              "0   - Issue: Support\\n- Affected Systems: Product ...   \n",
              "1   Issue: Support\\nAffected Systems: Peripheral d...   \n",
              "2   - Issue: Support\\n- Affected Systems: {product...   \n",
              "3   - Issue: Support\\n- Affected Systems: Account ...   \n",
              "4   Issue: Support\\n\\nAffected Systems: Product Pu...   \n",
              "5   - Issue: Support\\n- Affected Systems: {product...   \n",
              "6   - Issue: Support\\n- Affected Systems: Account ...   \n",
              "7   - **Issue:** Support\\n- **Affected Systems:** ...   \n",
              "8   - Issue: Support\\n- Affected Systems: {product...   \n",
              "9   - Issue: Hardware Issue\\n- Affected Systems: {...   \n",
              "10  - Issue: Support\\n- Affected Systems: Charging...   \n",
              "11  - Issue: Development\\n- Affected Systems: Soft...   \n",
              "12  - **Issue:** Support\\n- **Affected Systems:** ...   \n",
              "13  - Issue: Payment issue\\n- Affected Systems: Pa...   \n",
              "14  - Issue: Hardware Issue\\n- Affected Systems: {...   \n",
              "\n",
              "                         reworked_information_cleaned  kmeans_label  \\\n",
              "0   support product setup user experiencing issues...             1   \n",
              "1   support peripheral devices intermittent issues...             1   \n",
              "2                   support turning charging properly             2   \n",
              "3   support account customer unable access purchas...             3   \n",
              "4   support product purchased data loss decreased ...             4   \n",
              "5                             support turning respond             1   \n",
              "6   support account login user unable access accou...             3   \n",
              "7   support product specific details provided batt...             4   \n",
              "8   support user experiencing issues updating firm...             1   \n",
              "9   hardware strange noises intermittent functiona...             1   \n",
              "10  support charging system original charger came ...             2   \n",
              "11  development software application missing name ...             1   \n",
              "12  support account access user experiencing acces...             3   \n",
              "13  payment payment gateway difficulty completing ...             1   \n",
              "14  hardware assuming specific hardware device scr...             0   \n",
              "\n",
              "    spectral_label  \n",
              "0                1  \n",
              "1                1  \n",
              "2                1  \n",
              "3                0  \n",
              "4                1  \n",
              "5                1  \n",
              "6                2  \n",
              "7                3  \n",
              "8                1  \n",
              "9                1  \n",
              "10               1  \n",
              "11               0  \n",
              "12               4  \n",
              "13               1  \n",
              "14               1  "
            ],
            "text/html": [
              "\n",
              "  <div id=\"df-2ac66910-9a77-4e9e-b894-889b13b29b67\" class=\"colab-df-container\">\n",
              "    <div>\n",
              "<style scoped>\n",
              "    .dataframe tbody tr th:only-of-type {\n",
              "        vertical-align: middle;\n",
              "    }\n",
              "\n",
              "    .dataframe tbody tr th {\n",
              "        vertical-align: top;\n",
              "    }\n",
              "\n",
              "    .dataframe thead th {\n",
              "        text-align: right;\n",
              "    }\n",
              "</style>\n",
              "<table border=\"1\" class=\"dataframe\">\n",
              "  <thead>\n",
              "    <tr style=\"text-align: right;\">\n",
              "      <th></th>\n",
              "      <th>Ticket ID</th>\n",
              "      <th>combined_text</th>\n",
              "      <th>reworked_information</th>\n",
              "      <th>reworked_information_cleaned</th>\n",
              "      <th>kmeans_label</th>\n",
              "      <th>spectral_label</th>\n",
              "    </tr>\n",
              "  </thead>\n",
              "  <tbody>\n",
              "    <tr>\n",
              "      <th>0</th>\n",
              "      <td>1</td>\n",
              "      <td>Product setup\\n\\nI'm having an issue with the ...</td>\n",
              "      <td>- Issue: Support\\n- Affected Systems: Product ...</td>\n",
              "      <td>support product setup user experiencing issues...</td>\n",
              "      <td>1</td>\n",
              "      <td>1</td>\n",
              "    </tr>\n",
              "    <tr>\n",
              "      <th>1</th>\n",
              "      <td>2</td>\n",
              "      <td>Peripheral compatibility\\n\\nI'm having an issu...</td>\n",
              "      <td>Issue: Support\\nAffected Systems: Peripheral d...</td>\n",
              "      <td>support peripheral devices intermittent issues...</td>\n",
              "      <td>1</td>\n",
              "      <td>1</td>\n",
              "    </tr>\n",
              "    <tr>\n",
              "      <th>2</th>\n",
              "      <td>3</td>\n",
              "      <td>Network problem\\n\\nI'm facing a problem with m...</td>\n",
              "      <td>- Issue: Support\\n- Affected Systems: {product...</td>\n",
              "      <td>support turning charging properly</td>\n",
              "      <td>2</td>\n",
              "      <td>1</td>\n",
              "    </tr>\n",
              "    <tr>\n",
              "      <th>3</th>\n",
              "      <td>4</td>\n",
              "      <td>Account access\\n\\nI'm having an issue with the...</td>\n",
              "      <td>- Issue: Support\\n- Affected Systems: Account ...</td>\n",
              "      <td>support account customer unable access purchas...</td>\n",
              "      <td>3</td>\n",
              "      <td>0</td>\n",
              "    </tr>\n",
              "    <tr>\n",
              "      <th>4</th>\n",
              "      <td>5</td>\n",
              "      <td>Data loss\\n\\nI'm having an issue with the {pro...</td>\n",
              "      <td>Issue: Support\\n\\nAffected Systems: Product Pu...</td>\n",
              "      <td>support product purchased data loss decreased ...</td>\n",
              "      <td>4</td>\n",
              "      <td>1</td>\n",
              "    </tr>\n",
              "    <tr>\n",
              "      <th>5</th>\n",
              "      <td>6</td>\n",
              "      <td>Payment issue\\n\\nI'm facing a problem with my ...</td>\n",
              "      <td>- Issue: Support\\n- Affected Systems: {product...</td>\n",
              "      <td>support turning respond</td>\n",
              "      <td>1</td>\n",
              "      <td>1</td>\n",
              "    </tr>\n",
              "    <tr>\n",
              "      <th>6</th>\n",
              "      <td>7</td>\n",
              "      <td>Refund request\\n\\nI'm unable to access my {pro...</td>\n",
              "      <td>- Issue: Support\\n- Affected Systems: Account ...</td>\n",
              "      <td>support account login user unable access accou...</td>\n",
              "      <td>3</td>\n",
              "      <td>2</td>\n",
              "    </tr>\n",
              "    <tr>\n",
              "      <th>7</th>\n",
              "      <td>8</td>\n",
              "      <td>Battery life\\n\\nI'm having an issue with the {...</td>\n",
              "      <td>- **Issue:** Support\\n- **Affected Systems:** ...</td>\n",
              "      <td>support product specific details provided batt...</td>\n",
              "      <td>4</td>\n",
              "      <td>3</td>\n",
              "    </tr>\n",
              "    <tr>\n",
              "      <th>8</th>\n",
              "      <td>9</td>\n",
              "      <td>Installation support\\n\\nI'm having an issue wi...</td>\n",
              "      <td>- Issue: Support\\n- Affected Systems: {product...</td>\n",
              "      <td>support user experiencing issues updating firm...</td>\n",
              "      <td>1</td>\n",
              "      <td>1</td>\n",
              "    </tr>\n",
              "    <tr>\n",
              "      <th>9</th>\n",
              "      <td>10</td>\n",
              "      <td>Payment issue\\n\\nMy {product_purchased} is mak...</td>\n",
              "      <td>- Issue: Hardware Issue\\n- Affected Systems: {...</td>\n",
              "      <td>hardware strange noises intermittent functiona...</td>\n",
              "      <td>1</td>\n",
              "      <td>1</td>\n",
              "    </tr>\n",
              "    <tr>\n",
              "      <th>10</th>\n",
              "      <td>11</td>\n",
              "      <td>Data loss\\n\\nI'm having an issue with the {pro...</td>\n",
              "      <td>- Issue: Support\\n- Affected Systems: Charging...</td>\n",
              "      <td>support charging system original charger came ...</td>\n",
              "      <td>2</td>\n",
              "      <td>1</td>\n",
              "    </tr>\n",
              "    <tr>\n",
              "      <th>11</th>\n",
              "      <td>12</td>\n",
              "      <td>Software bug\\n\\nI'm having an issue with the {...</td>\n",
              "      <td>- Issue: Development\\n- Affected Systems: Soft...</td>\n",
              "      <td>development software application missing name ...</td>\n",
              "      <td>1</td>\n",
              "      <td>0</td>\n",
              "    </tr>\n",
              "    <tr>\n",
              "      <th>12</th>\n",
              "      <td>8467</td>\n",
              "      <td>Account access\\n\\nI'm having an issue with the...</td>\n",
              "      <td>- **Issue:** Support\\n- **Affected Systems:** ...</td>\n",
              "      <td>support account access user experiencing acces...</td>\n",
              "      <td>3</td>\n",
              "      <td>4</td>\n",
              "    </tr>\n",
              "    <tr>\n",
              "      <th>13</th>\n",
              "      <td>8468</td>\n",
              "      <td>Payment issue\\n\\nI'm having an issue with the ...</td>\n",
              "      <td>- Issue: Payment issue\\n- Affected Systems: Pa...</td>\n",
              "      <td>payment payment gateway difficulty completing ...</td>\n",
              "      <td>1</td>\n",
              "      <td>1</td>\n",
              "    </tr>\n",
              "    <tr>\n",
              "      <th>14</th>\n",
              "      <td>8469</td>\n",
              "      <td>Hardware issue\\n\\nThere seems to be a hardware...</td>\n",
              "      <td>- Issue: Hardware Issue\\n- Affected Systems: {...</td>\n",
              "      <td>hardware assuming specific hardware device scr...</td>\n",
              "      <td>0</td>\n",
              "      <td>1</td>\n",
              "    </tr>\n",
              "  </tbody>\n",
              "</table>\n",
              "</div>\n",
              "    <div class=\"colab-df-buttons\">\n",
              "\n",
              "  <div class=\"colab-df-container\">\n",
              "    <button class=\"colab-df-convert\" onclick=\"convertToInteractive('df-2ac66910-9a77-4e9e-b894-889b13b29b67')\"\n",
              "            title=\"Convert this dataframe to an interactive table.\"\n",
              "            style=\"display:none;\">\n",
              "\n",
              "  <svg xmlns=\"http://www.w3.org/2000/svg\" height=\"24px\" viewBox=\"0 -960 960 960\">\n",
              "    <path d=\"M120-120v-720h720v720H120Zm60-500h600v-160H180v160Zm220 220h160v-160H400v160Zm0 220h160v-160H400v160ZM180-400h160v-160H180v160Zm440 0h160v-160H620v160ZM180-180h160v-160H180v160Zm440 0h160v-160H620v160Z\"/>\n",
              "  </svg>\n",
              "    </button>\n",
              "\n",
              "  <style>\n",
              "    .colab-df-container {\n",
              "      display:flex;\n",
              "      gap: 12px;\n",
              "    }\n",
              "\n",
              "    .colab-df-convert {\n",
              "      background-color: #E8F0FE;\n",
              "      border: none;\n",
              "      border-radius: 50%;\n",
              "      cursor: pointer;\n",
              "      display: none;\n",
              "      fill: #1967D2;\n",
              "      height: 32px;\n",
              "      padding: 0 0 0 0;\n",
              "      width: 32px;\n",
              "    }\n",
              "\n",
              "    .colab-df-convert:hover {\n",
              "      background-color: #E2EBFA;\n",
              "      box-shadow: 0px 1px 2px rgba(60, 64, 67, 0.3), 0px 1px 3px 1px rgba(60, 64, 67, 0.15);\n",
              "      fill: #174EA6;\n",
              "    }\n",
              "\n",
              "    .colab-df-buttons div {\n",
              "      margin-bottom: 4px;\n",
              "    }\n",
              "\n",
              "    [theme=dark] .colab-df-convert {\n",
              "      background-color: #3B4455;\n",
              "      fill: #D2E3FC;\n",
              "    }\n",
              "\n",
              "    [theme=dark] .colab-df-convert:hover {\n",
              "      background-color: #434B5C;\n",
              "      box-shadow: 0px 1px 3px 1px rgba(0, 0, 0, 0.15);\n",
              "      filter: drop-shadow(0px 1px 2px rgba(0, 0, 0, 0.3));\n",
              "      fill: #FFFFFF;\n",
              "    }\n",
              "  </style>\n",
              "\n",
              "    <script>\n",
              "      const buttonEl =\n",
              "        document.querySelector('#df-2ac66910-9a77-4e9e-b894-889b13b29b67 button.colab-df-convert');\n",
              "      buttonEl.style.display =\n",
              "        google.colab.kernel.accessAllowed ? 'block' : 'none';\n",
              "\n",
              "      async function convertToInteractive(key) {\n",
              "        const element = document.querySelector('#df-2ac66910-9a77-4e9e-b894-889b13b29b67');\n",
              "        const dataTable =\n",
              "          await google.colab.kernel.invokeFunction('convertToInteractive',\n",
              "                                                    [key], {});\n",
              "        if (!dataTable) return;\n",
              "\n",
              "        const docLinkHtml = 'Like what you see? Visit the ' +\n",
              "          '<a target=\"_blank\" href=https://colab.research.google.com/notebooks/data_table.ipynb>data table notebook</a>'\n",
              "          + ' to learn more about interactive tables.';\n",
              "        element.innerHTML = '';\n",
              "        dataTable['output_type'] = 'display_data';\n",
              "        await google.colab.output.renderOutput(dataTable, element);\n",
              "        const docLink = document.createElement('div');\n",
              "        docLink.innerHTML = docLinkHtml;\n",
              "        element.appendChild(docLink);\n",
              "      }\n",
              "    </script>\n",
              "  </div>\n",
              "\n",
              "\n",
              "<div id=\"df-0f284f8d-e656-476f-a23f-5fc8fc8080bd\">\n",
              "  <button class=\"colab-df-quickchart\" onclick=\"quickchart('df-0f284f8d-e656-476f-a23f-5fc8fc8080bd')\"\n",
              "            title=\"Suggest charts\"\n",
              "            style=\"display:none;\">\n",
              "\n",
              "<svg xmlns=\"http://www.w3.org/2000/svg\" height=\"24px\"viewBox=\"0 0 24 24\"\n",
              "     width=\"24px\">\n",
              "    <g>\n",
              "        <path d=\"M19 3H5c-1.1 0-2 .9-2 2v14c0 1.1.9 2 2 2h14c1.1 0 2-.9 2-2V5c0-1.1-.9-2-2-2zM9 17H7v-7h2v7zm4 0h-2V7h2v10zm4 0h-2v-4h2v4z\"/>\n",
              "    </g>\n",
              "</svg>\n",
              "  </button>\n",
              "\n",
              "<style>\n",
              "  .colab-df-quickchart {\n",
              "      --bg-color: #E8F0FE;\n",
              "      --fill-color: #1967D2;\n",
              "      --hover-bg-color: #E2EBFA;\n",
              "      --hover-fill-color: #174EA6;\n",
              "      --disabled-fill-color: #AAA;\n",
              "      --disabled-bg-color: #DDD;\n",
              "  }\n",
              "\n",
              "  [theme=dark] .colab-df-quickchart {\n",
              "      --bg-color: #3B4455;\n",
              "      --fill-color: #D2E3FC;\n",
              "      --hover-bg-color: #434B5C;\n",
              "      --hover-fill-color: #FFFFFF;\n",
              "      --disabled-bg-color: #3B4455;\n",
              "      --disabled-fill-color: #666;\n",
              "  }\n",
              "\n",
              "  .colab-df-quickchart {\n",
              "    background-color: var(--bg-color);\n",
              "    border: none;\n",
              "    border-radius: 50%;\n",
              "    cursor: pointer;\n",
              "    display: none;\n",
              "    fill: var(--fill-color);\n",
              "    height: 32px;\n",
              "    padding: 0;\n",
              "    width: 32px;\n",
              "  }\n",
              "\n",
              "  .colab-df-quickchart:hover {\n",
              "    background-color: var(--hover-bg-color);\n",
              "    box-shadow: 0 1px 2px rgba(60, 64, 67, 0.3), 0 1px 3px 1px rgba(60, 64, 67, 0.15);\n",
              "    fill: var(--button-hover-fill-color);\n",
              "  }\n",
              "\n",
              "  .colab-df-quickchart-complete:disabled,\n",
              "  .colab-df-quickchart-complete:disabled:hover {\n",
              "    background-color: var(--disabled-bg-color);\n",
              "    fill: var(--disabled-fill-color);\n",
              "    box-shadow: none;\n",
              "  }\n",
              "\n",
              "  .colab-df-spinner {\n",
              "    border: 2px solid var(--fill-color);\n",
              "    border-color: transparent;\n",
              "    border-bottom-color: var(--fill-color);\n",
              "    animation:\n",
              "      spin 1s steps(1) infinite;\n",
              "  }\n",
              "\n",
              "  @keyframes spin {\n",
              "    0% {\n",
              "      border-color: transparent;\n",
              "      border-bottom-color: var(--fill-color);\n",
              "      border-left-color: var(--fill-color);\n",
              "    }\n",
              "    20% {\n",
              "      border-color: transparent;\n",
              "      border-left-color: var(--fill-color);\n",
              "      border-top-color: var(--fill-color);\n",
              "    }\n",
              "    30% {\n",
              "      border-color: transparent;\n",
              "      border-left-color: var(--fill-color);\n",
              "      border-top-color: var(--fill-color);\n",
              "      border-right-color: var(--fill-color);\n",
              "    }\n",
              "    40% {\n",
              "      border-color: transparent;\n",
              "      border-right-color: var(--fill-color);\n",
              "      border-top-color: var(--fill-color);\n",
              "    }\n",
              "    60% {\n",
              "      border-color: transparent;\n",
              "      border-right-color: var(--fill-color);\n",
              "    }\n",
              "    80% {\n",
              "      border-color: transparent;\n",
              "      border-right-color: var(--fill-color);\n",
              "      border-bottom-color: var(--fill-color);\n",
              "    }\n",
              "    90% {\n",
              "      border-color: transparent;\n",
              "      border-bottom-color: var(--fill-color);\n",
              "    }\n",
              "  }\n",
              "</style>\n",
              "\n",
              "  <script>\n",
              "    async function quickchart(key) {\n",
              "      const quickchartButtonEl =\n",
              "        document.querySelector('#' + key + ' button');\n",
              "      quickchartButtonEl.disabled = true;  // To prevent multiple clicks.\n",
              "      quickchartButtonEl.classList.add('colab-df-spinner');\n",
              "      try {\n",
              "        const charts = await google.colab.kernel.invokeFunction(\n",
              "            'suggestCharts', [key], {});\n",
              "      } catch (error) {\n",
              "        console.error('Error during call to suggestCharts:', error);\n",
              "      }\n",
              "      quickchartButtonEl.classList.remove('colab-df-spinner');\n",
              "      quickchartButtonEl.classList.add('colab-df-quickchart-complete');\n",
              "    }\n",
              "    (() => {\n",
              "      let quickchartButtonEl =\n",
              "        document.querySelector('#df-0f284f8d-e656-476f-a23f-5fc8fc8080bd button');\n",
              "      quickchartButtonEl.style.display =\n",
              "        google.colab.kernel.accessAllowed ? 'block' : 'none';\n",
              "    })();\n",
              "  </script>\n",
              "</div>\n",
              "    </div>\n",
              "  </div>\n"
            ],
            "application/vnd.google.colaboratory.intrinsic+json": {
              "type": "dataframe",
              "variable_name": "df",
              "summary": "{\n  \"name\": \"df\",\n  \"rows\": 15,\n  \"fields\": [\n    {\n      \"column\": \"Ticket ID\",\n      \"properties\": {\n        \"dtype\": \"number\",\n        \"std\": 3503,\n        \"min\": 1,\n        \"max\": 8469,\n        \"num_unique_values\": 15,\n        \"samples\": [\n          10,\n          12,\n          1\n        ],\n        \"semantic_type\": \"\",\n        \"description\": \"\"\n      }\n    },\n    {\n      \"column\": \"combined_text\",\n      \"properties\": {\n        \"dtype\": \"string\",\n        \"num_unique_values\": 15,\n        \"samples\": [\n          \"Payment issue\\n\\nMy {product_purchased} is making strange noises and not functioning properly. I suspect there might be a hardware issue. Can you please help me with this?\\n\\n} If we can, please send a \\\"request\\\" to dav The issue I'm facing is intermittent. Sometimes it works fine, but other times it acts up unexpectedly.\",\n          \"Software bug\\n\\nI'm having an issue with the {product_purchased}. Please assist.\\n\\n4. It is possible that we cannot find some type of text or a product name to identify someone like Mr. Brown.\\n\\n5. On the I've reviewed the troubleshooting steps on the official support website, but they didn't resolve the problem.\",\n          \"Product setup\\n\\nI'm having an issue with the {product_purchased}. Please assist.\\n\\nYour billing zip code is: 71701.\\n\\nWe appreciate that you have requested a website address.\\n\\nPlease double check your email address. I've tried troubleshooting steps mentioned in the user manual, but the issue persists.\"\n        ],\n        \"semantic_type\": \"\",\n        \"description\": \"\"\n      }\n    },\n    {\n      \"column\": \"reworked_information\",\n      \"properties\": {\n        \"dtype\": \"string\",\n        \"num_unique_values\": 15,\n        \"samples\": [\n          \"- Issue: Hardware Issue\\n- Affected Systems: {product_purchased}\\n- Reported Problem: Strange noises and intermittent functionality with the {product_purchased}.\",\n          \"- Issue: Development\\n- Affected Systems: Software application\\n- Reported Problem: \\n1. Missing text/product name identification for individuals like \\\"Mr. Brown.\\\"\\n2. Troubleshooting steps from official support website did not resolve the issue.\",\n          \"- Issue: Support\\n- Affected Systems: Product setup\\n- Reported Problem: The user is experiencing issues with {product_purchased}. They have provided their billing zip code and mentioned trying troubleshooting steps from the user manual but the problem persists. The user also requested assistance with setting up the product.\"\n        ],\n        \"semantic_type\": \"\",\n        \"description\": \"\"\n      }\n    },\n    {\n      \"column\": \"reworked_information_cleaned\",\n      \"properties\": {\n        \"dtype\": \"string\",\n        \"num_unique_values\": 15,\n        \"samples\": [\n          \"hardware strange noises intermittent functionality\",\n          \"development software application missing name identification individuals like mr brown troubleshooting steps official support website resolve\",\n          \"support product setup user experiencing issues provided billing zip code mentioned trying troubleshooting steps user manual problem persists user requested assistance setting product\"\n        ],\n        \"semantic_type\": \"\",\n        \"description\": \"\"\n      }\n    },\n    {\n      \"column\": \"kmeans_label\",\n      \"properties\": {\n        \"dtype\": \"int32\",\n        \"num_unique_values\": 5,\n        \"samples\": [\n          2,\n          0,\n          3\n        ],\n        \"semantic_type\": \"\",\n        \"description\": \"\"\n      }\n    },\n    {\n      \"column\": \"spectral_label\",\n      \"properties\": {\n        \"dtype\": \"int32\",\n        \"num_unique_values\": 5,\n        \"samples\": [\n          0,\n          4,\n          2\n        ],\n        \"semantic_type\": \"\",\n        \"description\": \"\"\n      }\n    }\n  ]\n}"
            }
          },
          "metadata": {}
        },
        {
          "output_type": "execute_result",
          "data": {
            "text/plain": [
              "(15, 1536)"
            ]
          },
          "metadata": {},
          "execution_count": 146
        }
      ]
    },
    {
      "cell_type": "markdown",
      "source": [
        "*   USING STREAMLIT AND NGROK FOR BETTER UI????\n",
        "\n",
        "\n"
      ],
      "metadata": {
        "id": "rL_7DCAk3bg8"
      }
    },
    {
      "cell_type": "markdown",
      "source": [
        "# ADD NEW TICKETS"
      ],
      "metadata": {
        "id": "84eBujHVW8aj"
      }
    },
    {
      "cell_type": "code",
      "source": [
        "def assign_cluster(new_embedding, existing_embeddings, threshold):\n",
        "    # Calculate distances to all existing embeddings\n",
        "    distances = euclidean_distances(new_embedding, existing_embeddings)\n",
        "    min_distance = np.min(distances)\n",
        "\n",
        "    # Decide if a new cluster is needed\n",
        "    if min_distance > threshold:\n",
        "        # Create a new cluster\n",
        "        new_cluster_id = np.max(clusters) + 1  # Assuming 'clusters' tracks existing cluster IDs\n",
        "        return new_cluster_id, True\n",
        "    else:\n",
        "        # Assign to the closest existing cluster\n",
        "        closest_cluster_id = np.argmin(distances)\n",
        "        return closest_cluster_id, False\n"
      ],
      "metadata": {
        "id": "ap-YrRVlXxXm"
      },
      "execution_count": 147,
      "outputs": []
    },
    {
      "cell_type": "code",
      "source": [
        "def recluster_all_data():\n",
        "    # Combine all embeddings and run clustering\n",
        "    global embeddings, clusters  # Ensure these are accessible and can be modified\n",
        "    embeddings = np.vstack([embeddings, new_ticket_embedding])\n",
        "    clusters = perform_kmeans_clustering(embeddings, num_clusters=len(np.unique(clusters))+1)  # Re-run clustering\n",
        "    print(\"Data reclustered based on the new ticket.\")\n"
      ],
      "metadata": {
        "id": "6xcc4PdmXzLW"
      },
      "execution_count": 148,
      "outputs": []
    },
    {
      "cell_type": "code",
      "source": [
        " ### TODO: model selection (now still static)\n",
        "\n",
        "def process_new_ticket(new_ticket_description, model_id='gpt-3.5-turbo'):\n",
        "    detailed_instructions = (\"You are a highly capable technical supporter. For each issue, provide a summary \"\n",
        "                        \"categorized under the following headers:\\n\"\n",
        "                        \"- Issue: [Specify the type of issue e.g., Support, IT-Systems, Development]\\n\"\n",
        "                        \"- Affected Systems: [List affected systems e.g., VDI, Email Servers, etc.]\\n\"\n",
        "                        \"- Reported Problem: [Describe the reported problem e.g., no connection, slow performance, etc.]\")\n",
        "\n",
        "    # Step 1: Rework the ticket description\n",
        "    reworked_ticket_text = rework_ticket_description_openai(new_ticket_description, detailed_instructions, model=model_id)\n",
        "\n",
        "    # Step 2: Generate embeddings for the new ticket\n",
        "    new_embedding = get_openai_embeddings_addon([reworked_ticket_text])\n",
        "\n",
        "    # Append new ticket\n",
        "    new_row = {'issue_title': 'MY TEST TITLE FOR NEW ISSUES', 'issue_description': new_ticket_description, 'reworked_information': reworked_ticket_text, 'reworked_information_cleaned': reworked_ticket_text}\n",
        "    return new_embedding, new_row\n",
        "\n",
        "\n",
        "def integrate_and_assign_cluster(embeddings, new_row, df, threshold=0.5):\n",
        "    new_row_df = pd.DataFrame([new_row])\n",
        "\n",
        "    # Integrate new data\n",
        "    df = pd.concat([df, new_row_df], ignore_index=True)\n",
        "\n",
        "    # Calculate distances and assign cluster\n",
        "    all_embeddings_except_last = embeddings[:-1]\n",
        "    new_embedding = embeddings[-1]\n",
        "\n",
        "    distances = euclidean_distances([new_embedding], all_embeddings_except_last)\n",
        "    min_distance = distances.min()\n",
        "\n",
        "    if min_distance > threshold:\n",
        "        new_label = df['kmeans_label'].max() + 1  # Create a new cluster label\n",
        "    else:\n",
        "        closest_index = distances.argmin()\n",
        "        new_label = df.iloc[closest_index]['kmeans_label']  # Assign to the closest existing cluster\n",
        "\n",
        "    df.at[len(df) - 1, 'kmeans_label'] = new_label  # Assign cluster label to the new ticket\n",
        "\n",
        "    # Assign cluster label to the new ticket\n",
        "    new_ticket_index = len(df) - 1\n",
        "    df.at[new_ticket_index, 'kmeans_label'] = new_label\n",
        "\n",
        "    # Return the updated DataFrame and the index of the new ticket\n",
        "    return df, new_ticket_index\n",
        "\n",
        "\n",
        "# exectute it ---------------------------------------------------------------\n",
        "new_ticket = \"Zimbrastörung, mails funktionert nicht mehr.\"\n",
        "new_embedding, new_row = process_new_ticket(new_ticket, model_id='gpt-3.5-turbo')\n",
        "\n",
        "# Append the new embedding to the existing embeddings array\n",
        "updated_embeddings = np.vstack([embeddings, new_embedding])\n",
        "\n",
        "df_updated, new_ticket_index = integrate_and_assign_cluster(updated_embeddings, new_row, df, threshold=0.5)\n",
        "\n",
        "print(\"Updated DataFrame:\")\n",
        "df_updated.tail()  # Display the last few rows of the updated DataFrame\n",
        "\n",
        "\n"
      ],
      "metadata": {
        "colab": {
          "base_uri": "https://localhost:8080/",
          "height": 505
        },
        "id": "Wesc6Im6Xzx5",
        "outputId": "ab95a004-0c47-41b6-ee0b-06e4bec4be1e"
      },
      "execution_count": 149,
      "outputs": [
        {
          "output_type": "stream",
          "name": "stdout",
          "text": [
            "Updated DataFrame:\n"
          ]
        },
        {
          "output_type": "execute_result",
          "data": {
            "text/plain": [
              "    Ticket ID                                      combined_text  \\\n",
              "11       12.0  Software bug\\n\\nI'm having an issue with the {...   \n",
              "12     8467.0  Account access\\n\\nI'm having an issue with the...   \n",
              "13     8468.0  Payment issue\\n\\nI'm having an issue with the ...   \n",
              "14     8469.0  Hardware issue\\n\\nThere seems to be a hardware...   \n",
              "15        NaN                                                NaN   \n",
              "\n",
              "                                 reworked_information  \\\n",
              "11  - Issue: Development\\n- Affected Systems: Soft...   \n",
              "12  - **Issue:** Support\\n- **Affected Systems:** ...   \n",
              "13  - Issue: Payment issue\\n- Affected Systems: Pa...   \n",
              "14  - Issue: Hardware Issue\\n- Affected Systems: {...   \n",
              "15  - Issue: Support\\n- Affected Systems: Email Se...   \n",
              "\n",
              "                         reworked_information_cleaned  kmeans_label  \\\n",
              "11  development software application missing name ...           1.0   \n",
              "12  support account access user experiencing acces...           3.0   \n",
              "13  payment payment gateway difficulty completing ...           1.0   \n",
              "14  hardware assuming specific hardware device scr...           0.0   \n",
              "15  - Issue: Support\\n- Affected Systems: Email Se...           5.0   \n",
              "\n",
              "    spectral_label                   issue_title  \\\n",
              "11             0.0                           NaN   \n",
              "12             4.0                           NaN   \n",
              "13             1.0                           NaN   \n",
              "14             1.0                           NaN   \n",
              "15             NaN  MY TEST TITLE FOR NEW ISSUES   \n",
              "\n",
              "                               issue_description  \n",
              "11                                           NaN  \n",
              "12                                           NaN  \n",
              "13                                           NaN  \n",
              "14                                           NaN  \n",
              "15  Zimbrastörung, mails funktionert nicht mehr.  "
            ],
            "text/html": [
              "\n",
              "  <div id=\"df-3dc04328-6c9f-405b-a188-30779f8dfe1a\" class=\"colab-df-container\">\n",
              "    <div>\n",
              "<style scoped>\n",
              "    .dataframe tbody tr th:only-of-type {\n",
              "        vertical-align: middle;\n",
              "    }\n",
              "\n",
              "    .dataframe tbody tr th {\n",
              "        vertical-align: top;\n",
              "    }\n",
              "\n",
              "    .dataframe thead th {\n",
              "        text-align: right;\n",
              "    }\n",
              "</style>\n",
              "<table border=\"1\" class=\"dataframe\">\n",
              "  <thead>\n",
              "    <tr style=\"text-align: right;\">\n",
              "      <th></th>\n",
              "      <th>Ticket ID</th>\n",
              "      <th>combined_text</th>\n",
              "      <th>reworked_information</th>\n",
              "      <th>reworked_information_cleaned</th>\n",
              "      <th>kmeans_label</th>\n",
              "      <th>spectral_label</th>\n",
              "      <th>issue_title</th>\n",
              "      <th>issue_description</th>\n",
              "    </tr>\n",
              "  </thead>\n",
              "  <tbody>\n",
              "    <tr>\n",
              "      <th>11</th>\n",
              "      <td>12.0</td>\n",
              "      <td>Software bug\\n\\nI'm having an issue with the {...</td>\n",
              "      <td>- Issue: Development\\n- Affected Systems: Soft...</td>\n",
              "      <td>development software application missing name ...</td>\n",
              "      <td>1.0</td>\n",
              "      <td>0.0</td>\n",
              "      <td>NaN</td>\n",
              "      <td>NaN</td>\n",
              "    </tr>\n",
              "    <tr>\n",
              "      <th>12</th>\n",
              "      <td>8467.0</td>\n",
              "      <td>Account access\\n\\nI'm having an issue with the...</td>\n",
              "      <td>- **Issue:** Support\\n- **Affected Systems:** ...</td>\n",
              "      <td>support account access user experiencing acces...</td>\n",
              "      <td>3.0</td>\n",
              "      <td>4.0</td>\n",
              "      <td>NaN</td>\n",
              "      <td>NaN</td>\n",
              "    </tr>\n",
              "    <tr>\n",
              "      <th>13</th>\n",
              "      <td>8468.0</td>\n",
              "      <td>Payment issue\\n\\nI'm having an issue with the ...</td>\n",
              "      <td>- Issue: Payment issue\\n- Affected Systems: Pa...</td>\n",
              "      <td>payment payment gateway difficulty completing ...</td>\n",
              "      <td>1.0</td>\n",
              "      <td>1.0</td>\n",
              "      <td>NaN</td>\n",
              "      <td>NaN</td>\n",
              "    </tr>\n",
              "    <tr>\n",
              "      <th>14</th>\n",
              "      <td>8469.0</td>\n",
              "      <td>Hardware issue\\n\\nThere seems to be a hardware...</td>\n",
              "      <td>- Issue: Hardware Issue\\n- Affected Systems: {...</td>\n",
              "      <td>hardware assuming specific hardware device scr...</td>\n",
              "      <td>0.0</td>\n",
              "      <td>1.0</td>\n",
              "      <td>NaN</td>\n",
              "      <td>NaN</td>\n",
              "    </tr>\n",
              "    <tr>\n",
              "      <th>15</th>\n",
              "      <td>NaN</td>\n",
              "      <td>NaN</td>\n",
              "      <td>- Issue: Support\\n- Affected Systems: Email Se...</td>\n",
              "      <td>- Issue: Support\\n- Affected Systems: Email Se...</td>\n",
              "      <td>5.0</td>\n",
              "      <td>NaN</td>\n",
              "      <td>MY TEST TITLE FOR NEW ISSUES</td>\n",
              "      <td>Zimbrastörung, mails funktionert nicht mehr.</td>\n",
              "    </tr>\n",
              "  </tbody>\n",
              "</table>\n",
              "</div>\n",
              "    <div class=\"colab-df-buttons\">\n",
              "\n",
              "  <div class=\"colab-df-container\">\n",
              "    <button class=\"colab-df-convert\" onclick=\"convertToInteractive('df-3dc04328-6c9f-405b-a188-30779f8dfe1a')\"\n",
              "            title=\"Convert this dataframe to an interactive table.\"\n",
              "            style=\"display:none;\">\n",
              "\n",
              "  <svg xmlns=\"http://www.w3.org/2000/svg\" height=\"24px\" viewBox=\"0 -960 960 960\">\n",
              "    <path d=\"M120-120v-720h720v720H120Zm60-500h600v-160H180v160Zm220 220h160v-160H400v160Zm0 220h160v-160H400v160ZM180-400h160v-160H180v160Zm440 0h160v-160H620v160ZM180-180h160v-160H180v160Zm440 0h160v-160H620v160Z\"/>\n",
              "  </svg>\n",
              "    </button>\n",
              "\n",
              "  <style>\n",
              "    .colab-df-container {\n",
              "      display:flex;\n",
              "      gap: 12px;\n",
              "    }\n",
              "\n",
              "    .colab-df-convert {\n",
              "      background-color: #E8F0FE;\n",
              "      border: none;\n",
              "      border-radius: 50%;\n",
              "      cursor: pointer;\n",
              "      display: none;\n",
              "      fill: #1967D2;\n",
              "      height: 32px;\n",
              "      padding: 0 0 0 0;\n",
              "      width: 32px;\n",
              "    }\n",
              "\n",
              "    .colab-df-convert:hover {\n",
              "      background-color: #E2EBFA;\n",
              "      box-shadow: 0px 1px 2px rgba(60, 64, 67, 0.3), 0px 1px 3px 1px rgba(60, 64, 67, 0.15);\n",
              "      fill: #174EA6;\n",
              "    }\n",
              "\n",
              "    .colab-df-buttons div {\n",
              "      margin-bottom: 4px;\n",
              "    }\n",
              "\n",
              "    [theme=dark] .colab-df-convert {\n",
              "      background-color: #3B4455;\n",
              "      fill: #D2E3FC;\n",
              "    }\n",
              "\n",
              "    [theme=dark] .colab-df-convert:hover {\n",
              "      background-color: #434B5C;\n",
              "      box-shadow: 0px 1px 3px 1px rgba(0, 0, 0, 0.15);\n",
              "      filter: drop-shadow(0px 1px 2px rgba(0, 0, 0, 0.3));\n",
              "      fill: #FFFFFF;\n",
              "    }\n",
              "  </style>\n",
              "\n",
              "    <script>\n",
              "      const buttonEl =\n",
              "        document.querySelector('#df-3dc04328-6c9f-405b-a188-30779f8dfe1a button.colab-df-convert');\n",
              "      buttonEl.style.display =\n",
              "        google.colab.kernel.accessAllowed ? 'block' : 'none';\n",
              "\n",
              "      async function convertToInteractive(key) {\n",
              "        const element = document.querySelector('#df-3dc04328-6c9f-405b-a188-30779f8dfe1a');\n",
              "        const dataTable =\n",
              "          await google.colab.kernel.invokeFunction('convertToInteractive',\n",
              "                                                    [key], {});\n",
              "        if (!dataTable) return;\n",
              "\n",
              "        const docLinkHtml = 'Like what you see? Visit the ' +\n",
              "          '<a target=\"_blank\" href=https://colab.research.google.com/notebooks/data_table.ipynb>data table notebook</a>'\n",
              "          + ' to learn more about interactive tables.';\n",
              "        element.innerHTML = '';\n",
              "        dataTable['output_type'] = 'display_data';\n",
              "        await google.colab.output.renderOutput(dataTable, element);\n",
              "        const docLink = document.createElement('div');\n",
              "        docLink.innerHTML = docLinkHtml;\n",
              "        element.appendChild(docLink);\n",
              "      }\n",
              "    </script>\n",
              "  </div>\n",
              "\n",
              "\n",
              "<div id=\"df-1f0e6b26-8909-4ca2-a8e0-64260161b9b6\">\n",
              "  <button class=\"colab-df-quickchart\" onclick=\"quickchart('df-1f0e6b26-8909-4ca2-a8e0-64260161b9b6')\"\n",
              "            title=\"Suggest charts\"\n",
              "            style=\"display:none;\">\n",
              "\n",
              "<svg xmlns=\"http://www.w3.org/2000/svg\" height=\"24px\"viewBox=\"0 0 24 24\"\n",
              "     width=\"24px\">\n",
              "    <g>\n",
              "        <path d=\"M19 3H5c-1.1 0-2 .9-2 2v14c0 1.1.9 2 2 2h14c1.1 0 2-.9 2-2V5c0-1.1-.9-2-2-2zM9 17H7v-7h2v7zm4 0h-2V7h2v10zm4 0h-2v-4h2v4z\"/>\n",
              "    </g>\n",
              "</svg>\n",
              "  </button>\n",
              "\n",
              "<style>\n",
              "  .colab-df-quickchart {\n",
              "      --bg-color: #E8F0FE;\n",
              "      --fill-color: #1967D2;\n",
              "      --hover-bg-color: #E2EBFA;\n",
              "      --hover-fill-color: #174EA6;\n",
              "      --disabled-fill-color: #AAA;\n",
              "      --disabled-bg-color: #DDD;\n",
              "  }\n",
              "\n",
              "  [theme=dark] .colab-df-quickchart {\n",
              "      --bg-color: #3B4455;\n",
              "      --fill-color: #D2E3FC;\n",
              "      --hover-bg-color: #434B5C;\n",
              "      --hover-fill-color: #FFFFFF;\n",
              "      --disabled-bg-color: #3B4455;\n",
              "      --disabled-fill-color: #666;\n",
              "  }\n",
              "\n",
              "  .colab-df-quickchart {\n",
              "    background-color: var(--bg-color);\n",
              "    border: none;\n",
              "    border-radius: 50%;\n",
              "    cursor: pointer;\n",
              "    display: none;\n",
              "    fill: var(--fill-color);\n",
              "    height: 32px;\n",
              "    padding: 0;\n",
              "    width: 32px;\n",
              "  }\n",
              "\n",
              "  .colab-df-quickchart:hover {\n",
              "    background-color: var(--hover-bg-color);\n",
              "    box-shadow: 0 1px 2px rgba(60, 64, 67, 0.3), 0 1px 3px 1px rgba(60, 64, 67, 0.15);\n",
              "    fill: var(--button-hover-fill-color);\n",
              "  }\n",
              "\n",
              "  .colab-df-quickchart-complete:disabled,\n",
              "  .colab-df-quickchart-complete:disabled:hover {\n",
              "    background-color: var(--disabled-bg-color);\n",
              "    fill: var(--disabled-fill-color);\n",
              "    box-shadow: none;\n",
              "  }\n",
              "\n",
              "  .colab-df-spinner {\n",
              "    border: 2px solid var(--fill-color);\n",
              "    border-color: transparent;\n",
              "    border-bottom-color: var(--fill-color);\n",
              "    animation:\n",
              "      spin 1s steps(1) infinite;\n",
              "  }\n",
              "\n",
              "  @keyframes spin {\n",
              "    0% {\n",
              "      border-color: transparent;\n",
              "      border-bottom-color: var(--fill-color);\n",
              "      border-left-color: var(--fill-color);\n",
              "    }\n",
              "    20% {\n",
              "      border-color: transparent;\n",
              "      border-left-color: var(--fill-color);\n",
              "      border-top-color: var(--fill-color);\n",
              "    }\n",
              "    30% {\n",
              "      border-color: transparent;\n",
              "      border-left-color: var(--fill-color);\n",
              "      border-top-color: var(--fill-color);\n",
              "      border-right-color: var(--fill-color);\n",
              "    }\n",
              "    40% {\n",
              "      border-color: transparent;\n",
              "      border-right-color: var(--fill-color);\n",
              "      border-top-color: var(--fill-color);\n",
              "    }\n",
              "    60% {\n",
              "      border-color: transparent;\n",
              "      border-right-color: var(--fill-color);\n",
              "    }\n",
              "    80% {\n",
              "      border-color: transparent;\n",
              "      border-right-color: var(--fill-color);\n",
              "      border-bottom-color: var(--fill-color);\n",
              "    }\n",
              "    90% {\n",
              "      border-color: transparent;\n",
              "      border-bottom-color: var(--fill-color);\n",
              "    }\n",
              "  }\n",
              "</style>\n",
              "\n",
              "  <script>\n",
              "    async function quickchart(key) {\n",
              "      const quickchartButtonEl =\n",
              "        document.querySelector('#' + key + ' button');\n",
              "      quickchartButtonEl.disabled = true;  // To prevent multiple clicks.\n",
              "      quickchartButtonEl.classList.add('colab-df-spinner');\n",
              "      try {\n",
              "        const charts = await google.colab.kernel.invokeFunction(\n",
              "            'suggestCharts', [key], {});\n",
              "      } catch (error) {\n",
              "        console.error('Error during call to suggestCharts:', error);\n",
              "      }\n",
              "      quickchartButtonEl.classList.remove('colab-df-spinner');\n",
              "      quickchartButtonEl.classList.add('colab-df-quickchart-complete');\n",
              "    }\n",
              "    (() => {\n",
              "      let quickchartButtonEl =\n",
              "        document.querySelector('#df-1f0e6b26-8909-4ca2-a8e0-64260161b9b6 button');\n",
              "      quickchartButtonEl.style.display =\n",
              "        google.colab.kernel.accessAllowed ? 'block' : 'none';\n",
              "    })();\n",
              "  </script>\n",
              "</div>\n",
              "    </div>\n",
              "  </div>\n"
            ],
            "application/vnd.google.colaboratory.intrinsic+json": {
              "type": "dataframe",
              "summary": "{\n  \"name\": \"df_updated\",\n  \"rows\": 5,\n  \"fields\": [\n    {\n      \"column\": \"Ticket ID\",\n      \"properties\": {\n        \"dtype\": \"number\",\n        \"std\": 4228.000078839482,\n        \"min\": 12.0,\n        \"max\": 8469.0,\n        \"num_unique_values\": 4,\n        \"samples\": [\n          8467.0,\n          8469.0,\n          12.0\n        ],\n        \"semantic_type\": \"\",\n        \"description\": \"\"\n      }\n    },\n    {\n      \"column\": \"combined_text\",\n      \"properties\": {\n        \"dtype\": \"string\",\n        \"num_unique_values\": 4,\n        \"samples\": [\n          \"Account access\\n\\nI'm having an issue with the {product_purchased}. Please assist. You are using a different browser than the one I'm using. I've performed a factory reset on my {product_purchased}, hoping it would resolve the problem, but it didn't help.\",\n          \"Hardware issue\\n\\nThere seems to be a hardware problem with my {product_purchased}. The screen is flickering, and I'm unable to use it. What should I do? I'll try my best to fix it now.\\n\\nI could get a I've reviewed the troubleshooting steps on the official support website, but they didn't resolve the problem.\",\n          \"Software bug\\n\\nI'm having an issue with the {product_purchased}. Please assist.\\n\\n4. It is possible that we cannot find some type of text or a product name to identify someone like Mr. Brown.\\n\\n5. On the I've reviewed the troubleshooting steps on the official support website, but they didn't resolve the problem.\"\n        ],\n        \"semantic_type\": \"\",\n        \"description\": \"\"\n      }\n    },\n    {\n      \"column\": \"reworked_information\",\n      \"properties\": {\n        \"dtype\": \"string\",\n        \"num_unique_values\": 5,\n        \"samples\": [\n          \"- **Issue:** Support\\n- **Affected Systems:** Account access\\n- **Reported Problem:** User is experiencing an issue with accessing their account using a different browser than usual, even after performing a factory reset on the purchased product.\",\n          \"- Issue: Support\\n- Affected Systems: Email Servers\\n- Reported Problem: Mails funktionieren nicht mehr\",\n          \"- Issue: Payment issue\\n- Affected Systems: Payment gateway\\n- Reported Problem: Difficulty in completing the purchase process for the {product_purchased}. The issue seems to be related to a specific feature or application on the device.\"\n        ],\n        \"semantic_type\": \"\",\n        \"description\": \"\"\n      }\n    },\n    {\n      \"column\": \"reworked_information_cleaned\",\n      \"properties\": {\n        \"dtype\": \"string\",\n        \"num_unique_values\": 5,\n        \"samples\": [\n          \"support account access user experiencing accessing account using different browser usual even performing factory reset purchased product\",\n          \"- Issue: Support\\n- Affected Systems: Email Servers\\n- Reported Problem: Mails funktionieren nicht mehr\",\n          \"payment payment gateway difficulty completing purchase process seems related specific feature application device\"\n        ],\n        \"semantic_type\": \"\",\n        \"description\": \"\"\n      }\n    },\n    {\n      \"column\": \"kmeans_label\",\n      \"properties\": {\n        \"dtype\": \"number\",\n        \"std\": 2.0,\n        \"min\": 0.0,\n        \"max\": 5.0,\n        \"num_unique_values\": 4,\n        \"samples\": [\n          3.0,\n          5.0,\n          1.0\n        ],\n        \"semantic_type\": \"\",\n        \"description\": \"\"\n      }\n    },\n    {\n      \"column\": \"spectral_label\",\n      \"properties\": {\n        \"dtype\": \"number\",\n        \"std\": 1.7320508075688772,\n        \"min\": 0.0,\n        \"max\": 4.0,\n        \"num_unique_values\": 3,\n        \"samples\": [\n          0.0,\n          4.0,\n          1.0\n        ],\n        \"semantic_type\": \"\",\n        \"description\": \"\"\n      }\n    },\n    {\n      \"column\": \"issue_title\",\n      \"properties\": {\n        \"dtype\": \"category\",\n        \"num_unique_values\": 1,\n        \"samples\": [\n          \"MY TEST TITLE FOR NEW ISSUES\"\n        ],\n        \"semantic_type\": \"\",\n        \"description\": \"\"\n      }\n    },\n    {\n      \"column\": \"issue_description\",\n      \"properties\": {\n        \"dtype\": \"category\",\n        \"num_unique_values\": 1,\n        \"samples\": [\n          \"Zimbrast\\u00f6rung, mails funktionert nicht mehr.\"\n        ],\n        \"semantic_type\": \"\",\n        \"description\": \"\"\n      }\n    }\n  ]\n}"
            }
          },
          "metadata": {},
          "execution_count": 149
        }
      ]
    },
    {
      "cell_type": "code",
      "source": [],
      "metadata": {
        "id": "H7YVgwqDX8nI"
      },
      "execution_count": 149,
      "outputs": []
    },
    {
      "cell_type": "code",
      "source": [
        "def visualize_with_umap(embeddings, labels, new_ticket_index):\n",
        "    # Set up UMAP\n",
        "    reducer = umap.UMAP(n_neighbors=15, min_dist=0.1, metric='euclidean', random_state=42)\n",
        "    embedding_2d = reducer.fit_transform(embeddings)\n",
        "\n",
        "    # Creating the plot\n",
        "    plt.figure(figsize=(12, 8))\n",
        "    scatter = plt.scatter(embedding_2d[:, 0], embedding_2d[:, 1], c=labels, cmap='Spectral', alpha=0.6)\n",
        "\n",
        "    # Get color of the new ticket based on its cluster label\n",
        "    color_of_new_ticket = scatter.cmap(scatter.norm(labels[new_ticket_index]))\n",
        "\n",
        "    # Highlight the new ticket\n",
        "    plt.scatter(embedding_2d[new_ticket_index, 0], embedding_2d[new_ticket_index, 1],\n",
        "                c=[color_of_new_ticket],  # Use the same color as its cluster\n",
        "                edgecolor='black',  # Black border for emphasis\n",
        "                s=200,  # Larger size\n",
        "                zorder=5,\n",
        "                label='New Ticket')  # Label for the legend\n",
        "\n",
        "    # Adding a legend, title and color bar\n",
        "    plt.colorbar(scatter, label='Cluster Label')\n",
        "    plt.legend(title='', loc='best')  # Add a title to the legend\n",
        "    plt.title('UMAP Projection of Ticket Embeddings')\n",
        "    plt.xlabel('UMAP Dimension 1')\n",
        "    plt.ylabel('UMAP Dimension 2')\n",
        "    plt.show()\n",
        "\n",
        "# Example usage:\n",
        "new_ticket_index = df.index[-1]  # Assuming the new ticket was added last\n",
        "labels = df['kmeans_label'].to_numpy()  # Ensure this column is up-to-date\n",
        "\n",
        "visualize_with_umap(embeddings, labels, new_ticket_index)\n"
      ],
      "metadata": {
        "id": "j5UaZSn9Crxo",
        "colab": {
          "base_uri": "https://localhost:8080/",
          "height": 811
        },
        "outputId": "9a0890f4-32e8-427a-fb7a-fb2da6d3c03a"
      },
      "execution_count": 150,
      "outputs": [
        {
          "output_type": "stream",
          "name": "stderr",
          "text": [
            "/usr/local/lib/python3.10/dist-packages/umap/umap_.py:1945: UserWarning: n_jobs value 1 overridden to 1 by setting random_state. Use no seed for parallelism.\n",
            "  warn(f\"n_jobs value {self.n_jobs} overridden to 1 by setting random_state. Use no seed for parallelism.\")\n",
            "/usr/local/lib/python3.10/dist-packages/umap/umap_.py:2437: UserWarning: n_neighbors is larger than the dataset size; truncating to X.shape[0] - 1\n",
            "  warn(\n"
          ]
        },
        {
          "output_type": "display_data",
          "data": {
            "text/plain": [
              "<Figure size 1200x800 with 2 Axes>"
            ],
            "image/png": "[encoded data removed]"
          },
          "metadata": {}
        }
      ]
    },
    {
      "cell_type": "code",
      "source": [
        "\n"
      ],
      "metadata": {
        "id": "zFvRoz0p_dcF"
      },
      "execution_count": 150,
      "outputs": []
    },
    {
      "cell_type": "code",
      "source": [
        "\n",
        "# Replace 'api key' with your actual Groq API key\n",
        "#client = Groq(api_key=\"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\")\n",
        "\n",
        "\n",
        "\n",
        "groq_key = os.getenv('GROQ_KEY')\n",
        "client = Groq(api_key=groq_key)\n",
        "\n",
        "\n",
        "detailed_instructions = (\"You are a highly capable technical supporter. For each issue, provide a summary \"\n",
        "                          \"categorized under the following headers:\\n\"\n",
        "                          \"- Issue: [Specify the type of issue e.g., Support, IT-Systems, Development]\\n\"\n",
        "                          \"- Affected Systems: [List affected systems e.g., VDI, Email Servers, etc.]\\n\"\n",
        "                          \"- Reported Problem: [Describe the reported problem e.g., no connection, slow performance, etc.]\")\n",
        "\n",
        "ticket_text = \"[MBA#1128940] Zimbra St\\u00f6rung komplette Schule: E-Mails senden und empfangen (kslzh.ch) funktioniert nicht. Guten Morgen    Ich habe eine eher spezielle Anfrage von der Kantonsschule Wiedikon.    Die Kantonsschule Wiedikon w\\u00fcnscht eine Layout Anpassung f\\u00fcr mobile Ger\\u00e4te zu machen f\\u00fcr das Video welches auf der Webseite der KWI Baustand der Hohlstrasse hochgeladen wurde. Die Kontaktperson bei fr\\u00fcheren Anpassungen bei euch war Noemi Schmid. Die Schule w\\u00fcnscht nun eine Kontaktaufnahme von euch  mit Herrn Philippe da Silva Wong, Tel. 044 457 71 53 um die Einzelheiten zu besprechen.  W\\u00e4re eine Kontaktaufnahme seitens von euch m\\u00f6glich?    Dieses Ticket eilt ein wenig da es schon l\\u00e4nger auf eine Antwort wartet. Ich habe das Ticket am 27.02.2024 an euch weitergeleitet ohne R\\u00fcckmeldung bis jetzt.     Freundliche Gr\\u00fcsse  Kushtrim Veliji    Bildungsdirektion Kanton Z\\u00fcrich  Mittelschul und Berufsbildungsamt  Digital Service Center Sek II  Ausstellungsstrasse 80  8090 Z\\u00fcrich  Telefon 043 259 77 27\"\n",
        "\n",
        "chat_completion = client.chat.completions.create(\n",
        "                messages=[\n",
        "                {\"role\": \"system\", \"content\": detailed_instructions},\n",
        "                {\"role\": \"user\", \"content\": ticket_text}\n",
        "            ],\n",
        "    model=\"llama3-70b-8192\"\n",
        ")\n",
        "\n",
        "print(\"\\n***************** ANTWORT **********************\\n\", chat_completion.choices[0].message.content)\n"
      ],
      "metadata": {
        "id": "D6e_PUjxqIRy",
        "colab": {
          "base_uri": "https://localhost:8080/"
        },
        "outputId": "cd463417-6b47-4ab8-8844-68f168deab62"
      },
      "execution_count": 151,
      "outputs": [
        {
          "output_type": "stream",
          "name": "stdout",
          "text": [
            "\n",
            "***************** ANTWORT **********************\n",
            " Here is the summary of the issue:\n",
            "\n",
            "**Issue:** Support\n",
            "\n",
            "**Affected Systems:** Email Servers (kslzh.ch)\n",
            "\n",
            "**Reported Problem:** The Kantonsschule Wiedikon is experiencing issues with sending and receiving emails, and the email system is not functioning.\n",
            "\n",
            "**Additional Information:** The ticket also includes a separate request for a layout adjustment for mobile devices for a video on the KWI Baustand der Hohlstrasse website. The contact person for this request is Philippe da Silva Wong.\n"
          ]
        }
      ]
    },
    {
      "cell_type": "code",
      "source": [],
      "metadata": {
        "id": "vr7-p1FGrSB-"
      },
      "execution_count": 151,
      "outputs": []
    }
  ],
  "metadata": {
    "colab": {
      "gpuType": "T4",
      "machine_shape": "hm",
      "provenance": [],
      "mount_file_id": "1twckJoyo6w0GKHcQqeSlp9zCqZN10pPC",
      "authorship_tag": "ABX9TyNI4YRONkflOd7WWKwQwXDv",
      "include_colab_link": true
    },
    "kernelspec": {
      "display_name": "Python 3",
      "name": "python3"
    },
    "language_info": {
      "name": "python"
    },
    "widgets": {
      "application/vnd.jupyter.widget-state+json": {
        "d7639d1d6e734ec08a00c01385af1144": {
          "model_module": "@jupyter-widgets/controls",
          "model_name": "DropdownModel",
          "model_module_version": "1.5.0",
          "state": {
            "_dom_classes": [],
            "_model_module": "@jupyter-widgets/controls",
            "_model_module_version": "1.5.0",
            "_model_name": "DropdownModel",
            "_options_labels": [
              "small",
              "mid",
              "large",
              "kaggle small",
              "kaggle mid",
              "kaggle all"
            ],
            "_view_count": null,
            "_view_module": "@jupyter-widgets/controls",
            "_view_module_version": "1.5.0",
            "_view_name": "DropdownView",
            "description": "Data Size:",
            "description_tooltip": null,
            "disabled": false,
            "index": 4,
            "layout": "IPY_MODEL_b0a350e7712a4f13a6c70140bf281696",
            "style": "IPY_MODEL_4e4c571bda2e401fad4e2c0b04d8e40c"
          }
        },
        "b0a350e7712a4f13a6c70140bf281696": {
          "model_module": "@jupyter-widgets/base",
          "model_name": "LayoutModel",
          "model_module_version": "1.2.0",
          "state": {
            "_model_module": "@jupyter-widgets/base",
            "_model_module_version": "1.2.0",
            "_model_name": "LayoutModel",
            "_view_count": null,
            "_view_module": "@jupyter-widgets/base",
            "_view_module_version": "1.2.0",
            "_view_name": "LayoutView",
            "align_content": null,
            "align_items": null,
            "align_self": null,
            "border": null,
            "bottom": null,
            "display": null,
            "flex": null,
            "flex_flow": null,
            "grid_area": null,
            "grid_auto_columns": null,
            "grid_auto_flow": null,
            "grid_auto_rows": null,
            "grid_column": null,
            "grid_gap": null,
            "grid_row": null,
            "grid_template_areas": null,
            "grid_template_columns": null,
            "grid_template_rows": null,
            "height": null,
            "justify_content": null,
            "justify_items": null,
            "left": null,
            "margin": null,
            "max_height": null,
            "max_width": null,
            "min_height": null,
            "min_width": null,
            "object_fit": null,
            "object_position": null,
            "order": null,
            "overflow": null,
            "overflow_x": null,
            "overflow_y": null,
            "padding": null,
            "right": null,
            "top": null,
            "visibility": null,
            "width": null
          }
        },
        "4e4c571bda2e401fad4e2c0b04d8e40c": {
          "model_module": "@jupyter-widgets/controls",
          "model_name": "DescriptionStyleModel",
          "model_module_version": "1.5.0",
          "state": {
            "_model_module": "@jupyter-widgets/controls",
            "_model_module_version": "1.5.0",
            "_model_name": "DescriptionStyleModel",
            "_view_count": null,
            "_view_module": "@jupyter-widgets/base",
            "_view_module_version": "1.2.0",
            "_view_name": "StyleView",
            "description_width": ""
          }
        },
        "02b018a5da7848de8e38210a90f16f9a": {
          "model_module": "@jupyter-widgets/controls",
          "model_name": "DropdownModel",
          "model_module_version": "1.5.0",
          "state": {
            "_dom_classes": [],
            "_model_module": "@jupyter-widgets/controls",
            "_model_module_version": "1.5.0",
            "_model_name": "DropdownModel",
            "_options_labels": [
              "small_initial",
              "mid_initial",
              "large_initial",
              "kaggle_small_initial",
              "kaggle_mid_initial",
              "kaggle_all_initial"
            ],
            "_view_count": null,
            "_view_module": "@jupyter-widgets/controls",
            "_view_module_version": "1.5.0",
            "_view_name": "DropdownView",
            "description": "Embedding:",
            "description_tooltip": null,
            "disabled": false,
            "index": 4,
            "layout": "IPY_MODEL_aa5d5770b36e474b8afb1eca9713d82b",
            "style": "IPY_MODEL_9d5c83aacb364adb8dc28a817ac6a1d7"
          }
        },
        "aa5d5770b36e474b8afb1eca9713d82b": {
          "model_module": "@jupyter-widgets/base",
          "model_name": "LayoutModel",
          "model_module_version": "1.2.0",
          "state": {
            "_model_module": "@jupyter-widgets/base",
            "_model_module_version": "1.2.0",
            "_model_name": "LayoutModel",
            "_view_count": null,
            "_view_module": "@jupyter-widgets/base",
            "_view_module_version": "1.2.0",
            "_view_name": "LayoutView",
            "align_content": null,
            "align_items": null,
            "align_self": null,
            "border": null,
            "bottom": null,
            "display": null,
            "flex": null,
            "flex_flow": null,
            "grid_area": null,
            "grid_auto_columns": null,
            "grid_auto_flow": null,
            "grid_auto_rows": null,
            "grid_column": null,
            "grid_gap": null,
            "grid_row": null,
            "grid_template_areas": null,
            "grid_template_columns": null,
            "grid_template_rows": null,
            "height": null,
            "justify_content": null,
            "justify_items": null,
            "left": null,
            "margin": null,
            "max_height": null,
            "max_width": null,
            "min_height": null,
            "min_width": null,
            "object_fit": null,
            "object_position": null,
            "order": null,
            "overflow": null,
            "overflow_x": null,
            "overflow_y": null,
            "padding": null,
            "right": null,
            "top": null,
            "visibility": null,
            "width": null
          }
        },
        "9d5c83aacb364adb8dc28a817ac6a1d7": {
          "model_module": "@jupyter-widgets/controls",
          "model_name": "DescriptionStyleModel",
          "model_module_version": "1.5.0",
          "state": {
            "_model_module": "@jupyter-widgets/controls",
            "_model_module_version": "1.5.0",
            "_model_name": "DescriptionStyleModel",
            "_view_count": null,
            "_view_module": "@jupyter-widgets/base",
            "_view_module_version": "1.2.0",
            "_view_name": "StyleView",
            "description_width": ""
          }
        },
        "aed6ea474cfb45278c527bcfd400ca28": {
          "model_module": "@jupyter-widgets/controls",
          "model_name": "DropdownModel",
          "model_module_version": "1.5.0",
          "state": {
            "_dom_classes": [],
            "_model_module": "@jupyter-widgets/controls",
            "_model_module_version": "1.5.0",
            "_model_name": "DropdownModel",
            "_options_labels": [
              "OpenAI",
              "LAMA"
            ],
            "_view_count": null,
            "_view_module": "@jupyter-widgets/controls",
            "_view_module_version": "1.5.0",
            "_view_name": "DropdownView",
            "description": "LLM:",
            "description_tooltip": null,
            "disabled": false,
            "index": 0,
            "layout": "IPY_MODEL_d0516acdf78143a288f30433239f4949",
            "style": "IPY_MODEL_523e1fcadad7435f83436a969ee7c3f8"
          }
        },
        "d0516acdf78143a288f30433239f4949": {
          "model_module": "@jupyter-widgets/base",
          "model_name": "LayoutModel",
          "model_module_version": "1.2.0",
          "state": {
            "_model_module": "@jupyter-widgets/base",
            "_model_module_version": "1.2.0",
            "_model_name": "LayoutModel",
            "_view_count": null,
            "_view_module": "@jupyter-widgets/base",
            "_view_module_version": "1.2.0",
            "_view_name": "LayoutView",
            "align_content": null,
            "align_items": null,
            "align_self": null,
            "border": null,
            "bottom": null,
            "display": null,
            "flex": null,
            "flex_flow": null,
            "grid_area": null,
            "grid_auto_columns": null,
            "grid_auto_flow": null,
            "grid_auto_rows": null,
            "grid_column": null,
            "grid_gap": null,
            "grid_row": null,
            "grid_template_areas": null,
            "grid_template_columns": null,
            "grid_template_rows": null,
            "height": null,
            "justify_content": null,
            "justify_items": null,
            "left": null,
            "margin": null,
            "max_height": null,
            "max_width": null,
            "min_height": null,
            "min_width": null,
            "object_fit": null,
            "object_position": null,
            "order": null,
            "overflow": null,
            "overflow_x": null,
            "overflow_y": null,
            "padding": null,
            "right": null,
            "top": null,
            "visibility": null,
            "width": null
          }
        },
        "523e1fcadad7435f83436a969ee7c3f8": {
          "model_module": "@jupyter-widgets/controls",
          "model_name": "DescriptionStyleModel",
          "model_module_version": "1.5.0",
          "state": {
            "_model_module": "@jupyter-widgets/controls",
            "_model_module_version": "1.5.0",
            "_model_name": "DescriptionStyleModel",
            "_view_count": null,
            "_view_module": "@jupyter-widgets/base",
            "_view_module_version": "1.2.0",
            "_view_name": "StyleView",
            "description_width": ""
          }
        },
        "04028ed26f5940319d8bccb788f52869": {
          "model_module": "@jupyter-widgets/controls",
          "model_name": "IntSliderModel",
          "model_module_version": "1.5.0",
          "state": {
            "_dom_classes": [],
            "_model_module": "@jupyter-widgets/controls",
            "_model_module_version": "1.5.0",
            "_model_name": "IntSliderModel",
            "_view_count": null,
            "_view_module": "@jupyter-widgets/controls",
            "_view_module_version": "1.5.0",
            "_view_name": "IntSliderView",
            "continuous_update": true,
            "description": "Dimensions:",
            "description_tooltip": null,
            "disabled": false,
            "layout": "IPY_MODEL_c7f395095e27493e8e5aa91058ade501",
            "max": 500,
            "min": 10,
            "orientation": "horizontal",
            "readout": true,
            "readout_format": "d",
            "step": 10,
            "style": "IPY_MODEL_e43f1ec319724e2d8c5d8618fcfdd08f",
            "value": 10
          }
        },
        "c7f395095e27493e8e5aa91058ade501": {
          "model_module": "@jupyter-widgets/base",
          "model_name": "LayoutModel",
          "model_module_version": "1.2.0",
          "state": {
            "_model_module": "@jupyter-widgets/base",
            "_model_module_version": "1.2.0",
            "_model_name": "LayoutModel",
            "_view_count": null,
            "_view_module": "@jupyter-widgets/base",
            "_view_module_version": "1.2.0",
            "_view_name": "LayoutView",
            "align_content": null,
            "align_items": null,
            "align_self": null,
            "border": null,
            "bottom": null,
            "display": null,
            "flex": null,
            "flex_flow": null,
            "grid_area": null,
            "grid_auto_columns": null,
            "grid_auto_flow": null,
            "grid_auto_rows": null,
            "grid_column": null,
            "grid_gap": null,
            "grid_row": null,
            "grid_template_areas": null,
            "grid_template_columns": null,
            "grid_template_rows": null,
            "height": null,
            "justify_content": null,
            "justify_items": null,
            "left": null,
            "margin": null,
            "max_height": null,
            "max_width": null,
            "min_height": null,
            "min_width": null,
            "object_fit": null,
            "object_position": null,
            "order": null,
            "overflow": null,
            "overflow_x": null,
            "overflow_y": null,
            "padding": null,
            "right": null,
            "top": null,
            "visibility": null,
            "width": null
          }
        },
        "e43f1ec319724e2d8c5d8618fcfdd08f": {
          "model_module": "@jupyter-widgets/controls",
          "model_name": "SliderStyleModel",
          "model_module_version": "1.5.0",
          "state": {
            "_model_module": "@jupyter-widgets/controls",
            "_model_module_version": "1.5.0",
            "_model_name": "SliderStyleModel",
            "_view_count": null,
            "_view_module": "@jupyter-widgets/base",
            "_view_module_version": "1.2.0",
            "_view_name": "StyleView",
            "description_width": "",
            "handle_color": null
          }
        },
        "c1dfb455f46447c987854e4c0255fb63": {
          "model_module": "@jupyter-widgets/controls",
          "model_name": "CheckboxModel",
          "model_module_version": "1.5.0",
          "state": {
            "_dom_classes": [],
            "_model_module": "@jupyter-widgets/controls",
            "_model_module_version": "1.5.0",
            "_model_name": "CheckboxModel",
            "_view_count": null,
            "_view_module": "@jupyter-widgets/controls",
            "_view_module_version": "1.5.0",
            "_view_name": "CheckboxView",
            "description": "Use all dimensions",
            "description_tooltip": null,
            "disabled": false,
            "indent": true,
            "layout": "IPY_MODEL_d2e88f80a1414820937b595c7c30a647",
            "style": "IPY_MODEL_420d07febcd244ba9de06deafafc533b",
            "value": true
          }
        },
        "d2e88f80a1414820937b595c7c30a647": {
          "model_module": "@jupyter-widgets/base",
          "model_name": "LayoutModel",
          "model_module_version": "1.2.0",
          "state": {
            "_model_module": "@jupyter-widgets/base",
            "_model_module_version": "1.2.0",
            "_model_name": "LayoutModel",
            "_view_count": null,
            "_view_module": "@jupyter-widgets/base",
            "_view_module_version": "1.2.0",
            "_view_name": "LayoutView",
            "align_content": null,
            "align_items": null,
            "align_self": null,
            "border": null,
            "bottom": null,
            "display": null,
            "flex": null,
            "flex_flow": null,
            "grid_area": null,
            "grid_auto_columns": null,
            "grid_auto_flow": null,
            "grid_auto_rows": null,
            "grid_column": null,
            "grid_gap": null,
            "grid_row": null,
            "grid_template_areas": null,
            "grid_template_columns": null,
            "grid_template_rows": null,
            "height": null,
            "justify_content": null,
            "justify_items": null,
            "left": null,
            "margin": null,
            "max_height": null,
            "max_width": null,
            "min_height": null,
            "min_width": null,
            "object_fit": null,
            "object_position": null,
            "order": null,
            "overflow": null,
            "overflow_x": null,
            "overflow_y": null,
            "padding": null,
            "right": null,
            "top": null,
            "visibility": null,
            "width": null
          }
        },
        "420d07febcd244ba9de06deafafc533b": {
          "model_module": "@jupyter-widgets/controls",
          "model_name": "DescriptionStyleModel",
          "model_module_version": "1.5.0",
          "state": {
            "_model_module": "@jupyter-widgets/controls",
            "_model_module_version": "1.5.0",
            "_model_name": "DescriptionStyleModel",
            "_view_count": null,
            "_view_module": "@jupyter-widgets/base",
            "_view_module_version": "1.2.0",
            "_view_name": "StyleView",
            "description_width": ""
          }
        },
        "c99b6264fd6546da841351d9839caf94": {
          "model_module": "@jupyter-widgets/controls",
          "model_name": "SelectMultipleModel",
          "model_module_version": "1.5.0",
          "state": {
            "_dom_classes": [],
            "_model_module": "@jupyter-widgets/controls",
            "_model_module_version": "1.5.0",
            "_model_name": "SelectMultipleModel",
            "_options_labels": [
              "dbscan",
              "kmeans",
              "ward",
              "spectral"
            ],
            "_view_count": null,
            "_view_module": "@jupyter-widgets/controls",
            "_view_module_version": "1.5.0",
            "_view_name": "SelectMultipleView",
            "description": "Clustering Algorithms:",
            "description_tooltip": null,
            "disabled": false,
            "index": [
              1
            ],
            "layout": "IPY_MODEL_dde60fabc92e4600902b87ffa0f45058",
            "rows": 5,
            "style": "IPY_MODEL_5c37037d12b2457c93544a4a31481910"
          }
        },
        "dde60fabc92e4600902b87ffa0f45058": {
          "model_module": "@jupyter-widgets/base",
          "model_name": "LayoutModel",
          "model_module_version": "1.2.0",
          "state": {
            "_model_module": "@jupyter-widgets/base",
            "_model_module_version": "1.2.0",
            "_model_name": "LayoutModel",
            "_view_count": null,
            "_view_module": "@jupyter-widgets/base",
            "_view_module_version": "1.2.0",
            "_view_name": "LayoutView",
            "align_content": null,
            "align_items": null,
            "align_self": null,
            "border": null,
            "bottom": null,
            "display": null,
            "flex": null,
            "flex_flow": null,
            "grid_area": null,
            "grid_auto_columns": null,
            "grid_auto_flow": null,
            "grid_auto_rows": null,
            "grid_column": null,
            "grid_gap": null,
            "grid_row": null,
            "grid_template_areas": null,
            "grid_template_columns": null,
            "grid_template_rows": null,
            "height": null,
            "justify_content": null,
            "justify_items": null,
            "left": null,
            "margin": null,
            "max_height": null,
            "max_width": null,
            "min_height": null,
            "min_width": null,
            "object_fit": null,
            "object_position": null,
            "order": null,
            "overflow": null,
            "overflow_x": null,
            "overflow_y": null,
            "padding": null,
            "right": null,
            "top": null,
            "visibility": null,
            "width": null
          }
        },
        "5c37037d12b2457c93544a4a31481910": {
          "model_module": "@jupyter-widgets/controls",
          "model_name": "DescriptionStyleModel",
          "model_module_version": "1.5.0",
          "state": {
            "_model_module": "@jupyter-widgets/controls",
            "_model_module_version": "1.5.0",
            "_model_name": "DescriptionStyleModel",
            "_view_count": null,
            "_view_module": "@jupyter-widgets/base",
            "_view_module_version": "1.2.0",
            "_view_name": "StyleView",
            "description_width": ""
          }
        },
        "66568bc3026e4df481b92d7044cab490": {
          "model_module": "@jupyter-widgets/controls",
          "model_name": "ButtonModel",
          "model_module_version": "1.5.0",
          "state": {
            "_dom_classes": [],
            "_model_module": "@jupyter-widgets/controls",
            "_model_module_version": "1.5.0",
            "_model_name": "ButtonModel",
            "_view_count": null,
            "_view_module": "@jupyter-widgets/controls",
            "_view_module_version": "1.5.0",
            "_view_name": "ButtonView",
            "button_style": "",
            "description": "Start Analysis",
            "disabled": false,
            "icon": "",
            "layout": "IPY_MODEL_7d2e751d608140ffbba14d1f0c7ac6f5",
            "style": "IPY_MODEL_8eea9732e8964ccb80834ebb5b73254a",
            "tooltip": ""
          }
        },
        "7d2e751d608140ffbba14d1f0c7ac6f5": {
          "model_module": "@jupyter-widgets/base",
          "model_name": "LayoutModel",
          "model_module_version": "1.2.0",
          "state": {
            "_model_module": "@jupyter-widgets/base",
            "_model_module_version": "1.2.0",
            "_model_name": "LayoutModel",
            "_view_count": null,
            "_view_module": "@jupyter-widgets/base",
            "_view_module_version": "1.2.0",
            "_view_name": "LayoutView",
            "align_content": null,
            "align_items": null,
            "align_self": null,
            "border": null,
            "bottom": null,
            "display": null,
            "flex": null,
            "flex_flow": null,
            "grid_area": null,
            "grid_auto_columns": null,
            "grid_auto_flow": null,
            "grid_auto_rows": null,
            "grid_column": null,
            "grid_gap": null,
            "grid_row": null,
            "grid_template_areas": null,
            "grid_template_columns": null,
            "grid_template_rows": null,
            "height": null,
            "justify_content": null,
            "justify_items": null,
            "left": null,
            "margin": null,
            "max_height": null,
            "max_width": null,
            "min_height": null,
            "min_width": null,
            "object_fit": null,
            "object_position": null,
            "order": null,
            "overflow": null,
            "overflow_x": null,
            "overflow_y": null,
            "padding": null,
            "right": null,
            "top": null,
            "visibility": null,
            "width": null
          }
        },
        "8eea9732e8964ccb80834ebb5b73254a": {
          "model_module": "@jupyter-widgets/controls",
          "model_name": "ButtonStyleModel",
          "model_module_version": "1.5.0",
          "state": {
            "_model_module": "@jupyter-widgets/controls",
            "_model_module_version": "1.5.0",
            "_model_name": "ButtonStyleModel",
            "_view_count": null,
            "_view_module": "@jupyter-widgets/base",
            "_view_module_version": "1.2.0",
            "_view_name": "StyleView",
            "button_color": null,
            "font_weight": ""
          }
        },
        "9851d8b7f5934079865a8cedc0cd742c": {
          "model_module": "@jupyter-widgets/controls",
          "model_name": "IntProgressModel",
          "model_module_version": "1.5.0",
          "state": {
            "_dom_classes": [],
            "_model_module": "@jupyter-widgets/controls",
            "_model_module_version": "1.5.0",
            "_model_name": "IntProgressModel",
            "_view_count": null,
            "_view_module": "@jupyter-widgets/controls",
            "_view_module_version": "1.5.0",
            "_view_name": "ProgressView",
            "bar_style": "info",
            "description": "Loading:",
            "description_tooltip": null,
            "layout": "IPY_MODEL_369a9d375a97488bb6e5abad62c0fa0f",
            "max": 11,
            "min": 0,
            "orientation": "horizontal",
            "style": "IPY_MODEL_0da85d81e5ea4f9a85d2fe281d308a26",
            "value": 0
          }
        },
        "369a9d375a97488bb6e5abad62c0fa0f": {
          "model_module": "@jupyter-widgets/base",
          "model_name": "LayoutModel",
          "model_module_version": "1.2.0",
          "state": {
            "_model_module": "@jupyter-widgets/base",
            "_model_module_version": "1.2.0",
            "_model_name": "LayoutModel",
            "_view_count": null,
            "_view_module": "@jupyter-widgets/base",
            "_view_module_version": "1.2.0",
            "_view_name": "LayoutView",
            "align_content": null,
            "align_items": null,
            "align_self": null,
            "border": null,
            "bottom": null,
            "display": null,
            "flex": null,
            "flex_flow": null,
            "grid_area": null,
            "grid_auto_columns": null,
            "grid_auto_flow": null,
            "grid_auto_rows": null,
            "grid_column": null,
            "grid_gap": null,
            "grid_row": null,
            "grid_template_areas": null,
            "grid_template_columns": null,
            "grid_template_rows": null,
            "height": null,
            "justify_content": null,
            "justify_items": null,
            "left": null,
            "margin": null,
            "max_height": null,
            "max_width": null,
            "min_height": null,
            "min_width": null,
            "object_fit": null,
            "object_position": null,
            "order": null,
            "overflow": null,
            "overflow_x": null,
            "overflow_y": null,
            "padding": null,
            "right": null,
            "top": null,
            "visibility": null,
            "width": null
          }
        },
        "0da85d81e5ea4f9a85d2fe281d308a26": {
          "model_module": "@jupyter-widgets/controls",
          "model_name": "ProgressStyleModel",
          "model_module_version": "1.5.0",
          "state": {
            "_model_module": "@jupyter-widgets/controls",
            "_model_module_version": "1.5.0",
            "_model_name": "ProgressStyleModel",
            "_view_count": null,
            "_view_module": "@jupyter-widgets/base",
            "_view_module_version": "1.2.0",
            "_view_name": "StyleView",
            "bar_color": null,
            "description_width": ""
          }
        }
      }
    }
  },
  "nbformat": 4,
  "nbformat_minor": 0
}